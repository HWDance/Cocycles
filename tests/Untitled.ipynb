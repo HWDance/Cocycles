{
 "cells": [
  {
   "cell_type": "code",
   "execution_count": 46,
   "id": "51d2afeb-b03f-4971-bf47-80ede2790b82",
   "metadata": {},
   "outputs": [],
   "source": [
    "import torch\n",
    "from torch.distributions import Normal, Laplace\n",
    "from testarchitectures import get_stock_transforms\n",
    "from zuko.flows import UnconditionalDistribution\n",
    "from causalflows.flows import CausalFlow\n",
    "from causal_cocycle.conditionalflow_helper import sample_do, sample_cf\n",
    "from torch.distributions import MultivariateNormal, Independent"
   ]
  },
  {
   "cell_type": "code",
   "execution_count": 61,
   "id": "2351b7bd-8cac-404d-a335-5b7f624763f0",
   "metadata": {},
   "outputs": [
    {
     "data": {
      "text/plain": [
       "CausalNormalizingFlow(\n",
       "  (transform): AutoregressiveTransform()\n",
       "  (base): Independent(Laplace(loc: torch.Size([10, 2]), scale: torch.Size([10, 2])), 1)\n",
       ")"
      ]
     },
     "execution_count": 61,
     "metadata": {},
     "output_type": "execute_result"
    }
   ],
   "source": [
    "torch.manual_seed(0)\n",
    "# Context X: 10 rows, single context dimension\n",
    "N = 10\n",
    "X = torch.randn(N, 1)\n",
    "# Feature Y will be output dim of flow; set y_dim=1\n",
    "y_dim = 2\n",
    "\n",
    "# Build a trivial transform for test (e.g., MAF or affine)\n",
    "transforms = get_stock_transforms(x_dim=1, y_dim=y_dim, mask=None)\n",
    "transform = transforms[0]\n",
    "\n",
    "# Base distribution: 1-D event shape\n",
    "#base = UnconditionalDistribution(\n",
    "#    Normal,\n",
    "#    loc=torch.zeros(1,y_dim),\n",
    "#    scale=torch.ones(1,y_dim),\n",
    "#    buffer=True\n",
    "#)\n",
    "\n",
    "\n",
    "base = UnconditionalDistribution(\n",
    "    MultivariateNormal,\n",
    "    loc=torch.zeros(y_dim),\n",
    "    covariance_matrix=torch.eye(y_dim),\n",
    "    buffer=True\n",
    ")\n",
    "\n",
    "def base_fn(c):\n",
    "    # ignore context c for unconditional base\n",
    "    loc = torch.zeros(y_dim, device=c.device)\n",
    "    scale = torch.ones(y_dim, device=c.device)\n",
    "    return Independent(Laplace(loc, scale), reinterpreted_batch_ndims=1)\n",
    "\n",
    "base = base_fn\n",
    "\n",
    "# Construct causal flow\n",
    "flow = CausalFlow(transform=transform, base=base)\n",
    "\n",
    "flow(X)"
   ]
  },
  {
   "cell_type": "code",
   "execution_count": 69,
   "id": "3eb58722-0cab-402c-ac36-1c3794081183",
   "metadata": {},
   "outputs": [
    {
     "data": {
      "text/plain": [
       "tensor([[1.3397, 0.9906],\n",
       "        [1.5576, 0.8785],\n",
       "        [1.7817, 0.7633],\n",
       "        [1.4552, 0.9312],\n",
       "        [1.6516, 0.8302],\n",
       "        [1.6890, 0.8110],\n",
       "        [1.4749, 0.9211],\n",
       "        [1.4232, 0.9476],\n",
       "        [1.6082, 0.8525],\n",
       "        [1.5707, 0.8718]], grad_fn=<AddBackward0>)"
      ]
     },
     "execution_count": 69,
     "metadata": {},
     "output_type": "execute_result"
    }
   ],
   "source": [
    "transforms[0](X)(torch.ones((N,y_dim)))"
   ]
  }
 ],
 "metadata": {
  "kernelspec": {
   "display_name": "Python 3 (ipykernel)",
   "language": "python",
   "name": "python3"
  },
  "language_info": {
   "codemirror_mode": {
    "name": "ipython",
    "version": 3
   },
   "file_extension": ".py",
   "mimetype": "text/x-python",
   "name": "python",
   "nbconvert_exporter": "python",
   "pygments_lexer": "ipython3",
   "version": "3.12.2"
  }
 },
 "nbformat": 4,
 "nbformat_minor": 5
}
