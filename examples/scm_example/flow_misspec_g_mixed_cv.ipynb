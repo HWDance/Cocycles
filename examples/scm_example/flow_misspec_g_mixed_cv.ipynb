{
 "cells": [
  {
   "cell_type": "code",
   "execution_count": 1,
   "id": "628a7a6e-2a1c-4c30-9f81-859c1b55c2c1",
   "metadata": {},
   "outputs": [],
   "source": [
    "import torch\n",
    "import torch.nn as nn\n",
    "from torch.utils.data import DataLoader, TensorDataset\n",
    "import matplotlib.pyplot as plt\n",
    "from zuko.flows.autoregressive import MaskedAutoregressiveTransform\n",
    "from zuko.transforms import (\n",
    "    MonotonicAffineTransform,\n",
    "    MonotonicRQSTransform,\n",
    ")\n",
    "from zuko.flows import UnconditionalDistribution\n",
    "from torch.distributions import Cauchy, Normal, Laplace, Bernoulli, Uniform\n",
    "from causalflows.flows import CausalFlow\n",
    "import copy\n",
    "from causal_cocycle.causalflow_helper import select_and_train_flow\n",
    "import numpy as np\n",
    "from scipy.stats import betaprime, norm\n",
    "from architectures import get_nsf_transforms, get_maf_transforms"
   ]
  },
  {
   "cell_type": "code",
   "execution_count": 2,
   "id": "98fd7403-1381-42ec-85d0-3fb058d35398",
   "metadata": {},
   "outputs": [],
   "source": [
    "# ---------------- helper: draw |NBP(0.1,0.1)| ---------\n",
    "def draw_abs_nbp(size):\n",
    "    \"\"\"\n",
    "    |NBP(0.1,0.1)|  where  NB P  is  Normal–Beta-Prime:\n",
    "      τ   ~ BetaPrime(0.1, 0.1)\n",
    "      V|τ ~ N(0, τ)\n",
    "      return |V|\n",
    "    \"\"\"\n",
    "    τ   = betaprime.rvs(0.1, 0.1, size=size)\n",
    "    v   = norm.rvs(scale=np.sqrt(τ))\n",
    "    return np.abs(v)\n",
    "\n",
    "class MixedTails:\n",
    "\n",
    "    def __init__(self,):\n",
    "        return\n",
    "\n",
    "    def sample(self, size):\n",
    "        b = Bernoulli(1/2).sample(size)\n",
    "        u1 = Normal(0,1).sample(size).abs()\n",
    "        u2 = torch.tensor(draw_abs_nbp(size))\n",
    "        return u1*b - u2*(1-b)\n",
    "    \n",
    "\n",
    "# ── Data ─────────────────────────────────────────────────────\n",
    "seed = 0\n",
    "torch.manual_seed(seed)\n",
    "N_train = 1000\n",
    "device = torch.device(\"cuda\" if torch.cuda.is_available() else \"cpu\")\n",
    "\n",
    "Y0 = MixedTails().sample((N_train,1)).to(device)\n",
    "Y1 = 2*Y0\n",
    "\n",
    "\n",
    "# ── Build base and transforms ───────────────────────────────\n",
    "d = 1   # dim(Y)\n",
    "# two bases (here both Gaussian; you could swap in Laplace etc.)\n",
    "base0 = UnconditionalDistribution(Normal, loc=torch.zeros(d), scale=torch.ones(d), buffer=True)\n",
    "base1 = UnconditionalDistribution(Normal, loc=torch.zeros(d), scale=torch.ones(d), buffer=True)\n",
    "\n",
    "# transform\n",
    "nsf0,nsf1 = get_nsf_transforms()\n",
    "maf0,maf1 = get_maf_transforms()\n",
    "\n",
    "# instantiate two flows\n",
    "flows0 = [CausalFlow(transform=maf0, base=base0).to(device),\n",
    "          CausalFlow(transform=nsf0, base=base0).to(device)]\n",
    "flows1 = [copy.deepcopy(CausalFlow(transform=maf1, base=base1).to(device)),\n",
    "          copy.deepcopy(CausalFlow(transform=nsf1, base=base1).to(device))]"
   ]
  },
  {
   "cell_type": "code",
   "execution_count": 3,
   "id": "5f274ccf-711e-4085-9a3d-a7472a785f0d",
   "metadata": {},
   "outputs": [],
   "source": [
    "# CV + retrain across all transforms\n",
    "flow0, test_nll0, best_idx0, cv_scores0 = select_and_train_flow(\n",
    "    flows0, Y0, train_fraction=0.5, k_folds=2,\n",
    "    num_epochs=1000, batch_size=128, lr=1e-2, \n",
    ")\n",
    "\n",
    "# CV + retrain across all transforms\n",
    "flow1, test_nll1, best_idx1, cv_scores1 = select_and_train_flow(\n",
    "    flows1, Y1, train_fraction=0.5, k_folds=2,\n",
    "    num_epochs=1000, batch_size=128, lr=1e-2, \n",
    ")"
   ]
  },
  {
   "cell_type": "code",
   "execution_count": 4,
   "id": "26b6e57a-296f-4ca6-afe1-3131b61ad370",
   "metadata": {},
   "outputs": [
    {
     "name": "stdout",
     "output_type": "stream",
     "text": [
      "0\n"
     ]
    }
   ],
   "source": [
    "best_architecture = np.argmin(np.array(cv_scores1) + np.array(cv_scores0))\n",
    "print(best_architecture)"
   ]
  }
 ],
 "metadata": {
  "kernelspec": {
   "display_name": "Python 3 (ipykernel)",
   "language": "python",
   "name": "python3"
  },
  "language_info": {
   "codemirror_mode": {
    "name": "ipython",
    "version": 3
   },
   "file_extension": ".py",
   "mimetype": "text/x-python",
   "name": "python",
   "nbconvert_exporter": "python",
   "pygments_lexer": "ipython3",
   "version": "3.12.2"
  }
 },
 "nbformat": 4,
 "nbformat_minor": 5
}
