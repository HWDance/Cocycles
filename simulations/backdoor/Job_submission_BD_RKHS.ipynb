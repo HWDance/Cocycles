{
 "cells": [
  {
   "cell_type": "code",
   "execution_count": 1,
   "id": "72a59cee-b7ab-4170-b0cd-59c7a13d5b37",
   "metadata": {},
   "outputs": [],
   "source": [
    "# Imports\n",
    "import torch\n",
    "from torch.distributions import Normal,Laplace,StudentT\n",
    "from dask_jobqueue import SLURMCluster\n",
    "from distributed import Client\n",
    "import BD_RKHS"
   ]
  },
  {
   "cell_type": "code",
   "execution_count": 2,
   "id": "a695c839-1fe5-4eaf-ab88-8f7af6aa098b",
   "metadata": {},
   "outputs": [],
   "source": [
    "# Args set up\n",
    "N = 5000\n",
    "ntrial = 20\n",
    "flip_prob = 0.05"
   ]
  },
  {
   "cell_type": "code",
   "execution_count": 3,
   "id": "b99e436e-5e61-4c1c-9fb3-68e8851b0f59",
   "metadata": {},
   "outputs": [
    {
     "name": "stderr",
     "output_type": "stream",
     "text": [
      "/nfs/ghome/live/danceh/.local/mambaforge/envs/cocycles/lib/python3.12/site-packages/distributed/node.py:182: UserWarning: Port 11111 is already in use.\n",
      "Perhaps you already have a cluster running?\n",
      "Hosting the HTTP server on port 41577 instead\n",
      "  warnings.warn(\n",
      "2024-03-18 18:12:38,932 - distributed.deploy.adaptive_core - INFO - Adaptive stop\n"
     ]
    }
   ],
   "source": [
    "cluster = SLURMCluster(\n",
    "    n_workers=0,\n",
    "    memory=\"32GB\",\n",
    "    processes=1,\n",
    "    cores=1,\n",
    "    scheduler_options={\n",
    "        \"dashboard_address\": \":11111\",\n",
    "        \"allowed_failures\": 10\n",
    "    },\n",
    "    job_cpu=1,\n",
    "    walltime=\"24:0:0\",\n",
    ")\n",
    "cluster.adapt(minimum=0, maximum=100)\n",
    "client = Client(cluster)\n",
    "\n",
    "futures = []\n",
    "for seed in range(ntrial):\n",
    "    f1 = client.submit(BD_RKHS.run_experiment,seed,flip_prob,N)\n",
    "    futures += [f1]\n",
    "\n",
    "results = client.gather(futures)\n",
    "\n",
    "client.close()\n",
    "cluster.close()"
   ]
  },
  {
   "cell_type": "code",
   "execution_count": 4,
   "id": "9d7457d8-bd4f-4ec0-a43c-0697b71bb124",
   "metadata": {},
   "outputs": [],
   "source": [
    "client.close()\n",
    "cluster.close()"
   ]
  },
  {
   "cell_type": "code",
   "execution_count": 5,
   "id": "908df222-877e-474c-a901-3104453d03e5",
   "metadata": {},
   "outputs": [],
   "source": [
    "torch.save(f = \"BD_RKHS_results_new_N={0}_trials={1}_flip_prob={2}.pt\".format(N,ntrial,flip_prob), obj = results)"
   ]
  }
 ],
 "metadata": {
  "kernelspec": {
   "display_name": "Python 3 (ipykernel)",
   "language": "python",
   "name": "python3"
  },
  "language_info": {
   "codemirror_mode": {
    "name": "ipython",
    "version": 3
   },
   "file_extension": ".py",
   "mimetype": "text/x-python",
   "name": "python",
   "nbconvert_exporter": "python",
   "pygments_lexer": "ipython3",
   "version": "3.12.2"
  }
 },
 "nbformat": 4,
 "nbformat_minor": 5
}
