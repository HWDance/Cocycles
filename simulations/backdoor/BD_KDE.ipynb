{
 "cells": [
  {
   "cell_type": "code",
   "execution_count": 1,
   "id": "67c7bd58-2d8b-47bb-8f83-e0320d12d625",
   "metadata": {},
   "outputs": [],
   "source": [
    "# Imports\n",
    "import torch\n",
    "from torch.distributions import Normal,Uniform,Gamma,Laplace,OneHotCategorical\n",
    "import os\n",
    "import time\n",
    "from functools import partial\n",
    "\n",
    "from causal_cocycle.kernels import *\n",
    "from causal_cocycle.kde import *\n",
    "from causal_cocycle.regression_functionals import *\n",
    "from causal_cocycle.distribution_estimation import *\n",
    "from causal_cocycle.helper_functions import propensity_score\n",
    "\n",
    "from BD import *\n",
    "\n",
    "import matplotlib.pyplot as plt\n",
    "import os\n",
    "os.environ[\"KMP_DUPLICSCORE_LIB_OK\"]=\"TRUE\""
   ]
  },
  {
   "cell_type": "code",
   "execution_count": 2,
   "id": "1971311d-a36d-414d-9f98-faccc9e38696",
   "metadata": {},
   "outputs": [],
   "source": [
    "# DGP set up\n",
    "seed = 0 \n",
    "N = 5000\n",
    "D = 10\n",
    "Zcorr = 0.0\n",
    "flip_prob = 0.05\n",
    "coeffs = 1/torch.linspace(1,D,D)[:,None]**1\n",
    "coeffs *= 1/coeffs.sum()\n",
    "means = torch.tensor([[-2, 0]]).T # means for mixture U dist\n",
    "scales = torch.tensor([[-1.0, 1.0]]).T  # variances for mixture U dist\n",
    "probabilities = torch.tensor([1/2,1/2]) # mixture probs for mixture U dist\n",
    "base_dists = [IG(10,10),IG(1,1)]\n",
    "noise_dist = Mixture1D(base_dists,probabilities,means,scales)\n",
    "Zdist1 = Normal(0,1.5)\n",
    "Zdist2 = Normal(0,1.5)\n",
    "feature = lambda x,t: (torch.sigmoid(x)<=t.T).float()"
   ]
  },
  {
   "cell_type": "code",
   "execution_count": 16,
   "id": "109a75da-75d2-4507-853c-2c06a96be92a",
   "metadata": {},
   "outputs": [],
   "source": [
    "# Method + opt set up\n",
    "functional = NW_functional\n",
    "kernel = gaussian_kernel\n",
    "subsample = False\n",
    "subsamples = N\n",
    "nfold = 5\n",
    "hyper_ls = 2**torch.linspace(-5,5,10)\n",
    "t_train = torch.linspace(0,1,1000)[:,None]"
   ]
  },
  {
   "cell_type": "code",
   "execution_count": 17,
   "id": "d7214612-c8a3-4b55-b301-ca78b3fb8c57",
   "metadata": {},
   "outputs": [],
   "source": [
    "# DGP\n",
    "torch.manual_seed(seed)\n",
    "Z1,X1,Y1 = DGP(N,D,partial(policy,flip_prob = flip_prob),coeffs,Zcorr,Zdist1,noise_dist)\n",
    "Z2,X2,Y2 = DGP(N,D,partial(policy,flip_prob = flip_prob),coeffs,Zcorr,Zdist2,noise_dist)\n",
    "Z,X,Y = (torch.row_stack((Z1,Z2)),\n",
    "         torch.row_stack((X1,X2)),\n",
    "         torch.row_stack((Y1,Y2)))"
   ]
  },
  {
   "cell_type": "code",
   "execution_count": 18,
   "id": "3a641773-bdfa-421e-a072-1250c20c0c84",
   "metadata": {},
   "outputs": [
    {
     "name": "stderr",
     "output_type": "stream",
     "text": [
      "/tmp/ipykernel_1045493/3982350929.py:17: UserWarning: To copy construct from a tensor, it is recommended to use sourceTensor.clone().detach() or sourceTensor.clone().detach().requires_grad_(True), rather than torch.tensor(sourceTensor).\n",
      "  k_x = kernel(lengthscale = torch.tensor(ls,requires_grad = True))\n"
     ]
    }
   ],
   "source": [
    "# Training on data\n",
    "inputs_train = X\n",
    "outputs_train = feature(Y,t_train).float()\n",
    "\n",
    "# Getting median heuristic lengthscale\n",
    "Distances= torch.tril((X[...,None]-X[...,None].T)**2)\n",
    "ls = torch.ones(D+1)\n",
    "for d in range(D+1):\n",
    "    ls[d] = (Distances[:,d][Distances[:,d]!=0].median()/2).sqrt()\n",
    "\n",
    "# Defining hyper-grid for cross-validation\n",
    "hyper_grid = []\n",
    "for h in range(len(hyper_ls)):\n",
    "    hyper_grid.append(hyper_ls[h]*ls)\n",
    "                      \n",
    "# Defining model\n",
    "k_x = kernel(lengthscale = torch.tensor(ls,requires_grad = True))\n",
    "regressor = functional(k_x)\n",
    "CE = Conditional_Expectation_Regressor(regressor)\n",
    "\n",
    "# Doing CV over hypers\n",
    "CE.CVgridsearch(inputs_train,outputs_train,\n",
    "                        nfold = nfold, \n",
    "                        subsample = subsample,\n",
    "                        subsamples = subsamples,\n",
    "                        hyper_grid = hyper_grid)"
   ]
  },
  {
   "cell_type": "code",
   "execution_count": 19,
   "id": "da176518-dedd-4cee-a355-2c75ffe03734",
   "metadata": {},
   "outputs": [],
   "source": [
    "# Sampling from interventional distribution\n",
    "nintsample = 5000\n",
    "torch.manual_seed(seed)\n",
    "Zint1,Xint1,Yint1 = DGP(nintsample,D,partial(new_policy),coeffs,Zcorr,Zdist1,noise_dist)\n",
    "Zint2,Xint2,Yint2 = DGP(nintsample,D,partial(new_policy),coeffs,Zcorr,Zdist2,noise_dist)"
   ]
  },
  {
   "cell_type": "code",
   "execution_count": 20,
   "id": "c466bd6e-4f1e-4412-a334-774146cae7cf",
   "metadata": {},
   "outputs": [],
   "source": [
    "# cdf values\n",
    "t = torch.linspace(0,1,1000)[:,None]\n",
    "\n",
    "# Getting CDF\n",
    "kde_cdf_int1 = CE.forward(feature(Y2,t).float(),X2,Xint1).mean(0).detach()\n",
    "kde_cdf_int2 = CE.forward(feature(Y1,t).float(),X1,Xint2).mean(0).detach()\n",
    "\n",
    "# True cdf\n",
    "true_cdf_int1 = feature(Yint1,t).mean(0)\n",
    "true_cdf_int2 = feature(Yint2,t).mean(0)"
   ]
  },
  {
   "cell_type": "code",
   "execution_count": 8,
   "id": "e8660d1f-01ce-4d2c-a2ff-b854bc393244",
   "metadata": {},
   "outputs": [],
   "source": [
    "# Training propensity score models\n",
    "Propensity_score_model_est = []\n",
    "Propensity_score_model_policy = []\n",
    "Propensity_score_model_new_policy = []\n",
    "\n",
    "# Estimating mistake probabilities\n",
    "Xtrue = policy(Z)\n",
    "states = torch.unique(X[:,0]).int()\n",
    "nstate = len(states)\n",
    "P = torch.zeros((nstate,nstate))\n",
    "for i in range(nstate):\n",
    "    for j in range(nstate):\n",
    "        P[i,j] = ((X[:,0]==states[i])*(Xtrue[:,0]==states[j])).float().sum()\n",
    "P *= 1/P.sum(0)\n",
    "\n",
    "propensity_model_est = propensity_score(P,policy)\n",
    "propensity_model_new_policy = propensity_score(torch.eye(len(P)),new_policy)  \n",
    "propensity_model_policy = propensity_score(torch.eye(len(P)),policy)  "
   ]
  },
  {
   "cell_type": "code",
   "execution_count": 9,
   "id": "d1e3759c-dd67-4033-9371-044b784ad83d",
   "metadata": {},
   "outputs": [],
   "source": [
    "# Getting IPW estimator\n",
    "weights_int1 = (propensity_model_new_policy(X1,Z1)/\n",
    "                propensity_model_est(X1,Z1)).detach()\n",
    "\n",
    "weights_int2 = (propensity_model_new_policy(X2,Z2)/\n",
    "                propensity_model_est(X2,Z2)).detach()\n",
    "\n",
    "#weights_int1 *= len(weights_int1)/weights_int1.sum()\n",
    "#weights_int2 *= len(weights_int2)/weights_int2.sum()\n",
    "\n",
    "IPW_cdf_int1 = (weights_int1[:,None]*feature(Y1,t)).mean(0)\n",
    "IPW_cdf_int2 = (weights_int2[:,None]*feature(Y2,t)).mean(0)"
   ]
  },
  {
   "cell_type": "code",
   "execution_count": 10,
   "id": "0e2d0129-9e1e-4bdb-8f05-9ab661bc1683",
   "metadata": {},
   "outputs": [],
   "source": [
    "# Getting DR estimator (start by adding on IPW term to outcome model\n",
    "kde_DR_cdf_int1 = kde_cdf_int1 + IPW_cdf_int1\n",
    "kde_DR_cdf_int2 = kde_cdf_int2 + IPW_cdf_int2\n",
    "\n",
    "# Updating DR estimator\n",
    "kde_DR_cdf_int1 -= (weights_int1[:,None]*CE.forward(feature(Y2,t).float(),X2,Xint1)).mean(0).detach()\n",
    "kde_DR_cdf_int2 -= (weights_int2[:,None]*CE.forward(feature(Y1,t).float(),X1,Xint2)).mean(0).detach()"
   ]
  },
  {
   "cell_type": "code",
   "execution_count": 21,
   "id": "280997ea-f3f8-425a-b5ab-354b2e36c1a2",
   "metadata": {},
   "outputs": [
    {
     "name": "stdout",
     "output_type": "stream",
     "text": [
      "tensor(0.0156)\n",
      "tensor(0.0542)\n",
      "tensor(0.0338)\n",
      "tensor(0.0131)\n",
      "tensor(0.0256)\n",
      "tensor(0.0221)\n"
     ]
    }
   ],
   "source": [
    "print((kde_cdf_int1 -true_cdf_int1).abs().mean())\n",
    "print((IPW_cdf_int1 -true_cdf_int1).abs().mean())\n",
    "print((kde_DR_cdf_int1 -true_cdf_int1).abs().mean())\n",
    "\n",
    "print((kde_cdf_int2 -true_cdf_int2).abs().mean())\n",
    "print((IPW_cdf_int2 -true_cdf_int2).abs().mean())\n",
    "print((kde_DR_cdf_int2 -true_cdf_int2).abs().mean())"
   ]
  },
  {
   "cell_type": "code",
   "execution_count": 22,
   "id": "dd058f5c-dff4-4bf8-9312-d7c74c0133ca",
   "metadata": {},
   "outputs": [
    {
     "data": {
      "text/plain": [
       "[<matplotlib.lines.Line2D at 0x7f69f9535190>]"
      ]
     },
     "execution_count": 22,
     "metadata": {},
     "output_type": "execute_result"
    },
    {
     "data": {
      "image/png": "[encoded data removed]",
      "text/plain": [
       "<Figure size 640x480 with 1 Axes>"
      ]
     },
     "metadata": {},
     "output_type": "display_data"
    }
   ],
   "source": [
    "plt.plot(kde_cdf_int2)\n",
    "plt.plot(true_cdf_int2)"
   ]
  }
 ],
 "metadata": {
  "kernelspec": {
   "display_name": "Python 3 (ipykernel)",
   "language": "python",
   "name": "python3"
  },
  "language_info": {
   "codemirror_mode": {
    "name": "ipython",
    "version": 3
   },
   "file_extension": ".py",
   "mimetype": "text/x-python",
   "name": "python",
   "nbconvert_exporter": "python",
   "pygments_lexer": "ipython3",
   "version": "3.12.2"
  }
 },
 "nbformat": 4,
 "nbformat_minor": 5
}
