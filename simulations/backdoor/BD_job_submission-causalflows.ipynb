{
 "cells": [
  {
   "cell_type": "code",
   "execution_count": 1,
   "id": "72a59cee-b7ab-4170-b0cd-59c7a13d5b37",
   "metadata": {},
   "outputs": [],
   "source": [
    "# Imports\n",
    "from dask_jobqueue import SLURMCluster\n",
    "from distributed import Client\n",
    "from BD_causalflow_gauss import run as run_flows_gaus\n",
    "from BD_causalflow_laplace import run as run_flows_laplace\n",
    "from BD_causalflow_ta import run as run_flows_tailadaptive"
   ]
  },
  {
   "cell_type": "code",
   "execution_count": 2,
   "id": "b99e436e-5e61-4c1c-9fb3-68e8851b0f59",
   "metadata": {
    "scrolled": true
   },
   "outputs": [],
   "source": [
    "# Cluster creation\n",
    "cluster = SLURMCluster(\n",
    "    n_workers=0,\n",
    "    memory=\"32GB\",\n",
    "    processes=1,\n",
    "    cores=1,\n",
    "    scheduler_options={\n",
    "        \"dashboard_address\": \":10095\",\n",
    "        \"allowed_failures\": 10\n",
    "    },\n",
    "    job_cpu=1,\n",
    "    walltime=\"24:0:0\",\n",
    "    #job_extra_directives = [\"-p medium,fast,cpu\"],\n",
    ")\n",
    "cluster.adapt(minimum=0, maximum=100)\n",
    "client = Client(cluster)"
   ]
  },
  {
   "cell_type": "code",
   "execution_count": 3,
   "id": "7e961bea-8adf-4de4-91cc-6e51c6cf2a5f",
   "metadata": {},
   "outputs": [],
   "source": [
    "# Submitting jobs\n",
    "n = 1000\n",
    "ntrial = 20\n",
    "base = \"MixedTails\"\n",
    "futures = []\n",
    "for seed in range(ntrial):\n",
    "    f2 = client.submit(run_flows_gaus,seed,n, base = base)\n",
    "    f3 = client.submit(run_flows_laplace,seed,n, base = base)\n",
    "    f4 = client.submit(run_flows_tailadaptive,seed,n, base = base)\n",
    "    futures += [f2,f3,f4]"
   ]
  },
  {
   "cell_type": "code",
   "execution_count": 4,
   "id": "5eea4c57-e280-45a3-b163-63df177d7130",
   "metadata": {
    "scrolled": true
   },
   "outputs": [
    {
     "data": {
      "text/plain": [
       "[<Future: pending, key: run-51d863a1d525824330b8d6c2a9e7d796>,\n",
       " <Future: pending, key: run-a0765cfb8344de44b06ca9a9d9c5496a>,\n",
       " <Future: pending, key: run-f913d44f8990040229e7b8dc4c5d8313>,\n",
       " <Future: pending, key: run-3145be8d54ddb6e2985efe5af0322d4d>,\n",
       " <Future: pending, key: run-0df315d859465d6aa8721444ecb44bd7>,\n",
       " <Future: pending, key: run-3af64f32f8e6c489c97cdf808aecf46b>,\n",
       " <Future: pending, key: run-7e4a37472dee62fb9f9a12fd5125126b>,\n",
       " <Future: pending, key: run-26687ae6fb524804828ccba4eb620af6>,\n",
       " <Future: pending, key: run-ba16c02f9f7a212fe158c744ef30bd60>,\n",
       " <Future: pending, key: run-d5dfbbd12e83bbf350e79617dfa44204>,\n",
       " <Future: pending, key: run-3f02a886d2ab2313a10e7da4b0d56a2a>,\n",
       " <Future: pending, key: run-dee827e16f819d1944a43d3c3198917f>,\n",
       " <Future: pending, key: run-1644f83664998a4d40f589666296fcc6>,\n",
       " <Future: pending, key: run-12c7768c1555232d816c49f25d4b236b>,\n",
       " <Future: pending, key: run-2366dda7c4ab5a7cb2e05b795b0c50d8>,\n",
       " <Future: pending, key: run-6385a7dceb771893b924dc9ae4be2acc>,\n",
       " <Future: pending, key: run-f8ad9b62a19ec282efb568bf89d37d7c>,\n",
       " <Future: pending, key: run-08879f7875c6bb56102158bebb0cf197>,\n",
       " <Future: pending, key: run-b6c9746ab400a67ce7d4d95b4b801b5b>,\n",
       " <Future: pending, key: run-69ca783ff982a41275cfd91ec1685d06>,\n",
       " <Future: pending, key: run-9b346d147343b347bc87edf0262b9f88>,\n",
       " <Future: pending, key: run-9834c50c69e5872f667c92c47511b327>,\n",
       " <Future: pending, key: run-6661012e7c11889786c4b1e0b4c9ce7c>,\n",
       " <Future: pending, key: run-dca1bf080020aae9fa71d33e4d0f73f3>,\n",
       " <Future: pending, key: run-5e2533c73d707ffd375003e6350bf296>,\n",
       " <Future: pending, key: run-8b4cade3ae2e8a529976e89df408ac01>,\n",
       " <Future: pending, key: run-31271880c58a982b2368265482b30c0c>,\n",
       " <Future: pending, key: run-1129550c4afa8f9ee9129c1bab33d06f>,\n",
       " <Future: pending, key: run-5781b28967305c2fed55b4d9edc50b0d>,\n",
       " <Future: pending, key: run-dd8c1cf04008746da54ad92d6699167b>,\n",
       " <Future: pending, key: run-efb488f3dd1f2787fb7eda5965373782>,\n",
       " <Future: pending, key: run-6e58c241453f93bfe3c62d7c18b92535>,\n",
       " <Future: pending, key: run-75671e5d68a57b95858e844303ce5d5d>,\n",
       " <Future: pending, key: run-39a552194820ae4d2c6113b6fa596b69>,\n",
       " <Future: pending, key: run-388c8f56edfb5dc22717f166784fda55>,\n",
       " <Future: pending, key: run-ccc986ffd897ec13cd7c9cd371833a39>,\n",
       " <Future: pending, key: run-3aff9a0cd3691ddf77e24e89664b132e>,\n",
       " <Future: pending, key: run-4922fccfd7c454d13e35432baf954d6a>,\n",
       " <Future: pending, key: run-a824f9d97fbb26e47207a5c4beacf8ef>,\n",
       " <Future: pending, key: run-70d90e39d1da1f0d5f891fc528d823db>,\n",
       " <Future: pending, key: run-e5af27b6d3f91ba6a9cdfaed4d14b271>,\n",
       " <Future: pending, key: run-59fce987f8f7486e4538d78b76c18e51>,\n",
       " <Future: pending, key: run-d6784a4c5ad3269e33827061aafa7d50>,\n",
       " <Future: pending, key: run-16c065bb3caea9333e519a28e4dfc546>,\n",
       " <Future: pending, key: run-5162e6a6cb60715f1eb7ccc06f6c4ec4>,\n",
       " <Future: pending, key: run-423b3f5d32b17f4865bb36830ec85805>,\n",
       " <Future: pending, key: run-96709ab0375e51d35bc0032221050dbf>,\n",
       " <Future: pending, key: run-294ff8830ce3519239e6e6628ff5235d>,\n",
       " <Future: pending, key: run-16c7fc313946062739b7ef7cbce4d096>,\n",
       " <Future: pending, key: run-272099e5403f2525724c54d9f9e55516>,\n",
       " <Future: pending, key: run-5e6a59bd4e40a39e779aaf1d20d3acf4>,\n",
       " <Future: pending, key: run-0a8ea7919cd4f77964d9a2827911a38f>,\n",
       " <Future: pending, key: run-d7f8dbfbfed63a4f253c78249812f469>,\n",
       " <Future: pending, key: run-396d55de1a3ce04a4ab2136b16097154>,\n",
       " <Future: pending, key: run-363d8a00ef2197d0412aa1f4ff2e9e01>,\n",
       " <Future: pending, key: run-8c1943fc85c3d99e14b3d7f36f52c9b9>,\n",
       " <Future: pending, key: run-fbda08264e448f9b0060078e662e1a41>,\n",
       " <Future: pending, key: run-f9d23fdebbc1db991ab0b72f2aaaf116>,\n",
       " <Future: pending, key: run-c5c7670b5c636677ddf6a97fc8e18a37>,\n",
       " <Future: pending, key: run-f58befe8bb3476d9a066a8275a1c5e22>]"
      ]
     },
     "execution_count": 4,
     "metadata": {},
     "output_type": "execute_result"
    }
   ],
   "source": [
    "futures"
   ]
  },
  {
   "cell_type": "code",
   "execution_count": 5,
   "id": "9d7457d8-bd4f-4ec0-a43c-0697b71bb124",
   "metadata": {},
   "outputs": [],
   "source": [
    "# Getting results\n",
    "results = client.gather(futures)"
   ]
  },
  {
   "cell_type": "code",
   "execution_count": 6,
   "id": "0b41be7a-e251-4c05-a3a2-d6d3c43150a3",
   "metadata": {},
   "outputs": [],
   "source": [
    "# Closing client\n",
    "client.close()\n",
    "cluster.close()"
   ]
  },
  {
   "cell_type": "code",
   "execution_count": 7,
   "id": "908df222-877e-474c-a901-3104453d03e5",
   "metadata": {},
   "outputs": [],
   "source": [
    "import torch\n",
    "torch.save(f = \"BD_results_cflows_trials={0}_n={1}_base={2}.pt\".format(ntrial,n,base), obj = results)"
   ]
  }
 ],
 "metadata": {
  "kernelspec": {
   "display_name": "Python 3 (ipykernel)",
   "language": "python",
   "name": "python3"
  },
  "language_info": {
   "codemirror_mode": {
    "name": "ipython",
    "version": 3
   },
   "file_extension": ".py",
   "mimetype": "text/x-python",
   "name": "python",
   "nbconvert_exporter": "python",
   "pygments_lexer": "ipython3",
   "version": "3.12.2"
  }
 },
 "nbformat": 4,
 "nbformat_minor": 5
}
