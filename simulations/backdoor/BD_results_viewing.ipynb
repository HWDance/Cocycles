{
 "cells": [
  {
   "cell_type": "code",
   "execution_count": 2,
   "id": "4f778f9c-39ab-4abf-9fd3-3ff2ac2cb334",
   "metadata": {},
   "outputs": [],
   "source": [
    "import torch\n",
    "import matplotlib.pyplot as plt\n",
    "import os\n",
    "os.environ[\"KMP_DUPLICSCORE_LIB_OK\"]=\"TRUE\""
   ]
  },
  {
   "cell_type": "code",
   "execution_count": 19,
   "id": "9f995d0a-8d78-4200-a049-c5eca4e02918",
   "metadata": {},
   "outputs": [],
   "source": [
    "# Importing results again\n",
    "N=500\n",
    "trials = 20\n",
    "batch_size = 64\n",
    "flip_prob = 0.05\n",
    "nhyper_c = 9\n",
    "nhyper_s = 5\n",
    "models = 5\n",
    "ncdf = 1000\n",
    "results_RKHS = torch.load('BD_RKHS_results_new_N={3}_trials={0}_flip_prob={2}.pt'.format(trials,batch_size,flip_prob,N))\n",
    "results_cocycles = torch.load('BD_cocycles_results_new_N={3}_trials={0}_flip_prob={2}.pt'.format(trials,batch_size,flip_prob,2*N))\n",
    "results_SCM = torch.load('BD_SCM_results_new_N={3}_trials={0}_batchsize={1}_scheduler=True_flip_prob={2}.pt'.format(trials,batch_size,flip_prob,N))\n",
    "\n",
    "#results_kde = torch.load('BD_RKHS_results_N={0}_trials={1}_flip_prob={2}.pt'.format(N,trials,flip_prob))\n",
    "\n",
    "# checking results agree with specified parameters\n",
    "#assert(len(results_SCM) == trials*((models-1)*nhyper+1))"
   ]
  },
  {
   "cell_type": "code",
   "execution_count": 20,
   "id": "4877fec5-543a-4ffd-ae45-da03b58c8b07",
   "metadata": {},
   "outputs": [],
   "source": [
    "Model_names = [\"Cocycles\",\"SCM G\",\"SCM L\", \"SCM TA\",\"RKHS\"]\n",
    "\n",
    "RKHS_PI = torch.zeros((trials,2,ncdf))\n",
    "RKHS_DR = torch.zeros((trials,2,ncdf))\n",
    "cocycle_loss = torch.zeros((trials,nhyper_c,2))\n",
    "cocycle_PI = torch.zeros((trials,nhyper_c,2,ncdf))\n",
    "cocycle_DR = torch.zeros((trials,nhyper_c,2,ncdf))\n",
    "scm_g_loss = torch.zeros((trials,nhyper_s,2))\n",
    "scm_g_PI = torch.zeros((trials,nhyper_s,2,ncdf))\n",
    "scm_g_DR = torch.zeros((trials,nhyper_s,2,ncdf))\n",
    "scm_l_loss = torch.zeros((trials,nhyper_s,2))\n",
    "scm_l_PI = torch.zeros((trials,nhyper_s,2,ncdf))\n",
    "scm_l_DR = torch.zeros((trials,nhyper_s,2,ncdf))\n",
    "scm_ta_loss = torch.zeros((trials,nhyper_s,2))\n",
    "scm_ta_PI = torch.zeros((trials,nhyper_s,2,ncdf))\n",
    "scm_ta_DR = torch.zeros((trials,nhyper_s,2,ncdf))\n",
    "\n",
    "r  = 0\n",
    "trials = 20\n",
    "for t in range(trials):\n",
    "    RKHS_PI[t,0] = results_RKHS[t]['plug-in_1']-results_RKHS[t]['true-1']\n",
    "    RKHS_PI[t,1] = results_RKHS[t]['plug-in_2']-results_RKHS[t]['true-2']\n",
    "    RKHS_DR[t,0] = results_RKHS[t]['DR-1']-results_RKHS[t]['true-1']\n",
    "    RKHS_DR[t,1] = results_RKHS[t]['DR-2']-results_RKHS[t]['true-2']\n",
    "        \n",
    "    for h in range(nhyper_cocycle):\n",
    "        cocycle_loss[t,h] = results_cocycles[r]['val_loss_PI'] \n",
    "        cocycle_PI[t,h,0] = results_cocycles[r]['ATE_PI']-results_RKHS[t]['true-1']\n",
    "        cocycle_PI[t,h,1] = results_cocycles[r]['ATE_PI']-results_RKHS[t]['true-2']\n",
    "        cocycle_DR[t,h,0] = results_cocycles[r]['ATE_DR'].mean(0)-results_RKHS[t]['true-1']\n",
    "        cocycle_DR[t,h,1] = results_cocycles[r]['ATE_DR'].mean(0)-results_RKHS[t]['true-2']\n",
    "    \n",
    "    for h in range(nhyper_scm):    \n",
    "        scm_g_loss[t,h] = results_SCM[r*3]['val_loss']\n",
    "        scm_g_PI[t,h,0] = results_SCM[r*3]['plug-in_1']-results_SCM[r*3]['true-1']\n",
    "        scm_g_PI[t,h,1] = results_SCM[r*3]['plug-in_2']-results_SCM[r*3]['true-2']\n",
    "        scm_g_DR[t,h,0] = results_SCM[r*3]['DR-1']-results_SCM[r*3]['true-1']\n",
    "        scm_g_DR[t,h,1] = results_SCM[r*3]['DR-2']-results_SCM[r*3]['true-2']\n",
    "        scm_l_loss[t,h] = results_SCM[r*3+1]['val_loss']\n",
    "        scm_l_PI[t,h,0] = results_SCM[r*3+1]['plug-in_1']-results_SCM[r*3]['true-1']\n",
    "        scm_l_PI[t,h,1] = results_SCM[r*3+1]['plug-in_2']-results_SCM[r*3]['true-2']\n",
    "        scm_l_DR[t,h,0] = results_SCM[r*3+1]['DR-1']-results_SCM[r*3]['true-1']\n",
    "        scm_l_DR[t,h,1] = results_SCM[r*3+1]['DR-2']-results_SCM[r*3]['true-2']\n",
    "        scm_ta_loss[t,h] = results_SCM[r*3+2]['val_loss']\n",
    "        scm_ta_PI[t,h,0] = results_SCM[r*3+2]['plug-in_1']-results_SCM[r*3]['true-1']\n",
    "        scm_ta_PI[t,h,1] = results_SCM[r*3+2]['plug-in_2']-results_SCM[r*3]['true-2']\n",
    "        scm_ta_DR[t,h,0] = results_SCM[r*3+2]['DR-1']-results_SCM[r*3]['true-1']\n",
    "        scm_ta_DR[t,h,1] = results_SCM[r*3+2]['DR-2']-results_SCM[r*3]['true-2']\n",
    "        r += 1\n",
    "\n",
    "best_inds_cocycle = cocycle_loss.sort(1)[1][:,0,:]\n",
    "best_inds_scm_g = scm_g_loss.sort(1)[1][:,0,:]\n",
    "best_inds_scm_l = scm_l_loss.sort(1)[1][:,0,:]\n",
    "best_inds_scm_ta = scm_ta_loss.sort(1)[1][:,0,:]"
   ]
  },
  {
   "cell_type": "code",
   "execution_count": 21,
   "id": "5e5f1f44-d056-4c93-be1c-e5a6670db185",
   "metadata": {},
   "outputs": [],
   "source": [
    "# Getting final list of objects\n",
    "objs_PI = [cocycle_PI,scm_g_PI,scm_l_PI,scm_ta_PI]\n",
    "objs_DR = [cocycle_DR,scm_g_DR,scm_l_DR,scm_ta_DR]\n",
    "\n",
    "inds = [best_inds_cocycle,\n",
    "        best_inds_scm_g,\n",
    "        best_inds_scm_l,\n",
    "        best_inds_scm_ta]\n",
    "\n",
    "for o in range(len(objs_PI)):\n",
    "    for t in range(trials):\n",
    "        for f in range(2):\n",
    "            objs_PI[o][t,:,f] = objs_PI[o][t,inds[o][t,f],f] \n",
    "            objs_DR[o][t,:,f] = objs_DR[o][t,inds[o][t,f],f]\n",
    "            \n",
    "    objs_PI[o] = objs_PI[o][:,0]\n",
    "    objs_DR[o] = objs_DR[o][:,0]\n",
    "objs_PI += [RKHS_PI]\n",
    "objs_DR += [RKHS_DR]"
   ]
  },
  {
   "cell_type": "code",
   "execution_count": 22,
   "id": "e92ba104-1753-4e11-b1fa-125d138a0381",
   "metadata": {},
   "outputs": [
    {
     "name": "stdout",
     "output_type": "stream",
     "text": [
      "Cocycles PI : tensor(0.0082) tensor(0.0041)\n",
      "SCM G PI : tensor(0.0751) tensor(0.0194)\n",
      "SCM L PI : tensor(0.0759) tensor(0.0188)\n",
      "SCM TA PI : tensor(0.0648) tensor(0.0108)\n",
      "RKHS PI : tensor(0.0553) tensor(0.0068)\n",
      "\n",
      "\n",
      "Cocycles DR : tensor(nan) tensor(nan)\n",
      "SCM G DR : tensor(0.0290) tensor(0.0099)\n",
      "SCM L DR : tensor(0.0259) tensor(0.0077)\n",
      "SCM TA DR : tensor(0.0272) tensor(0.0092)\n",
      "RKHS DR : tensor(0.0319) tensor(0.0124)\n"
     ]
    }
   ],
   "source": [
    "for o in range(len(objs_PI)):\n",
    "    print(Model_names[o],\"PI :\",objs_PI[o].mean(1).abs().mean(1).mean(),objs_PI[o].mean(1).abs().mean(1).var()**0.5)\n",
    "print(\"\\n\")\n",
    "for o in range(len(objs_DR)):\n",
    "    print(Model_names[o],\"DR :\",objs_DR[o].mean(1).abs().mean(1).mean(),objs_DR[o].mean(1).abs().mean(1).var()**0.5)"
   ]
  },
  {
   "cell_type": "code",
   "execution_count": 6,
   "id": "4eadf1c2-ea36-4fb9-b3ee-dbbafec26d72",
   "metadata": {},
   "outputs": [],
   "source": [
    "objs = objs_PI + objs_DR\n",
    "model_select = [0,5,1,2,3,4,9]\n",
    "labels = [\"Cocycles (PI)\", \"Cocycles (DR)\", \"SCM-G\",\"SCM-L\",\"SCM-TA\", \"RKHS\", \"KDE (DR)\"]"
   ]
  },
  {
   "cell_type": "code",
   "execution_count": 7,
   "id": "ecbb239d-ca24-4688-b0ad-5a54524a4f74",
   "metadata": {},
   "outputs": [],
   "source": [
    "from tabulate import tabulate \n",
    "import numpy as np\n",
    "rounding = 3\n",
    "Table = np.zeros((7,2)).astype(str)\n",
    "Table[:,0] = labels\n",
    "for i in range(7):\n",
    "    Table[i,1] = (np.round(objs[model_select[i]].mean(1).abs().mean(1).mean().numpy(),rounding).astype(str)\n",
    "                  +  \" ± \" + np.round((objs[model_select[i]].mean(1).abs().mean(1).var()**0.5).numpy(),rounding).astype(str))"
   ]
  },
  {
   "cell_type": "code",
   "execution_count": 8,
   "id": "c4a2332d-2b6c-4ad7-9b9f-5dd1857c2667",
   "metadata": {},
   "outputs": [
    {
     "name": "stdout",
     "output_type": "stream",
     "text": [
      "\\begin{tabular}{lllllll}\n",
      "\\hline\n",
      " Cocycles (PI) & Cocycles (DR) & SCM-G       & SCM-L         & SCM-TA        & RKHS          & KDE (DR)      \\\\\n",
      " 0.009 ± 0.002 & 0.024 ± 0.003 & 0.04 ± 0.02 & 0.057 ± 0.013 & 0.064 ± 0.015 & 0.026 ± 0.003 & 0.024 ± 0.003 \\\\\n",
      "\\hline\n",
      "\\end{tabular}\n"
     ]
    }
   ],
   "source": [
    "print(tabulate(Table.T, tablefmt=\"latex\"))"
   ]
  },
  {
   "cell_type": "code",
   "execution_count": 9,
   "id": "1850e3aa-bed5-4867-ba83-f3fb990f4a13",
   "metadata": {},
   "outputs": [],
   "source": [
    "rounding = 3\n",
    "Table = np.zeros((7,3)).astype(str)\n",
    "Table[:,0] = labels\n",
    "for i in range(7):\n",
    "    Table[i,1] = np.round(objs[model_select[i]].mean(1).abs().mean(1).mean().numpy(),rounding).astype(str)\n",
    "    Table[i,2] = \"(\"+np.round((objs[model_select[i]].mean(1).abs().mean(1).var()**0.5).numpy(),rounding).astype(str)+\")\""
   ]
  },
  {
   "cell_type": "code",
   "execution_count": 10,
   "id": "f49f44cc-2ad4-41e2-932e-3763d9aa2231",
   "metadata": {},
   "outputs": [
    {
     "name": "stdout",
     "output_type": "stream",
     "text": [
      "\\begin{tabular}{lllllll}\n",
      "\\hline\n",
      " Cocycles (PI) & Cocycles (DR) & SCM-G  & SCM-L   & SCM-TA  & RKHS    & KDE (DR) \\\\\n",
      " 0.009         & 0.024         & 0.04   & 0.057   & 0.064   & 0.026   & 0.024    \\\\\n",
      " (0.002)       & (0.003)       & (0.02) & (0.013) & (0.015) & (0.003) & (0.003)  \\\\\n",
      "\\hline\n",
      "\\end{tabular}\n"
     ]
    }
   ],
   "source": [
    "print(tabulate(Table.T, tablefmt=\"latex\"))"
   ]
  }
 ],
 "metadata": {
  "kernelspec": {
   "display_name": "Python 3 (ipykernel)",
   "language": "python",
   "name": "python3"
  },
  "language_info": {
   "codemirror_mode": {
    "name": "ipython",
    "version": 3
   },
   "file_extension": ".py",
   "mimetype": "text/x-python",
   "name": "python",
   "nbconvert_exporter": "python",
   "pygments_lexer": "ipython3",
   "version": "3.12.2"
  }
 },
 "nbformat": 4,
 "nbformat_minor": 5
}
