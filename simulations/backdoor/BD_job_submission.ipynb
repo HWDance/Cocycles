{
 "cells": [
  {
   "cell_type": "code",
   "execution_count": 1,
   "id": "72a59cee-b7ab-4170-b0cd-59c7a13d5b37",
   "metadata": {},
   "outputs": [],
   "source": [
    "# Imports\n",
    "from dask_jobqueue import SLURMCluster\n",
    "from distributed import Client\n",
    "from BD_cocycles_counterfactual import run as run_cocycles\n",
    "from BD_SCM_counterfactual_gauss import run as run_flows_gaus\n",
    "from BD_SCM_counterfactual_laplace import run as run_flows_laplace\n",
    "from BD_SCM_counterfactual_tailadaptive import run as run_flows_tailadaptive"
   ]
  },
  {
   "cell_type": "code",
   "execution_count": 2,
   "id": "b99e436e-5e61-4c1c-9fb3-68e8851b0f59",
   "metadata": {
    "scrolled": true
   },
   "outputs": [],
   "source": [
    "# Cluster creation\n",
    "cluster = SLURMCluster(\n",
    "    n_workers=0,\n",
    "    memory=\"32GB\",\n",
    "    processes=1,\n",
    "    cores=1,\n",
    "    scheduler_options={\n",
    "        \"dashboard_address\": \":10095\",\n",
    "        \"allowed_failures\": 10\n",
    "    },\n",
    "    job_cpu=1,\n",
    "    walltime=\"24:0:0\",\n",
    "    #job_extra_directives = [\"-p medium,fast,cpu\"],\n",
    ")\n",
    "cluster.adapt(minimum=0, maximum=100)\n",
    "client = Client(cluster)"
   ]
  },
  {
   "cell_type": "code",
   "execution_count": 3,
   "id": "7e961bea-8adf-4de4-91cc-6e51c6cf2a5f",
   "metadata": {},
   "outputs": [],
   "source": [
    "# Submitting jobs\n",
    "n = 10000\n",
    "ntrial = 20\n",
    "base = \"Normal\"\n",
    "futures = []\n",
    "for seed in range(ntrial):\n",
    "    f1 = client.submit(run_cocycles,seed,n,base = base)\n",
    "    f2 = client.submit(run_flows_gaus,seed,n, base = base)\n",
    "    f3 = client.submit(run_flows_laplace,seed,n, base = base)\n",
    "    f4 = client.submit(run_flows_tailadaptive,seed,n, base = base)\n",
    "    futures += [f1,f2,f3,f4]"
   ]
  },
  {
   "cell_type": "code",
   "execution_count": 4,
   "id": "5eea4c57-e280-45a3-b163-63df177d7130",
   "metadata": {
    "scrolled": true
   },
   "outputs": [
    {
     "data": {
      "text/plain": [
       "[<Future: pending, key: run-619447e665545ef153768b666d960889>,\n",
       " <Future: pending, key: run-4ba5d272c780814078e466f5cf15d83d>,\n",
       " <Future: pending, key: run-8994b233047d7bc93c062973cfc1c402>,\n",
       " <Future: pending, key: run-c6a2408c7161780e8538fc4029d3ad86>,\n",
       " <Future: pending, key: run-b783085913e5d5aaa01d72369ffd897c>,\n",
       " <Future: pending, key: run-2c24399cfffcfeba6a9b6ee8ea0d94f4>,\n",
       " <Future: pending, key: run-114a3595926722fe3987c4920be43283>,\n",
       " <Future: pending, key: run-880fb23e1614813ccbb56e09ffe60f1f>,\n",
       " <Future: pending, key: run-fffb2cdd998e57c7bdb2e786aa05913e>,\n",
       " <Future: pending, key: run-0636995b96267ce467c183db57d4ac03>,\n",
       " <Future: pending, key: run-7c178d0b5d8b0f6761a0d1e4b7f055b9>,\n",
       " <Future: pending, key: run-7157b2325d350f5ee89938405b55ed3c>,\n",
       " <Future: pending, key: run-7aef5eb00d5002609ec02a6050511593>,\n",
       " <Future: pending, key: run-7274d6a583e6db88ddc19388331749f9>,\n",
       " <Future: pending, key: run-7cfce975e7c7853c3b9f092fb3616a70>,\n",
       " <Future: pending, key: run-a795aa3e8985ea4e0917254f15abc625>,\n",
       " <Future: pending, key: run-708ee5260ceff9e98a63762a87a48ba2>,\n",
       " <Future: pending, key: run-978f19bd9bb8f88cefb8a4c80acc8738>,\n",
       " <Future: pending, key: run-f56dd994e505a30a5800028c907d797d>,\n",
       " <Future: pending, key: run-0e9fd5af9738761862d182b62e89ac73>,\n",
       " <Future: pending, key: run-fcb095acfc85498fdb66d929325eb48b>,\n",
       " <Future: pending, key: run-3a38a97cd5a239dc29a987619139056a>,\n",
       " <Future: pending, key: run-432972d0ac1a05132808863036bcc69a>,\n",
       " <Future: pending, key: run-1011ee3fa6af306e93aeed534bfe0cda>,\n",
       " <Future: pending, key: run-59de661db3a00db17b802eba1fea7b39>,\n",
       " <Future: pending, key: run-f2c13105befcf883dd07b1246af12e2e>,\n",
       " <Future: pending, key: run-024308433340d845c33cc79ac80f0b51>,\n",
       " <Future: pending, key: run-c3300fb8152de6c7f41c7fe28714a50c>,\n",
       " <Future: pending, key: run-e61a6140966bbacd26ae7a3ec5e20266>,\n",
       " <Future: pending, key: run-d66f71cf2d572e4ea84cc0b25b7df823>,\n",
       " <Future: pending, key: run-dc579ba1627fd99c3fcffaaee342b86f>,\n",
       " <Future: pending, key: run-21eb2128de3ff5e097a03785247d4fa8>,\n",
       " <Future: pending, key: run-4fe824809748e55f28b116d9a1eac8ba>,\n",
       " <Future: pending, key: run-eca1f376c1cbaf7d62cdc60d742c49d7>,\n",
       " <Future: pending, key: run-0dc8082da5e44c8551cb1fc496560cb1>,\n",
       " <Future: pending, key: run-2cdac708ef2ef8d68afc58e9ce55c219>,\n",
       " <Future: pending, key: run-cd2e339dc0320dbc930b59bc6b337ac1>,\n",
       " <Future: pending, key: run-0b18c867e3d1b377156ffc6008c4c6d1>,\n",
       " <Future: pending, key: run-42067077d0ab9cb0e50ffbd875adde83>,\n",
       " <Future: pending, key: run-c6dae2006bd6326572d1c805dc66b3d2>,\n",
       " <Future: pending, key: run-2753f856092fa57d92e71cdfdd16cf43>,\n",
       " <Future: pending, key: run-6f076b7680ba578bb6e7e8a4390b9c66>,\n",
       " <Future: pending, key: run-e391da0b04b0f364d14b22d9e11e5228>,\n",
       " <Future: pending, key: run-9aaa93796a6c7e839f6fa2870f772977>,\n",
       " <Future: pending, key: run-1a5f1d27304e5d7bdca4e9becf8f6976>,\n",
       " <Future: pending, key: run-cce1f16b51be12af3fda5fef0e13b60b>,\n",
       " <Future: pending, key: run-a97e036cc4d918fed1a4dc9c12703e6b>,\n",
       " <Future: pending, key: run-37e08acca60d7fc9b7b9df2e46ba27e6>,\n",
       " <Future: pending, key: run-0a47af99ac6ac41040a93c465116f43b>,\n",
       " <Future: pending, key: run-3fb0e43ecc39373a856b5ddf0eda4fa5>,\n",
       " <Future: pending, key: run-bb200714a7a8f393a1b409bf48bdf486>,\n",
       " <Future: pending, key: run-e702bbccafd9dec1aff405a27314f33d>,\n",
       " <Future: pending, key: run-a449ac0c8a447a59aa43c5045d042384>,\n",
       " <Future: pending, key: run-dcae1b330b36176e23d43441b9613d42>,\n",
       " <Future: pending, key: run-b97375c6b5b3b2a9fedd65e157c6d6f2>,\n",
       " <Future: pending, key: run-a51230b4c607773328227b7c1eb2de48>,\n",
       " <Future: pending, key: run-2b908d0df7954495ed001399d02cbe53>,\n",
       " <Future: pending, key: run-4ad14e0ae72b5cf450d7c92b681e48a3>,\n",
       " <Future: pending, key: run-36344f49ec7abdfc0d1cde92bcf2f604>,\n",
       " <Future: pending, key: run-27ad42fde628f2f0dcd50c4de064de82>,\n",
       " <Future: pending, key: run-1997598fa9f879f7e95d157e9a0c859d>,\n",
       " <Future: pending, key: run-0ab36445a0fd19c97e5dd6543cc398fd>,\n",
       " <Future: pending, key: run-445d9c3690266c1110fc5d3bcc4a27a5>,\n",
       " <Future: pending, key: run-61d5cc309953f9bd46a26839d713f2c7>,\n",
       " <Future: pending, key: run-f350c7795302d81e176eb7d74bef592a>,\n",
       " <Future: pending, key: run-3068a0792053888634eb7dcfc9295a0e>,\n",
       " <Future: pending, key: run-8a68e69981a048e6a2fd30fad246f687>,\n",
       " <Future: pending, key: run-9b29d06810948c9f9fc948399605d7af>,\n",
       " <Future: pending, key: run-cf42d40db667bdbcba2cb05706034acd>,\n",
       " <Future: pending, key: run-04fd338f5470f0bd03c57f201d8943d0>,\n",
       " <Future: pending, key: run-92c9ae2bc3f10d71d3011807a216f4b5>,\n",
       " <Future: pending, key: run-e1284830c1b42f6ef9b33ed7946f8f22>,\n",
       " <Future: pending, key: run-04ee6c7286634e9d4fb3ab1f7b926b1c>,\n",
       " <Future: pending, key: run-9375b60138a7cb8f1c0b32ce1f53d04a>,\n",
       " <Future: pending, key: run-02214ba7316b0b761479c4f1264bee25>,\n",
       " <Future: pending, key: run-594b3ec580858495b67fd27ccad4283f>,\n",
       " <Future: pending, key: run-027ca1905a8b232c681da72c715549c3>,\n",
       " <Future: pending, key: run-9321f10b6cdfc9ef1672aecf163ca4ef>,\n",
       " <Future: pending, key: run-8cff87e2920a547a0569a9d9b5714ebf>,\n",
       " <Future: pending, key: run-8b8bc8a68bf685052106c125ff259b11>]"
      ]
     },
     "execution_count": 4,
     "metadata": {},
     "output_type": "execute_result"
    }
   ],
   "source": [
    "futures"
   ]
  },
  {
   "cell_type": "code",
   "execution_count": 5,
   "id": "9d7457d8-bd4f-4ec0-a43c-0697b71bb124",
   "metadata": {},
   "outputs": [],
   "source": [
    "# Getting results\n",
    "results = client.gather(futures)"
   ]
  },
  {
   "cell_type": "code",
   "execution_count": 6,
   "id": "0b41be7a-e251-4c05-a3a2-d6d3c43150a3",
   "metadata": {},
   "outputs": [
    {
     "name": "stderr",
     "output_type": "stream",
     "text": [
      "2025-04-22 21:50:50,251 - distributed.deploy.adaptive_core - INFO - Adaptive stop\n"
     ]
    }
   ],
   "source": [
    "# Closing client\n",
    "client.close()\n",
    "cluster.close()"
   ]
  },
  {
   "cell_type": "code",
   "execution_count": 7,
   "id": "908df222-877e-474c-a901-3104453d03e5",
   "metadata": {},
   "outputs": [],
   "source": [
    "import torch\n",
    "torch.save(f = \"BD_results_new_trials={0}_n={1}_base={2}.pt\".format(ntrial,n,base), obj = results)"
   ]
  }
 ],
 "metadata": {
  "kernelspec": {
   "display_name": "Python 3 (ipykernel)",
   "language": "python",
   "name": "python3"
  },
  "language_info": {
   "codemirror_mode": {
    "name": "ipython",
    "version": 3
   },
   "file_extension": ".py",
   "mimetype": "text/x-python",
   "name": "python",
   "nbconvert_exporter": "python",
   "pygments_lexer": "ipython3",
   "version": "3.12.2"
  }
 },
 "nbformat": 4,
 "nbformat_minor": 5
}
