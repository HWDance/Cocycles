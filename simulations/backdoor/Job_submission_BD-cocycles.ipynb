{
 "cells": [
  {
   "cell_type": "code",
   "execution_count": 1,
   "id": "72a59cee-b7ab-4170-b0cd-59c7a13d5b37",
   "metadata": {},
   "outputs": [],
   "source": [
    "# Imports\n",
    "import torch\n",
    "from torch.distributions import Normal,Laplace,StudentT\n",
    "from dask_jobqueue import SLURMCluster\n",
    "from distributed import Client\n",
    "import BD_Cocycles"
   ]
  },
  {
   "cell_type": "code",
   "execution_count": 2,
   "id": "a695c839-1fe5-4eaf-ab88-8f7af6aa098b",
   "metadata": {},
   "outputs": [],
   "source": [
    "# Args set up\n",
    "N = 500\n",
    "ntrial = 20\n",
    "batch_size = 64\n",
    "scheduler = True\n",
    "flip_prob = 0.05\n",
    "\n",
    "hypers = [\"weight_decay\",\"batch_size\",\"scheduler\"]\n",
    "hyper_vals = [[0,batch_size,scheduler],\n",
    "              [1e-4,batch_size,scheduler],\n",
    "              [1e-3,batch_size,scheduler],\n",
    "              [1e-2,batch_size,scheduler],\n",
    "              [1e-1,batch_size,scheduler]]"
   ]
  },
  {
   "cell_type": "code",
   "execution_count": 3,
   "id": "b99e436e-5e61-4c1c-9fb3-68e8851b0f59",
   "metadata": {},
   "outputs": [],
   "source": [
    "# Cluster creation\n",
    "cluster = SLURMCluster(\n",
    "    n_workers=0,\n",
    "    memory=\"32GB\",\n",
    "    processes=1,\n",
    "    cores=1,\n",
    "    scheduler_options={\n",
    "        \"dashboard_address\": \":10095\",\n",
    "        \"allowed_failures\": 10\n",
    "    },\n",
    "    job_cpu=1,\n",
    "    walltime=\"24:0:0\",\n",
    "    #job_extra_directives = [\"-p medium,fast,cpu\"],\n",
    ")\n",
    "cluster.adapt(minimum=0, maximum=100)\n",
    "client = Client(cluster)"
   ]
  },
  {
   "cell_type": "code",
   "execution_count": 4,
   "id": "7e961bea-8adf-4de4-91cc-6e51c6cf2a5f",
   "metadata": {},
   "outputs": [],
   "source": [
    "# Submitting jobs\n",
    "futures = []\n",
    "for seed in range(ntrial):\n",
    "    for h in hyper_vals:\n",
    "        f = client.submit(BD_Cocycles.run_experiment,seed,hypers,h,flip_prob,N)\n",
    "        futures += [f]"
   ]
  },
  {
   "cell_type": "code",
   "execution_count": 5,
   "id": "5eea4c57-e280-45a3-b163-63df177d7130",
   "metadata": {
    "collapsed": true,
    "jupyter": {
     "outputs_hidden": true
    }
   },
   "outputs": [
    {
     "data": {
      "text/plain": [
       "[<Future: pending, key: run_experiment-e3ed025db113e7a22d3ef0712694e5e7>,\n",
       " <Future: pending, key: run_experiment-98a9fc88f9425ebd6436dd3e1b5bdfc4>,\n",
       " <Future: pending, key: run_experiment-c8ba776c571d1b959c39268befd50d83>,\n",
       " <Future: pending, key: run_experiment-9687d8b1dc276db8ee8f18ef8b767300>,\n",
       " <Future: pending, key: run_experiment-34039162534c73ca3b54bfd33c6f7df8>,\n",
       " <Future: pending, key: run_experiment-e8403494e99250f599a1c8d3826a7904>,\n",
       " <Future: pending, key: run_experiment-b143d9d89c4ebd9bc06e8b34a6d0f695>,\n",
       " <Future: pending, key: run_experiment-6c05ef081d30961204a1e846fc512319>,\n",
       " <Future: pending, key: run_experiment-a63f001c5ed520c1b6004974845873bb>,\n",
       " <Future: pending, key: run_experiment-5e29a3641085d483a7c2724a3502318e>,\n",
       " <Future: pending, key: run_experiment-7e11f12a8b955d1d7ce90bf5521fafaf>,\n",
       " <Future: pending, key: run_experiment-b8fce92fe276723167ba8c02f2b131cd>,\n",
       " <Future: pending, key: run_experiment-a520efede8598af154137282cb4f53e4>,\n",
       " <Future: pending, key: run_experiment-d36ccf4d3b5400c8c7f35fd5f895bf4f>,\n",
       " <Future: pending, key: run_experiment-177accb5f5c7184cec31fbd0da901e0c>,\n",
       " <Future: pending, key: run_experiment-eceffd8a9f32e11b6cef42c31c9909fa>,\n",
       " <Future: pending, key: run_experiment-8c9f2211cb037628275eeea41f585360>,\n",
       " <Future: pending, key: run_experiment-2ad0c655c82181940398003f201bc19c>,\n",
       " <Future: pending, key: run_experiment-438785054cf9fe7ca751d394015badb5>,\n",
       " <Future: pending, key: run_experiment-d772f588331f3e04899a8e0cb12a2736>,\n",
       " <Future: pending, key: run_experiment-1635e056753c0e3577d09d067fb5174a>,\n",
       " <Future: pending, key: run_experiment-40b8d757a8897dd5b6d83c5fd9c84057>,\n",
       " <Future: pending, key: run_experiment-25d3d60049289c8077d72155f46ce397>,\n",
       " <Future: pending, key: run_experiment-12c77b73b5d37f64cb3961f8e0e547cb>,\n",
       " <Future: pending, key: run_experiment-2633ef12339807a610f414164e86e8cf>,\n",
       " <Future: pending, key: run_experiment-54e4ac97d249b88af2f8ee604512efc5>,\n",
       " <Future: pending, key: run_experiment-cd35e640fc7bd1fa17d7f59ffd48d128>,\n",
       " <Future: pending, key: run_experiment-c2a98141136eda4a78c1e58ccb7412a3>,\n",
       " <Future: pending, key: run_experiment-d587292e9c06fa5b285e12792a300a51>,\n",
       " <Future: pending, key: run_experiment-2e1222db681a969983a32e13ce2d5744>,\n",
       " <Future: pending, key: run_experiment-41576172e5f0063113e0e502b1360fa4>,\n",
       " <Future: pending, key: run_experiment-5ba66f48471be5bd96a1f1b339197cec>,\n",
       " <Future: pending, key: run_experiment-91837a96b5456cfac87e912aa18c9744>,\n",
       " <Future: pending, key: run_experiment-ee744be9aa3ed2512c1f5581c199f3bf>,\n",
       " <Future: pending, key: run_experiment-3220f75ad9a37857eaf8fbe131c6ea37>,\n",
       " <Future: pending, key: run_experiment-8ee0d12d2636b9819751c92f0dfd511e>,\n",
       " <Future: pending, key: run_experiment-33b18ad1341aacb9df0b4badd8c4d356>,\n",
       " <Future: pending, key: run_experiment-b806f0b72883c0c435548b7cc014ec7e>,\n",
       " <Future: pending, key: run_experiment-c8edb37d78d7d46b288bd0b49c829dd0>,\n",
       " <Future: pending, key: run_experiment-6543e70a84d8e171f3350e7c429685fd>,\n",
       " <Future: pending, key: run_experiment-eda7fece59e26df50ea62d07e8345792>,\n",
       " <Future: pending, key: run_experiment-98124e80238e9f3872448441114decfb>,\n",
       " <Future: pending, key: run_experiment-11fdbe453df87a50901f3dd13b3158dc>,\n",
       " <Future: pending, key: run_experiment-eca50cf3c9877e5812142eb79382a258>,\n",
       " <Future: pending, key: run_experiment-1493a879e87d90083ae22a454a20a71e>,\n",
       " <Future: pending, key: run_experiment-b10a3a6ff49daaa9de5700c0e7af1596>,\n",
       " <Future: pending, key: run_experiment-282ab00a8f4a90b4c9bff9c62fc2fd32>,\n",
       " <Future: pending, key: run_experiment-80fd8aea76d4a89e840197d5c88bcbb9>,\n",
       " <Future: pending, key: run_experiment-d4697bf6e3796cfb42b7af8256dc35b3>,\n",
       " <Future: pending, key: run_experiment-5550608363800cf68ea03dca8ba96ae0>,\n",
       " <Future: pending, key: run_experiment-18f2ad12a3db3435744fb2f9718f63f9>,\n",
       " <Future: pending, key: run_experiment-b35b07cb9c095b2a2283c2d95fbe4619>,\n",
       " <Future: pending, key: run_experiment-e13cfca51e76a3cc6295cc57163f66d0>,\n",
       " <Future: pending, key: run_experiment-0fd9e965979c2b00bcefdc73b1196950>,\n",
       " <Future: pending, key: run_experiment-297b13c14191685c3f645be359714645>,\n",
       " <Future: pending, key: run_experiment-cae994755d3b3468fa0f4cdb3c58d78d>,\n",
       " <Future: pending, key: run_experiment-d6f1e41a3049e3e7f9999edd90ad2f38>,\n",
       " <Future: pending, key: run_experiment-c26746f9af898e47baea7818e3dcab6d>,\n",
       " <Future: pending, key: run_experiment-562b3ea936be0e4e4d0331fd1ec601bb>,\n",
       " <Future: pending, key: run_experiment-c95ee3d7e561a5fc44e1b3ac6cd65ecc>,\n",
       " <Future: pending, key: run_experiment-4dbee6c1ce227ed544b893a1c0c16ede>,\n",
       " <Future: pending, key: run_experiment-561b9065c8a01ee223d438a890cb6f97>,\n",
       " <Future: pending, key: run_experiment-8c37aeac104b9adc549f311ae976ea2b>,\n",
       " <Future: pending, key: run_experiment-245a258f0925690f418887e985e95dce>,\n",
       " <Future: pending, key: run_experiment-51de797831912a867b4bdf9b6ee1c608>,\n",
       " <Future: pending, key: run_experiment-812b195c1067350bc05556cc7974290b>,\n",
       " <Future: pending, key: run_experiment-b453788de6eae72adc7aaeb445340666>,\n",
       " <Future: pending, key: run_experiment-b6a7d56f6ae72c28b59c96f9af42f0a4>,\n",
       " <Future: pending, key: run_experiment-f7c084b2745361183433996a1c8b8507>,\n",
       " <Future: pending, key: run_experiment-8921a603bc0d337c6f458099769f2bbf>,\n",
       " <Future: pending, key: run_experiment-4c1bfaeb7776a25a9db46579b0106066>,\n",
       " <Future: pending, key: run_experiment-d0078f2bf4e9595c20cd2eec8c278ac7>,\n",
       " <Future: pending, key: run_experiment-f08c0044347bb0f6df3fa7405a0759ad>,\n",
       " <Future: pending, key: run_experiment-4d8e36f9dc44c4ad1def73c9d3cfb6a8>,\n",
       " <Future: pending, key: run_experiment-e133a6dfa1ed017f5d21a7ec0603fe41>,\n",
       " <Future: pending, key: run_experiment-d2655bd989d3e8f29d562f6c42a002a1>,\n",
       " <Future: pending, key: run_experiment-c29211eed97f20888b857b356dd4acd8>,\n",
       " <Future: pending, key: run_experiment-749cb42b490b243f0a2b32174f904cc5>,\n",
       " <Future: pending, key: run_experiment-cff8a7c7d7aebf5f77b11cff3f13e1b8>,\n",
       " <Future: pending, key: run_experiment-91aff45508dd16edcc197e71e836d678>,\n",
       " <Future: pending, key: run_experiment-2fbf6872bce6be4e4386a83471840866>,\n",
       " <Future: pending, key: run_experiment-9c7a4c654fbe40c25d18d96109dd23cd>,\n",
       " <Future: pending, key: run_experiment-390277543c9092c1a15650f7317bddca>,\n",
       " <Future: pending, key: run_experiment-715d3f904ecc18802b3caf31a186ba43>,\n",
       " <Future: pending, key: run_experiment-9fa286994ee03cd14120a782a9db8742>,\n",
       " <Future: pending, key: run_experiment-99dda2fe14837b558044056bf508648c>,\n",
       " <Future: pending, key: run_experiment-8b50015cb31d2d1701df3cdf77f0d75f>,\n",
       " <Future: pending, key: run_experiment-961a6f0947866dfd6ac57a577d460f29>,\n",
       " <Future: pending, key: run_experiment-82376a87b52dc8ede20c9c59ec7eae18>,\n",
       " <Future: pending, key: run_experiment-243cf4d7af9f15603ac94b2d14ecd852>,\n",
       " <Future: pending, key: run_experiment-0d0ea00a3fb7f0057069b032dc818c0f>,\n",
       " <Future: pending, key: run_experiment-b9122905d7dd4b0d11b2cbad10f7ce7c>,\n",
       " <Future: pending, key: run_experiment-7afecf52289778dd1a1332b7ce272d94>,\n",
       " <Future: pending, key: run_experiment-f1b856be9736083b4c33223714641931>,\n",
       " <Future: pending, key: run_experiment-f8549219f02b3e6a3c3f9dd3351527fd>,\n",
       " <Future: pending, key: run_experiment-281e225e9989d2b7e0f5f45e7de8ced1>,\n",
       " <Future: pending, key: run_experiment-407c075c2c9962dc8bf5c17c7d9959be>,\n",
       " <Future: pending, key: run_experiment-9fd69d98a50b78dee3b38e514aba6dac>,\n",
       " <Future: pending, key: run_experiment-63ab9f5907a9146acc5e1cbc0b313f36>,\n",
       " <Future: pending, key: run_experiment-3b374b66708088252b76ce9c42de3586>]"
      ]
     },
     "execution_count": 5,
     "metadata": {},
     "output_type": "execute_result"
    }
   ],
   "source": [
    "futures"
   ]
  },
  {
   "cell_type": "code",
   "execution_count": 6,
   "id": "9d7457d8-bd4f-4ec0-a43c-0697b71bb124",
   "metadata": {},
   "outputs": [],
   "source": [
    "# Getting results\n",
    "results = client.gather(futures)"
   ]
  },
  {
   "cell_type": "code",
   "execution_count": 7,
   "id": "0b41be7a-e251-4c05-a3a2-d6d3c43150a3",
   "metadata": {},
   "outputs": [
    {
     "name": "stderr",
     "output_type": "stream",
     "text": [
      "2024-03-18 12:50:57,473 - distributed.deploy.adaptive_core - INFO - Adaptive stop\n"
     ]
    }
   ],
   "source": [
    "# Closing client\n",
    "client.close()\n",
    "cluster.close()"
   ]
  },
  {
   "cell_type": "code",
   "execution_count": 8,
   "id": "908df222-877e-474c-a901-3104453d03e5",
   "metadata": {},
   "outputs": [],
   "source": [
    "torch.save(f = \"BD_cocycles_results_new_N={4}_trials={0}_batchsize={1}_scheduler={2}_flip_prob={3}.pt\".format(ntrial,batch_size,scheduler,flip_prob,N), obj = results)"
   ]
  }
 ],
 "metadata": {
  "kernelspec": {
   "display_name": "Python 3 (ipykernel)",
   "language": "python",
   "name": "python3"
  },
  "language_info": {
   "codemirror_mode": {
    "name": "ipython",
    "version": 3
   },
   "file_extension": ".py",
   "mimetype": "text/x-python",
   "name": "python",
   "nbconvert_exporter": "python",
   "pygments_lexer": "ipython3",
   "version": "3.12.5"
  }
 },
 "nbformat": 4,
 "nbformat_minor": 5
}
