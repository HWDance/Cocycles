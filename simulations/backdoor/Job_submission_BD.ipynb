{
 "cells": [
  {
   "cell_type": "code",
   "execution_count": 1,
   "id": "72a59cee-b7ab-4170-b0cd-59c7a13d5b37",
   "metadata": {},
   "outputs": [],
   "source": [
    "# Imports\n",
    "import torch\n",
    "from torch.distributions import Normal,Laplace,StudentT\n",
    "from dask_jobqueue import SLURMCluster\n",
    "from distributed import Client\n",
    "import BD_Cocycles,BD_SCM,BD_RKHS"
   ]
  },
  {
   "cell_type": "code",
   "execution_count": 2,
   "id": "a695c839-1fe5-4eaf-ab88-8f7af6aa098b",
   "metadata": {},
   "outputs": [],
   "source": [
    "# Args set up\n",
    "N = 5000\n",
    "ntrial = 10\n",
    "batch_size = 64\n",
    "scheduler = True\n",
    "flip_prob = 0.05\n",
    "\n",
    "hypers = [\"weight_decay\",\"batch_size\",\"scheduler\"]\n",
    "hyper_vals = [[0,batch_size,scheduler],\n",
    "              [1e-4,batch_size,scheduler],\n",
    "              [1e-3,batch_size,scheduler],\n",
    "              [1e-2,batch_size,scheduler],\n",
    "              [1e-1,batch_size,scheduler]]"
   ]
  },
  {
   "cell_type": "code",
   "execution_count": 3,
   "id": "b99e436e-5e61-4c1c-9fb3-68e8851b0f59",
   "metadata": {},
   "outputs": [],
   "source": [
    "# Cluster creation\n",
    "cluster = SLURMCluster(\n",
    "    n_workers=0,\n",
    "    memory=\"32GB\",\n",
    "    processes=1,\n",
    "    cores=1,\n",
    "    scheduler_options={\n",
    "        \"dashboard_address\": \":10095\",\n",
    "        \"allowed_failures\": 10\n",
    "    },\n",
    "    job_cpu=1,\n",
    "    walltime=\"24:0:0\",\n",
    "    #job_extra_directives = [\"-p medium,fast,cpu\"],\n",
    ")\n",
    "cluster.adapt(minimum=0, maximum=100)\n",
    "client = Client(cluster)"
   ]
  },
  {
   "cell_type": "code",
   "execution_count": 4,
   "id": "7e961bea-8adf-4de4-91cc-6e51c6cf2a5f",
   "metadata": {},
   "outputs": [],
   "source": [
    "# Submitting jobs\n",
    "futures = []\n",
    "for seed in range(ntrial):\n",
    "    f1 = client.submit(BD_RKHS.run_experiment,seed,flip_prob,N)\n",
    "    futures += [f1]\n",
    "    for h in hyper_vals:\n",
    "        f2 = client.submit(BD_Cocycles.run_experiment,seed,hypers,h,flip_prob,N)\n",
    "        f3 = client.submit(BD_SCM.run_experiment,seed,Normal(0,1),False,hypers,h,flip_prob,N)\n",
    "        f4 = client.submit(BD_SCM.run_experiment,seed,Laplace(0,1),False,hypers,h,flip_prob,N)\n",
    "        f5 = client.submit(BD_SCM.run_experiment,seed,StudentT(10,0,1),True,hypers,h,flip_prob,N)\n",
    "        futures += [f2,f3,f4,f5]"
   ]
  },
  {
   "cell_type": "code",
   "execution_count": 1,
   "id": "5eea4c57-e280-45a3-b163-63df177d7130",
   "metadata": {},
   "outputs": [
    {
     "ename": "NameError",
     "evalue": "name 'futures' is not defined",
     "output_type": "error",
     "traceback": [
      "\u001b[0;31m---------------------------------------------------------------------------\u001b[0m",
      "\u001b[0;31mNameError\u001b[0m                                 Traceback (most recent call last)",
      "Cell \u001b[0;32mIn[1], line 1\u001b[0m\n\u001b[0;32m----> 1\u001b[0m \u001b[43mfutures\u001b[49m\n",
      "\u001b[0;31mNameError\u001b[0m: name 'futures' is not defined"
     ]
    }
   ],
   "source": [
    "futures"
   ]
  },
  {
   "cell_type": "code",
   "execution_count": null,
   "id": "9d7457d8-bd4f-4ec0-a43c-0697b71bb124",
   "metadata": {},
   "outputs": [],
   "source": [
    "# Getting results\n",
    "results = client.gather(futures)"
   ]
  },
  {
   "cell_type": "code",
   "execution_count": null,
   "id": "0b41be7a-e251-4c05-a3a2-d6d3c43150a3",
   "metadata": {},
   "outputs": [],
   "source": [
    "# Closing client\n",
    "client.close()\n",
    "cluster.close()"
   ]
  },
  {
   "cell_type": "code",
   "execution_count": null,
   "id": "908df222-877e-474c-a901-3104453d03e5",
   "metadata": {},
   "outputs": [],
   "source": [
    "torch.save(f = \"BD_results_new_N={4}_trials={0}_batchsize={1}_scheduler={2}_flip_prob={3}.pt\".format(ntrial,batch_size,scheduler,flip_prob,N), obj = results)"
   ]
  }
 ],
 "metadata": {
  "kernelspec": {
   "display_name": "Python 3 (ipykernel)",
   "language": "python",
   "name": "python3"
  },
  "language_info": {
   "codemirror_mode": {
    "name": "ipython",
    "version": 3
   },
   "file_extension": ".py",
   "mimetype": "text/x-python",
   "name": "python",
   "nbconvert_exporter": "python",
   "pygments_lexer": "ipython3",
   "version": "3.12.2"
  }
 },
 "nbformat": 4,
 "nbformat_minor": 5
}
