{
 "cells": [
  {
   "cell_type": "code",
   "execution_count": 1,
   "id": "72a59cee-b7ab-4170-b0cd-59c7a13d5b37",
   "metadata": {},
   "outputs": [],
   "source": [
    "# Imports\n",
    "from dask_jobqueue import SLURMCluster\n",
    "from distributed import Client\n",
    "from run_cocycles_discrete import run"
   ]
  },
  {
   "cell_type": "code",
   "execution_count": 2,
   "id": "b99e436e-5e61-4c1c-9fb3-68e8851b0f59",
   "metadata": {
    "scrolled": true
   },
   "outputs": [],
   "source": [
    "# Cluster creation\n",
    "cluster = SLURMCluster(\n",
    "    n_workers=0,\n",
    "    memory=\"16GB\",\n",
    "    processes=1,\n",
    "    cores=1,\n",
    "    scheduler_options={\n",
    "        \"dashboard_address\": \":10095\",\n",
    "        \"allowed_failures\": 10\n",
    "    },\n",
    "    job_cpu=1,\n",
    "    walltime=\"24:0:0\",\n",
    "    #job_extra_directives = [\"-p medium,fast,cpu\"],\n",
    ")\n",
    "cluster.adapt(minimum=0, maximum=100)\n",
    "client = Client(cluster)"
   ]
  },
  {
   "cell_type": "code",
   "execution_count": 3,
   "id": "7e961bea-8adf-4de4-91cc-6e51c6cf2a5f",
   "metadata": {},
   "outputs": [],
   "source": [
    "# Submitting jobs\n",
    "n = 500\n",
    "ntrial = 20\n",
    "corr = True\n",
    "affine = True\n",
    "futures = []\n",
    "for seed in range(ntrial):\n",
    "    f0 = client.submit(run,n = n, seed = seed, wrong_order = False, corr = corr, affine = affine)\n",
    "    f1 = client.submit(run,n = n, seed = seed, wrong_order = True, corr = corr, affine = affine)\n",
    "    futures += [f0,f1]"
   ]
  },
  {
   "cell_type": "code",
   "execution_count": 4,
   "id": "5eea4c57-e280-45a3-b163-63df177d7130",
   "metadata": {
    "scrolled": true
   },
   "outputs": [
    {
     "data": {
      "text/plain": [
       "[<Future: pending, key: run-0ff147ff7fa22f827a4e1ef87a7b4ab4>,\n",
       " <Future: pending, key: run-4b0b845a9a469427b8164f4ef7924cd5>,\n",
       " <Future: pending, key: run-27c820746d6333d2aa3d6904ffa68c9d>,\n",
       " <Future: pending, key: run-514d49a255fdbf1c342163b44c273807>,\n",
       " <Future: pending, key: run-b886c741e39a88cdb079a1a491ff7eb9>,\n",
       " <Future: pending, key: run-1e645df74c285d83baf76dc3fd938bc3>,\n",
       " <Future: pending, key: run-a160b42d7bf6fef76c04d07a3a744166>,\n",
       " <Future: pending, key: run-c8fa116f9fff83fa251630308b441919>,\n",
       " <Future: pending, key: run-e1a27a6bef0d43fa098ebaa3960bc264>,\n",
       " <Future: pending, key: run-68ae92ae2c044bc5ba89f1386ee726e4>,\n",
       " <Future: pending, key: run-1b84ee6229a704ebfbac50040780f90c>,\n",
       " <Future: pending, key: run-4b35165e4ed0d51a6dee80235834bcfb>,\n",
       " <Future: pending, key: run-42835facd26ad6bfe2abba3c6952f79a>,\n",
       " <Future: pending, key: run-ad815f85f51403c9fa440fe3c439dfd9>,\n",
       " <Future: pending, key: run-3db926f67c53143f1e3d978503709501>,\n",
       " <Future: pending, key: run-40f90674fed20046d7394c743c253302>,\n",
       " <Future: pending, key: run-f9b2bf1d676eb57d44f3e77568bbf602>,\n",
       " <Future: pending, key: run-cba1f1fd15373fe018ba4035c3a4de50>,\n",
       " <Future: pending, key: run-2b5bb41994fcba4427289b75e0b8bd00>,\n",
       " <Future: pending, key: run-ace7e2a7c96394b72bda9222372455e9>,\n",
       " <Future: pending, key: run-75b491d47a725ed3902e17bfe6fc789c>,\n",
       " <Future: pending, key: run-87416e77a2c09961c3c58ab87ca2f605>,\n",
       " <Future: pending, key: run-ae815a3f5a48132ad68198cdd2b4819b>,\n",
       " <Future: pending, key: run-a96eab48c546548af1acc6b7cefc62a2>,\n",
       " <Future: pending, key: run-b98fbaa36921af4e6dfb5b91b07dc1ef>,\n",
       " <Future: pending, key: run-57c6037fdc4c60b639ceec0054c62bf8>,\n",
       " <Future: pending, key: run-420aefdafbce6e5d0c5a7c4abbc22740>,\n",
       " <Future: pending, key: run-ecde4f53f0225e32a4ab8a2222fe22b7>,\n",
       " <Future: pending, key: run-1c36155f42d27e2b16781de93317b9a1>,\n",
       " <Future: pending, key: run-5233eef5489f3ab108cb865f6a46e947>,\n",
       " <Future: pending, key: run-ad5f69f534c41aa21832bdb6b2d429d3>,\n",
       " <Future: pending, key: run-a64cc896099ccf7174b950e714c6b8a8>,\n",
       " <Future: pending, key: run-df0ea778f3d53cc9f43951c556d0262f>,\n",
       " <Future: pending, key: run-35c16007fa4ea80b0edc3f92be232e65>,\n",
       " <Future: pending, key: run-00e97a0f083615328c4068b5a17ecbc2>,\n",
       " <Future: pending, key: run-ce8d38716cf844b2210ef7170dfd9a10>,\n",
       " <Future: pending, key: run-ba81aea78c95d6b68ef360e03e79cd21>,\n",
       " <Future: pending, key: run-ec9019a0961da935df05ecbe69f6d0d0>,\n",
       " <Future: pending, key: run-17006f7a9e87177c8d943648c449ea92>,\n",
       " <Future: pending, key: run-21fb1538e4f72ce8bcc03380a546cae2>]"
      ]
     },
     "execution_count": 4,
     "metadata": {},
     "output_type": "execute_result"
    }
   ],
   "source": [
    "futures"
   ]
  },
  {
   "cell_type": "code",
   "execution_count": null,
   "id": "9d7457d8-bd4f-4ec0-a43c-0697b71bb124",
   "metadata": {},
   "outputs": [],
   "source": [
    "# Gettaing results\n",
    "results = client.gather(futures)"
   ]
  },
  {
   "cell_type": "code",
   "execution_count": null,
   "id": "0b41be7a-e251-4c05-a3a2-d6d3c43150a3",
   "metadata": {},
   "outputs": [],
   "source": [
    "# Closing client\n",
    "client.close()\n",
    "cluster.close()"
   ]
  },
  {
   "cell_type": "code",
   "execution_count": null,
   "id": "908df222-877e-474c-a901-3104453d03e5",
   "metadata": {},
   "outputs": [],
   "source": [
    "import torch\n",
    "torch.save(f = \"nfcocycle_cv_results_trials={0}_n={1}_corr={2}_affine={3}_new.pt\".format(ntrial,n,corr,affine), obj = results)"
   ]
  },
  {
   "cell_type": "code",
   "execution_count": null,
   "id": "bf29b659-4161-40cf-bbf5-a67eaba3f399",
   "metadata": {
    "scrolled": true
   },
   "outputs": [],
   "source": [
    "results"
   ]
  },
  {
   "cell_type": "code",
   "execution_count": null,
   "id": "f2d1bc2a-a569-4226-97f8-b82c8fb5c696",
   "metadata": {},
   "outputs": [],
   "source": [
    "rmse_correct = []\n",
    "rmse_wrong = []\n",
    "for i in range(len(results)):\n",
    "    if not i % 2:\n",
    "        rmse_correct.append(results[i]['RMSE20'])\n",
    "    else:\n",
    "        rmse_wrong.append(results[i]['RMSE20'])\n",
    "\n",
    "print(torch.tensor(rmse_correct).nanmedian())\n",
    "print(torch.tensor(rmse_wrong).nanmedian())"
   ]
  }
 ],
 "metadata": {
  "kernelspec": {
   "display_name": "Python 3 (ipykernel)",
   "language": "python",
   "name": "python3"
  },
  "language_info": {
   "codemirror_mode": {
    "name": "ipython",
    "version": 3
   },
   "file_extension": ".py",
   "mimetype": "text/x-python",
   "name": "python",
   "nbconvert_exporter": "python",
   "pygments_lexer": "ipython3",
   "version": "3.12.2"
  }
 },
 "nbformat": 4,
 "nbformat_minor": 5
}
