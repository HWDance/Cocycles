{
 "cells": [
  {
   "cell_type": "code",
   "execution_count": 1,
   "id": "72a59cee-b7ab-4170-b0cd-59c7a13d5b37",
   "metadata": {},
   "outputs": [],
   "source": [
    "# Imports\n",
    "from dask_jobqueue import SLURMCluster\n",
    "from distributed import Client\n",
    "from run_cocycles_ot import run"
   ]
  },
  {
   "cell_type": "code",
   "execution_count": 2,
   "id": "b99e436e-5e61-4c1c-9fb3-68e8851b0f59",
   "metadata": {
    "scrolled": true
   },
   "outputs": [],
   "source": [
    "# Cluster creation\n",
    "cluster = SLURMCluster(\n",
    "    n_workers=0,\n",
    "    memory=\"16GB\",\n",
    "    processes=1,\n",
    "    cores=1,\n",
    "    scheduler_options={\n",
    "        \"dashboard_address\": \":10095\",\n",
    "        \"allowed_failures\": 10\n",
    "    },\n",
    "    job_cpu=1,\n",
    "    walltime=\"24:0:0\",\n",
    "    #job_extra_directives = [\"-p medium,fast,cpu\"],\n",
    ")\n",
    "cluster.adapt(minimum=0, maximum=100)\n",
    "client = Client(cluster)"
   ]
  },
  {
   "cell_type": "code",
   "execution_count": 3,
   "id": "7e961bea-8adf-4de4-91cc-6e51c6cf2a5f",
   "metadata": {},
   "outputs": [],
   "source": [
    "# Submitting jobs\n",
    "n = 500\n",
    "ntrial = 20\n",
    "corrs = [0.1,0.3,0.5,0.7,0.9]\n",
    "additive = False\n",
    "multivariate = False\n",
    "futures = []\n",
    "learn_rate = 1e-2\n",
    "for corr in corrs:\n",
    "    for seed in range(ntrial):\n",
    "        f0 = client.submit(run,n = n, seed = seed, corr = corr, additive = additive, multivariate_noise = multivariate, learn_rate = learn_rate)\n",
    "        futures += [f0]"
   ]
  },
  {
   "cell_type": "code",
   "execution_count": 4,
   "id": "5eea4c57-e280-45a3-b163-63df177d7130",
   "metadata": {
    "scrolled": true
   },
   "outputs": [
    {
     "data": {
      "text/plain": [
       "[<Future: pending, key: run-0da6654cc555153c4be25a8a5177c6bf>,\n",
       " <Future: pending, key: run-e88f8ebb82e79ac4dc2a36c6c3b1dc63>,\n",
       " <Future: pending, key: run-73d196c64e9c0947bb75971b9f6ad0e1>,\n",
       " <Future: pending, key: run-dacd290590f72799d8ca790761df4579>,\n",
       " <Future: pending, key: run-8bb7fb97a9258fe1291e706752041eba>,\n",
       " <Future: pending, key: run-4dccd0b3a08cfad6fc08cf5278734eba>,\n",
       " <Future: pending, key: run-6a3bbee8daf81c49c04744487c1343ab>,\n",
       " <Future: pending, key: run-c11847a4c8e44b0002cf655494ebaa8d>,\n",
       " <Future: pending, key: run-682ae65dc6ea119aacaf3ec0f37689d9>,\n",
       " <Future: pending, key: run-cb59a7ed69cdbacd4739afa0b2df49dd>,\n",
       " <Future: pending, key: run-1ada0a848dfe19c340dd7e5fdc147e15>,\n",
       " <Future: pending, key: run-8559994231932cbd88f412b32e610d11>,\n",
       " <Future: pending, key: run-60cfe1953d48ed3ae5417f8faa7fc16d>,\n",
       " <Future: pending, key: run-f90991ade5a6ffd8f2ccf5705883e868>,\n",
       " <Future: pending, key: run-cf310ac4090a87dbf89e97b176a519bd>,\n",
       " <Future: pending, key: run-517dc2e9ab1401764879cb92ca41f99b>,\n",
       " <Future: pending, key: run-f2b4035aa351d3dafa6059acb1d743e1>,\n",
       " <Future: pending, key: run-75ab6c6bad8475c900e767e0ac93a587>,\n",
       " <Future: pending, key: run-187e441134e5d66782a420230bce7f53>,\n",
       " <Future: pending, key: run-6c000a46d6079df3c3d2b8d5bfaed764>,\n",
       " <Future: pending, key: run-e9810c33dd02bc1f66badb044c4715ae>,\n",
       " <Future: pending, key: run-08c3abc5920510e53702bebd67696a26>,\n",
       " <Future: pending, key: run-7c38ff4fe3faf41e2f5ca6d261bc41e3>,\n",
       " <Future: pending, key: run-aa7ead5c3183cb959c265e0b277eca79>,\n",
       " <Future: pending, key: run-6b8f8aacf0551b93175458a4e0b41f1e>,\n",
       " <Future: pending, key: run-e759431306e4ba386d6161b9b09b5f1d>,\n",
       " <Future: pending, key: run-b77696087f83e1d89a2d2e8699cc859c>,\n",
       " <Future: pending, key: run-66c15c048564a7bcf8493feeda9d6441>,\n",
       " <Future: pending, key: run-0b267a0b5116f80c837d4663af8e7d83>,\n",
       " <Future: pending, key: run-52d0cac88e5c5e5c2a48cb56cda8c3b3>,\n",
       " <Future: pending, key: run-4afe00dedf7b75ab07c1323435f9ac70>,\n",
       " <Future: pending, key: run-c602c4fc4c2ea988e88f2b22e75665a5>,\n",
       " <Future: pending, key: run-97804d2ca7af1d90dafcba21a5ece3a6>,\n",
       " <Future: pending, key: run-c39f85501c514911d73b68765a9e7be2>,\n",
       " <Future: pending, key: run-79aeedaaf6b6330dba86f331a59776f7>,\n",
       " <Future: pending, key: run-9a1c4602a66efd3044b68aeae218bc28>,\n",
       " <Future: pending, key: run-108485e80ca34414105113f77d02ec1d>,\n",
       " <Future: pending, key: run-55073fdb47ba03051cb697ffe09548be>,\n",
       " <Future: pending, key: run-7abc95c4eaa55bccb08840ecebced103>,\n",
       " <Future: pending, key: run-277b538cf7ab8ae8951bc2941728aec4>,\n",
       " <Future: pending, key: run-b9ea7f63fe760a517d453c7386d75fef>,\n",
       " <Future: pending, key: run-cf13bb226aa8de11f8d509ba4ca86e92>,\n",
       " <Future: pending, key: run-2f7f05dc3b3ec52ef9d040ecccc603dd>,\n",
       " <Future: pending, key: run-59e28233bff87b811e71e7cddb82dbfb>,\n",
       " <Future: pending, key: run-4c37dfbf86fdb13b3dafc648eb583bbd>,\n",
       " <Future: pending, key: run-b90fdcedb9e8f8c8b8f7eba79b6d7570>,\n",
       " <Future: pending, key: run-3631088cb262a21f00b3bd6d1ab5fc79>,\n",
       " <Future: pending, key: run-cdd3dab769d28b088e15ff5db99bdc99>,\n",
       " <Future: pending, key: run-34becf153f7b9500e20d44e0f3d232ba>,\n",
       " <Future: pending, key: run-173fb004ecbba752a85db4005d0fa1ad>,\n",
       " <Future: pending, key: run-8784cbd7c3eb54be5365f0f53f01ddd4>,\n",
       " <Future: pending, key: run-95cbe11bb4ce5b11a1ea07948d70cca3>,\n",
       " <Future: pending, key: run-b7f88674714e9dc5de02b175607380fa>,\n",
       " <Future: pending, key: run-8035eb920e495371ecb0301448dc94fb>,\n",
       " <Future: pending, key: run-88e76e492bb003326a2f00d14c46acbe>,\n",
       " <Future: pending, key: run-7d0a4cf3e6f2a87d1b9699dd078fc17d>,\n",
       " <Future: pending, key: run-084d70e201c717053cc305136efa6e69>,\n",
       " <Future: pending, key: run-88b7b6319a10effb7d9dd1a6f567adef>,\n",
       " <Future: pending, key: run-b3a9467b4a0e456216b47711d19de489>,\n",
       " <Future: pending, key: run-ae0051d3abc417576acbc15514001fa7>,\n",
       " <Future: pending, key: run-651c61efbbb4391699061aaefd4506be>,\n",
       " <Future: pending, key: run-66be4f05741d72ee68711f745230953e>,\n",
       " <Future: pending, key: run-cf1d3f47d26c1b3bdf5d2ac1206ed2f3>,\n",
       " <Future: pending, key: run-19b2bdb9e6f645db54d55f79d343741f>,\n",
       " <Future: pending, key: run-f806946015a46c649f7dc785d7c6aeeb>,\n",
       " <Future: pending, key: run-1e5e9f78bddc1686ff3f140ccf144887>,\n",
       " <Future: pending, key: run-7c16485aa0b993d32b3449a6d7b7577b>,\n",
       " <Future: pending, key: run-9dcf1cc76e421a6491b2458e1fb6801f>,\n",
       " <Future: pending, key: run-9a9062922c7ce45acc88a94b2caa188e>,\n",
       " <Future: pending, key: run-e5c41b48fabb733fbeb252f4af35b209>,\n",
       " <Future: pending, key: run-c4ec1b23fcbbe8e1c16fc3d5c5763ddd>,\n",
       " <Future: pending, key: run-7b93efea09147503e4fd32ee54b56900>,\n",
       " <Future: pending, key: run-8f7d7a4088d434b2df9eb39600016ecf>,\n",
       " <Future: pending, key: run-33d39731a30a65a9c3ed1d5aaf791b8f>,\n",
       " <Future: pending, key: run-56a60c855083deeb09511ab39e98e0f2>,\n",
       " <Future: pending, key: run-4aabf71f1c40f64eb33bc14c21c7d943>,\n",
       " <Future: pending, key: run-77976483effa26dec401c8198dcf4b01>,\n",
       " <Future: pending, key: run-46bfa4aa6b36131bea3e7a60e78dca6d>,\n",
       " <Future: pending, key: run-8b75b94b5c0c98aa4105d7cc41f78247>,\n",
       " <Future: pending, key: run-b40d9ff626c89359d4d2864a033fa4d9>,\n",
       " <Future: pending, key: run-7e31787633c9b82c8551d3def395ac00>,\n",
       " <Future: pending, key: run-6d452a2301d3ada8d3bbe3e838bca91e>,\n",
       " <Future: pending, key: run-1946f16320b3e5f1f60e65cf5455bf04>,\n",
       " <Future: pending, key: run-078a2f7a1d6bb470ddc069c09738bdc5>,\n",
       " <Future: pending, key: run-fe03e321db92d692f910653d6f1e9fbf>,\n",
       " <Future: pending, key: run-fcf16f74f90432278b5aeba2e80d399a>,\n",
       " <Future: pending, key: run-1c4c7c19973456945e4117935bcd23f9>,\n",
       " <Future: pending, key: run-810b488efa0a663c53e9bbc776b04113>,\n",
       " <Future: pending, key: run-d05be227158d676999c7858372744ed4>,\n",
       " <Future: pending, key: run-13fcfe9953ccf20cdff19e52c402a0fe>,\n",
       " <Future: pending, key: run-f42d4bbd3670bea5ed5e01bd82ad1aca>,\n",
       " <Future: pending, key: run-d56cf4a8367984860768fface781f229>,\n",
       " <Future: pending, key: run-6b316c72f5311fe17dea8a2e8a6109fd>,\n",
       " <Future: pending, key: run-bc12a68c1ef17e86d68ca440c95c796d>,\n",
       " <Future: pending, key: run-c1a12a450ef3d9d911aec408700c1bf5>,\n",
       " <Future: pending, key: run-d4a5ad4f151df6345eb12709dd72a23d>,\n",
       " <Future: pending, key: run-273bd7327e46f10152e46202f08ce4fd>,\n",
       " <Future: pending, key: run-82d656409cbede665fc751b181335e7d>,\n",
       " <Future: pending, key: run-7ed67803b54ff1d213bfeb423542cb9d>,\n",
       " <Future: pending, key: run-1fe35dff3a9d00cb221dc9cd821b2bf4>]"
      ]
     },
     "execution_count": 4,
     "metadata": {},
     "output_type": "execute_result"
    }
   ],
   "source": [
    "futures"
   ]
  },
  {
   "cell_type": "code",
   "execution_count": 5,
   "id": "9d7457d8-bd4f-4ec0-a43c-0697b71bb124",
   "metadata": {},
   "outputs": [],
   "source": [
    "# Gettaing results\n",
    "results = client.gather(futures)"
   ]
  },
  {
   "cell_type": "code",
   "execution_count": 6,
   "id": "0b41be7a-e251-4c05-a3a2-d6d3c43150a3",
   "metadata": {},
   "outputs": [
    {
     "name": "stderr",
     "output_type": "stream",
     "text": [
      "2025-08-15 01:19:50,989 - distributed.deploy.adaptive_core - INFO - Adaptive stop\n"
     ]
    }
   ],
   "source": [
    "# Closing client\n",
    "client.close()\n",
    "cluster.close()"
   ]
  },
  {
   "cell_type": "code",
   "execution_count": 7,
   "id": "908df222-877e-474c-a901-3104453d03e5",
   "metadata": {},
   "outputs": [],
   "source": [
    "import torch\n",
    "torch.save(f = \"nfcocycle_cv_results_trials={0}_n={1}_additive={2}_lr={3}_new_.pt\".format(ntrial,n,additive, learn_rate), obj = results)"
   ]
  }
 ],
 "metadata": {
  "kernelspec": {
   "display_name": "Python 3 (ipykernel)",
   "language": "python",
   "name": "python3"
  },
  "language_info": {
   "codemirror_mode": {
    "name": "ipython",
    "version": 3
   },
   "file_extension": ".py",
   "mimetype": "text/x-python",
   "name": "python",
   "nbconvert_exporter": "python",
   "pygments_lexer": "ipython3",
   "version": "3.12.2"
  }
 },
 "nbformat": 4,
 "nbformat_minor": 5
}
