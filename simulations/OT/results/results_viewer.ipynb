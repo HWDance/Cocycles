{
 "cells": [
  {
   "cell_type": "code",
   "execution_count": 23,
   "id": "eb921e21-18a6-439a-acec-c1b075ab8cba",
   "metadata": {},
   "outputs": [
    {
     "ename": "FileNotFoundError",
     "evalue": "[Errno 2] No such file or directory: 'OT_results_trials=20_n=500_m=500_affine=False_corr=False.pt'",
     "output_type": "error",
     "traceback": [
      "\u001b[0;31m---------------------------------------------------------------------------\u001b[0m",
      "\u001b[0;31mFileNotFoundError\u001b[0m                         Traceback (most recent call last)",
      "Cell \u001b[0;32mIn[23], line 3\u001b[0m\n\u001b[1;32m      1\u001b[0m \u001b[38;5;28;01mimport\u001b[39;00m \u001b[38;5;21;01mtorch\u001b[39;00m\n\u001b[1;32m      2\u001b[0m \u001b[38;5;28;01mimport\u001b[39;00m \u001b[38;5;21;01mnumpy\u001b[39;00m \u001b[38;5;28;01mas\u001b[39;00m \u001b[38;5;21;01mnp\u001b[39;00m\n\u001b[0;32m----> 3\u001b[0m results \u001b[38;5;241m=\u001b[39m  \u001b[43mtorch\u001b[49m\u001b[38;5;241;43m.\u001b[39;49m\u001b[43mload\u001b[49m\u001b[43m(\u001b[49m\u001b[38;5;124;43m'\u001b[39;49m\u001b[38;5;124;43mOT_results_trials=20_n=500_m=500_affine=False_corr=False.pt\u001b[39;49m\u001b[38;5;124;43m'\u001b[39;49m\u001b[43m)\u001b[49m\n",
      "File \u001b[0;32m~/.local/mambaforge/envs/cocycles/lib/python3.12/site-packages/torch/serialization.py:986\u001b[0m, in \u001b[0;36mload\u001b[0;34m(f, map_location, pickle_module, weights_only, mmap, **pickle_load_args)\u001b[0m\n\u001b[1;32m    983\u001b[0m \u001b[38;5;28;01mif\u001b[39;00m \u001b[38;5;124m'\u001b[39m\u001b[38;5;124mencoding\u001b[39m\u001b[38;5;124m'\u001b[39m \u001b[38;5;129;01mnot\u001b[39;00m \u001b[38;5;129;01min\u001b[39;00m pickle_load_args\u001b[38;5;241m.\u001b[39mkeys():\n\u001b[1;32m    984\u001b[0m     pickle_load_args[\u001b[38;5;124m'\u001b[39m\u001b[38;5;124mencoding\u001b[39m\u001b[38;5;124m'\u001b[39m] \u001b[38;5;241m=\u001b[39m \u001b[38;5;124m'\u001b[39m\u001b[38;5;124mutf-8\u001b[39m\u001b[38;5;124m'\u001b[39m\n\u001b[0;32m--> 986\u001b[0m \u001b[38;5;28;01mwith\u001b[39;00m \u001b[43m_open_file_like\u001b[49m\u001b[43m(\u001b[49m\u001b[43mf\u001b[49m\u001b[43m,\u001b[49m\u001b[43m \u001b[49m\u001b[38;5;124;43m'\u001b[39;49m\u001b[38;5;124;43mrb\u001b[39;49m\u001b[38;5;124;43m'\u001b[39;49m\u001b[43m)\u001b[49m \u001b[38;5;28;01mas\u001b[39;00m opened_file:\n\u001b[1;32m    987\u001b[0m     \u001b[38;5;28;01mif\u001b[39;00m _is_zipfile(opened_file):\n\u001b[1;32m    988\u001b[0m         \u001b[38;5;66;03m# The zipfile reader is going to advance the current file position.\u001b[39;00m\n\u001b[1;32m    989\u001b[0m         \u001b[38;5;66;03m# If we want to actually tail call to torch.jit.load, we need to\u001b[39;00m\n\u001b[1;32m    990\u001b[0m         \u001b[38;5;66;03m# reset back to the original position.\u001b[39;00m\n\u001b[1;32m    991\u001b[0m         orig_position \u001b[38;5;241m=\u001b[39m opened_file\u001b[38;5;241m.\u001b[39mtell()\n",
      "File \u001b[0;32m~/.local/mambaforge/envs/cocycles/lib/python3.12/site-packages/torch/serialization.py:435\u001b[0m, in \u001b[0;36m_open_file_like\u001b[0;34m(name_or_buffer, mode)\u001b[0m\n\u001b[1;32m    433\u001b[0m \u001b[38;5;28;01mdef\u001b[39;00m \u001b[38;5;21m_open_file_like\u001b[39m(name_or_buffer, mode):\n\u001b[1;32m    434\u001b[0m     \u001b[38;5;28;01mif\u001b[39;00m _is_path(name_or_buffer):\n\u001b[0;32m--> 435\u001b[0m         \u001b[38;5;28;01mreturn\u001b[39;00m \u001b[43m_open_file\u001b[49m\u001b[43m(\u001b[49m\u001b[43mname_or_buffer\u001b[49m\u001b[43m,\u001b[49m\u001b[43m \u001b[49m\u001b[43mmode\u001b[49m\u001b[43m)\u001b[49m\n\u001b[1;32m    436\u001b[0m     \u001b[38;5;28;01melse\u001b[39;00m:\n\u001b[1;32m    437\u001b[0m         \u001b[38;5;28;01mif\u001b[39;00m \u001b[38;5;124m'\u001b[39m\u001b[38;5;124mw\u001b[39m\u001b[38;5;124m'\u001b[39m \u001b[38;5;129;01min\u001b[39;00m mode:\n",
      "File \u001b[0;32m~/.local/mambaforge/envs/cocycles/lib/python3.12/site-packages/torch/serialization.py:416\u001b[0m, in \u001b[0;36m_open_file.__init__\u001b[0;34m(self, name, mode)\u001b[0m\n\u001b[1;32m    415\u001b[0m \u001b[38;5;28;01mdef\u001b[39;00m \u001b[38;5;21m__init__\u001b[39m(\u001b[38;5;28mself\u001b[39m, name, mode):\n\u001b[0;32m--> 416\u001b[0m     \u001b[38;5;28msuper\u001b[39m()\u001b[38;5;241m.\u001b[39m\u001b[38;5;21m__init__\u001b[39m(\u001b[38;5;28;43mopen\u001b[39;49m\u001b[43m(\u001b[49m\u001b[43mname\u001b[49m\u001b[43m,\u001b[49m\u001b[43m \u001b[49m\u001b[43mmode\u001b[49m\u001b[43m)\u001b[49m)\n",
      "\u001b[0;31mFileNotFoundError\u001b[0m: [Errno 2] No such file or directory: 'OT_results_trials=20_n=500_m=500_affine=False_corr=False.pt'"
     ]
    }
   ],
   "source": [
    "import torch\n",
    "import numpy as np\n",
    "results =  torch.load('OT_results_trials=20_n=500_m=500_affine=True_corr=False.pt')"
   ]
  },
  {
   "cell_type": "code",
   "execution_count": 20,
   "id": "df59f482-c898-41b0-abf5-7485f8f4fbfa",
   "metadata": {},
   "outputs": [],
   "source": [
    "trial = 20\n",
    "m = 3\n",
    "rmse10 = np.zeros((trial,m))\n",
    "rmse21direct = np.zeros((trial,m))\n",
    "rmse21composite = np.zeros((trial,m))\n",
    "rmse20direct = np.zeros((trial,m))\n",
    "rmse20composite = np.zeros((trial,m))\n",
    "rmseinconsistency = np.zeros((trial,m))\n",
    "ate10 = np.zeros((trial,m))\n",
    "ate21direct = np.zeros((trial,m))\n",
    "ate21composite = np.zeros((trial,m))\n",
    "ate20direct = np.zeros((trial,m))\n",
    "ate20composite = np.zeros((trial,m))\n",
    "ateinconsistency = np.zeros((trial,m))\n",
    "t = 0\n",
    "for i in range(trial):\n",
    "    for j in range(m):\n",
    "        rmse10[i,j] = results[t]['RMSE10']\n",
    "        rmse21direct[i,j] = results[t]['RMSE21direct']\n",
    "        rmse21composite[i,j] = results[t]['RMSE21composite']\n",
    "        rmse20direct[i,j] = results[t]['RMSE20direct']\n",
    "        rmse20composite[i,j] = results[t]['RMSE20composite']\n",
    "        rmseinconsistency[i,j] = results[t]['RMSEinconsistency']\n",
    "        ate10[i,j] = results[t]['ATE10']\n",
    "        ate21direct[i,j] = results[t]['ATE21direct']\n",
    "        ate21composite[i,j] = results[t]['ATE21composite']\n",
    "        ate20direct[i,j] = results[t]['ATE20direct']\n",
    "        ate20composite[i,j] = results[t]['ATE20composite']\n",
    "        ateinconsistency[i,j] = np.abs(results[t]['ATE20direct'] - results[t]['ATE20composite'])\n",
    "        t += 1"
   ]
  },
  {
   "cell_type": "code",
   "execution_count": 21,
   "id": "cb64a630-bf78-4025-a354-190bdd4a9258",
   "metadata": {},
   "outputs": [
    {
     "name": "stdout",
     "output_type": "stream",
     "text": [
      "W2-OT:\n",
      "  RMSE10:           mean = 0.3151, sd = 0.0365\n",
      "  RMSE20 (direct):  mean = 0.3108, sd = 0.0252\n",
      "  RMSE20 (composite): mean = 0.3498, sd = 0.0229\n",
      "  RMSE inconsistency: mean = 0.2138, sd = 0.0172\n",
      "\n",
      "W1-OT:\n",
      "  RMSE10:           mean = 1.1460, sd = 0.0672\n",
      "  RMSE20 (direct):  mean = 1.4643, sd = 0.0433\n",
      "  RMSE20 (composite): mean = 1.7168, sd = 0.0668\n",
      "  RMSE inconsistency: mean = 1.9552, sd = 0.0854\n",
      "\n",
      "W$\\infty$-OT:\n",
      "  RMSE10:           mean = 0.9589, sd = 0.0489\n",
      "  RMSE20 (direct):  mean = 1.4048, sd = 0.0608\n",
      "  RMSE20 (composite): mean = 1.7189, sd = 0.0770\n",
      "  RMSE inconsistency: mean = 1.8788, sd = 0.0919\n",
      "\n"
     ]
    }
   ],
   "source": [
    "methods = ['W2-OT', 'W1-OT', r'W$\\infty$-OT']\n",
    "\n",
    "for j in range(m):\n",
    "    print(f\"{methods[j]}:\")\n",
    "    print(\"  RMSE10:           mean = {:.4f}, sd = {:.4f}\".format(np.mean(rmse10[:, j]), np.std(rmse10[:, j])))\n",
    "    print(\"  RMSE20 (direct):  mean = {:.4f}, sd = {:.4f}\".format(np.mean(rmse20direct[:, j]), np.std(rmse20direct[:, j])))\n",
    "    print(\"  RMSE20 (composite): mean = {:.4f}, sd = {:.4f}\".format(np.mean(rmse20composite[:, j]), np.std(rmse20composite[:, j])))\n",
    "    print(\"  RMSE inconsistency: mean = {:.4f}, sd = {:.4f}\".format(np.mean(rmseinconsistency[:, j]), np.std(rmseinconsistency[:, j])))\n",
    "    print()"
   ]
  },
  {
   "cell_type": "code",
   "execution_count": 22,
   "id": "4ffb1dba-1da2-4990-bf42-c4665d3748f2",
   "metadata": {},
   "outputs": [
    {
     "name": "stdout",
     "output_type": "stream",
     "text": [
      "W2-OT:\n",
      "  ATE10:           mean = 0.0814, sd = 0.0570\n",
      "  ATE20 (direct):  mean = 0.0710, sd = 0.0339\n",
      "  ATE20 (composite): mean = 0.0710, sd = 0.0339\n",
      "  ATEinconsistency : mean = 0.0000, sd = 0.0000\n",
      "\n",
      "W1-OT:\n",
      "  ATE10:           mean = 0.0814, sd = 0.0570\n",
      "  ATE20 (direct):  mean = 0.0710, sd = 0.0339\n",
      "  ATE20 (composite): mean = 0.0710, sd = 0.0339\n",
      "  ATEinconsistency : mean = 0.0000, sd = 0.0000\n",
      "\n",
      "W$\\infty$-OT:\n",
      "  ATE10:           mean = 0.0814, sd = 0.0570\n",
      "  ATE20 (direct):  mean = 0.0710, sd = 0.0339\n",
      "  ATE20 (composite): mean = 0.0710, sd = 0.0339\n",
      "  ATEinconsistency : mean = 0.0000, sd = 0.0000\n",
      "\n"
     ]
    }
   ],
   "source": [
    "methods = ['W2-OT', 'W1-OT', r'W$\\infty$-OT']\n",
    "\n",
    "for j in range(m):\n",
    "    print(f\"{methods[j]}:\")\n",
    "    print(\"  ATE10:           mean = {:.4f}, sd = {:.4f}\".format(np.mean(ate10[:, j]), np.std(ate10[:, j])))\n",
    "    print(\"  ATE20 (direct):  mean = {:.4f}, sd = {:.4f}\".format(np.mean(ate20direct[:, j]), np.std(ate20direct[:, j])))\n",
    "    print(\"  ATE20 (composite): mean = {:.4f}, sd = {:.4f}\".format(np.mean(ate20composite[:, j]), np.std(ate20composite[:, j])))\n",
    "    print(\"  ATEinconsistency : mean = {:.4f}, sd = {:.4f}\".format(np.mean(ateinconsistency[:, j]), np.std(ateinconsistency[:, j])))\n",
    "    print()"
   ]
  },
  {
   "cell_type": "code",
   "execution_count": 11,
   "id": "14713bff-565a-47b8-83b2-d8269f1afdce",
   "metadata": {},
   "outputs": [],
   "source": [
    "results =  torch.load('nfcocycle_cv_results_trials=20_n=500_corr=True_affine=True_new.pt')"
   ]
  },
  {
   "cell_type": "code",
   "execution_count": 12,
   "id": "e97da108-b7c1-4b65-bd6c-eb32a5309e30",
   "metadata": {},
   "outputs": [],
   "source": [
    "trial = 20 * 2\n",
    "m = 1\n",
    "rmse10 = np.zeros((trial,m))\n",
    "rmse20 = np.zeros((trial,m))\n",
    "rmse21 = np.zeros((trial,m))\n",
    "ate10 = np.zeros((trial,m))\n",
    "ate21 = np.zeros((trial,m))\n",
    "ate20 = np.zeros((trial,m))\n",
    "rmse10wrong = np.zeros((trial,m))\n",
    "rmse20wrong = np.zeros((trial,m))\n",
    "rmse21wrong = np.zeros((trial,m))\n",
    "ate10wrong = np.zeros((trial,m))\n",
    "ate21wrong = np.zeros((trial,m))\n",
    "ate20wrong = np.zeros((trial,m))\n",
    "t = 0\n",
    "for i in range(trial):\n",
    "    if not i % 2:\n",
    "        rmse10[i] = results[t]['RMSE10']\n",
    "        rmse20[i] = results[t]['RMSE20']\n",
    "        rmse21[i] = results[t]['RMSE21']\n",
    "        ate10[i] = results[t]['ATE10']\n",
    "        ate20[i] = results[t]['ATE20']\n",
    "        ate21[i] = results[t]['ATE21']\n",
    "    else:\n",
    "        rmse10wrong[i] = results[t]['RMSE10']\n",
    "        rmse20wrong[i] = results[t]['RMSE20']\n",
    "        rmse21wrong[i] = results[t]['RMSE21']\n",
    "        ate10wrong[i] = results[t]['ATE10']\n",
    "        ate20wrong[i] = results[t]['ATE20']\n",
    "        ate21wrong[i] = results[t]['ATE21']\n",
    "    t += 1"
   ]
  },
  {
   "cell_type": "code",
   "execution_count": 13,
   "id": "5cf0e8b6-dabf-4304-bb68-b403270dd943",
   "metadata": {},
   "outputs": [
    {
     "name": "stdout",
     "output_type": "stream",
     "text": [
      "NF-cocycles\n",
      "  RMSE10:  mean = 0.0860, sd = 0.1120\n",
      "  RMSE20:  mean = 0.1404, sd = 0.1501\n",
      "  RMSE21:  mean = 0.1637, sd = 0.1831\n",
      "  ATE10:   mean = 0.0287, sd = 0.0579\n",
      "  ATE21:   mean = 0.0361, sd = 0.0462\n",
      "  RMSE21:  mean = 0.0505, sd = 0.0686\n",
      "\n"
     ]
    }
   ],
   "source": [
    "    print(f\"NF-cocycles\")\n",
    "    print(\"  RMSE10:  mean = {:.4f}, sd = {:.4f}\".format(np.nanmean(rmse10[:]), np.nanstd(rmse10[:])))\n",
    "    print(\"  RMSE20:  mean = {:.4f}, sd = {:.4f}\".format(np.nanmean(rmse20[:]), np.nanstd(rmse20[:])))\n",
    "    print(\"  RMSE21:  mean = {:.4f}, sd = {:.4f}\".format(np.nanmean(rmse21[:]), np.nanstd(rmse21[:])))\n",
    "    print(\"  ATE10:   mean = {:.4f}, sd = {:.4f}\".format(np.nanmean(ate10[:]), np.nanstd(ate10[:])))\n",
    "    print(\"  ATE21:   mean = {:.4f}, sd = {:.4f}\".format(np.nanmean(ate20[:]), np.nanstd(ate20[:])))\n",
    "    print(\"  RMSE21:  mean = {:.4f}, sd = {:.4f}\".format(np.nanmean(ate21[:]), np.nanstd(ate21[:])))\n",
    "    print()"
   ]
  },
  {
   "cell_type": "code",
   "execution_count": 14,
   "id": "ef9712e3-5a16-4377-a0fb-7a252b2f5108",
   "metadata": {},
   "outputs": [
    {
     "name": "stdout",
     "output_type": "stream",
     "text": [
      "NF-cocycles (wrong)\n",
      "  RMSE10:  mean = 0.8306, sd = 0.8333\n",
      "  RMSE20:  mean = 0.4191, sd = 0.4215\n",
      "  RMSE21:  mean = 1.1633, sd = 1.1664\n",
      "  ATE10:   mean = 0.0338, sd = 0.0451\n",
      "  ATE21:   mean = 0.0410, sd = 0.0551\n",
      "  RMSE21:  mean = 0.0400, sd = 0.0500\n",
      "\n"
     ]
    }
   ],
   "source": [
    "    print(f\"NF-cocycles (wrong)\")\n",
    "    print(\"  RMSE10:  mean = {:.4f}, sd = {:.4f}\".format(np.nanmean(rmse10wrong[:]), np.nanstd(rmse10wrong[:])))\n",
    "    print(\"  RMSE20:  mean = {:.4f}, sd = {:.4f}\".format(np.nanmean(rmse20wrong[:]), np.nanstd(rmse20wrong[:])))\n",
    "    print(\"  RMSE21:  mean = {:.4f}, sd = {:.4f}\".format(np.nanmean(rmse21wrong[:]), np.nanstd(rmse21wrong[:])))\n",
    "    print(\"  ATE10:   mean = {:.4f}, sd = {:.4f}\".format(np.nanmean(ate10wrong[:]), np.nanstd(ate10wrong[:])))\n",
    "    print(\"  ATE21:   mean = {:.4f}, sd = {:.4f}\".format(np.nanmean(ate20wrong[:]), np.nanstd(ate20wrong[:])))\n",
    "    print(\"  RMSE21:  mean = {:.4f}, sd = {:.4f}\".format(np.nanmean(ate21wrong[:]), np.nanstd(ate21wrong[:])))\n",
    "    print()"
   ]
  }
 ],
 "metadata": {
  "kernelspec": {
   "display_name": "Python 3 (ipykernel)",
   "language": "python",
   "name": "python3"
  },
  "language_info": {
   "codemirror_mode": {
    "name": "ipython",
    "version": 3
   },
   "file_extension": ".py",
   "mimetype": "text/x-python",
   "name": "python",
   "nbconvert_exporter": "python",
   "pygments_lexer": "ipython3",
   "version": "3.12.2"
  }
 },
 "nbformat": 4,
 "nbformat_minor": 5
}
