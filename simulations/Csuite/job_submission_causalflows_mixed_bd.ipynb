{
 "cells": [
  {
   "cell_type": "code",
   "execution_count": 9,
   "id": "72a59cee-b7ab-4170-b0cd-59c7a13d5b37",
   "metadata": {},
   "outputs": [],
   "source": [
    "# Imports\n",
    "import torch\n",
    "from dask_jobqueue import SLURMCluster\n",
    "from distributed import Client\n",
    "from run_flows_mixed_bd import run_experiment\n",
    "from csuite_mixed import SCMS"
   ]
  },
  {
   "cell_type": "code",
   "execution_count": 10,
   "id": "3747b1d9-a385-4a3c-9575-5a58a8a82f68",
   "metadata": {},
   "outputs": [],
   "source": [
    "seeds = 10\n",
    "nsamples = 2000\n",
    "corr = 0.0\n",
    "use_dag = False\n",
    "affine = False\n",
    "consistent = False\n",
    "#scms = [\"generate_backdoor_linear\", \"generate_backdoor_nonlinear\"]\n",
    "scms = list(SCMS.keys())"
   ]
  },
  {
   "cell_type": "code",
   "execution_count": 11,
   "id": "b99e436e-5e61-4c1c-9fb3-68e8851b0f59",
   "metadata": {
    "scrolled": true
   },
   "outputs": [],
   "source": [
    "cluster = SLURMCluster(\n",
    "    n_workers=0,\n",
    "    memory=\"20GB\",\n",
    "    processes=1,\n",
    "    cores=1,\n",
    "    scheduler_options={\n",
    "        \"dashboard_address\": \":10092\",\n",
    "        \"allowed_failures\": 10\n",
    "    },\n",
    "    job_cpu=1,\n",
    "    walltime=\"24:0:0\",\n",
    ")\n",
    "cluster.adapt(minimum=0, maximum=200)\n",
    "client = Client(cluster)"
   ]
  },
  {
   "cell_type": "code",
   "execution_count": 12,
   "id": "977d32a4-f3c6-4634-8531-69283b587079",
   "metadata": {},
   "outputs": [
    {
     "data": {
      "text/plain": [
       "['2var_linear',\n",
       " '2var_nonlinear',\n",
       " 'triangle_linear',\n",
       " 'triangle_nonlinear',\n",
       " 'fork_linear',\n",
       " 'fork_nonlinear',\n",
       " 'chain5_linear',\n",
       " 'chain5_nonlinear']"
      ]
     },
     "execution_count": 12,
     "metadata": {},
     "output_type": "execute_result"
    }
   ],
   "source": [
    "scms"
   ]
  },
  {
   "cell_type": "code",
   "execution_count": 13,
   "id": "7f7bcef4-307e-4cf6-8fa7-a0ee81c694ed",
   "metadata": {},
   "outputs": [],
   "source": [
    "futures = []\n",
    "for scm in scms:\n",
    "    for seed in range(seeds):\n",
    "        f = client.submit(run_experiment, \n",
    "                          sc_name = scm,\n",
    "                          seed = seed,\n",
    "                          use_dag = use_dag,\n",
    "                          corr = corr,\n",
    "                          N = nsamples,\n",
    "                          affine = affine,\n",
    "                          consistent = consistent)\n",
    "        futures += [f] "
   ]
  },
  {
   "cell_type": "code",
   "execution_count": 14,
   "id": "1b654c81-a6f1-489b-abb0-6fe751e08709",
   "metadata": {},
   "outputs": [],
   "source": [
    "results = client.gather(futures)"
   ]
  },
  {
   "cell_type": "code",
   "execution_count": 15,
   "id": "9d7457d8-bd4f-4ec0-a43c-0697b71bb124",
   "metadata": {},
   "outputs": [
    {
     "name": "stderr",
     "output_type": "stream",
     "text": [
      "2025-08-04 21:43:23,997 - distributed.deploy.adaptive_core - INFO - Adaptive stop\n"
     ]
    }
   ],
   "source": [
    "client.close()\n",
    "cluster.close()"
   ]
  },
  {
   "cell_type": "code",
   "execution_count": 16,
   "id": "0dbe4e45-cf6d-4ab7-8f0f-c77b94bd94a6",
   "metadata": {},
   "outputs": [],
   "source": [
    "torch.save(f = \"causalflow_csuite_mixed_bd_results_n={0}_corr={1}_dag={2}_affine={3}_consistent={4}_trials={5}.pt\".format(nsamples, corr, use_dag, affine, consistent, seeds), obj = results)"
   ]
  }
 ],
 "metadata": {
  "kernelspec": {
   "display_name": "Python 3 (ipykernel)",
   "language": "python",
   "name": "python3"
  },
  "language_info": {
   "codemirror_mode": {
    "name": "ipython",
    "version": 3
   },
   "file_extension": ".py",
   "mimetype": "text/x-python",
   "name": "python",
   "nbconvert_exporter": "python",
   "pygments_lexer": "ipython3",
   "version": "3.12.2"
  }
 },
 "nbformat": 4,
 "nbformat_minor": 5
}
