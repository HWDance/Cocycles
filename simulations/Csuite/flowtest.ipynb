{
 "cells": [
  {
   "cell_type": "code",
   "execution_count": 1,
   "id": "4b6584e6-a9a9-4a45-9836-7eb373bf364f",
   "metadata": {},
   "outputs": [],
   "source": [
    "import torch\n",
    "import copy\n",
    "from torch.utils.data import DataLoader, TensorDataset\n",
    "from sklearn.model_selection import KFold\n",
    "from typing import Callable\n",
    "\n",
    "\n",
    "from csuite import (\n",
    "    generate_2var_linear, generate_2var_nonlinear,\n",
    "    generate_triangle_linear, generate_triangle_nonlinear,\n",
    "    generate_fork_linear, generate_fork_nonlinear,\n",
    "    generate_chain5_linear, generate_chain5_nonlinear\n",
    ")\n",
    "from architectures import get_stock_transforms\n",
    "from zuko.flows import UnconditionalDistribution\n",
    "from torch.distributions import (\n",
    "    Distribution, Normal, Laplace, Cauchy, Gamma, Uniform\n",
    ")\n",
    "from causalflows.flows import CausalFlow"
   ]
  },
  {
   "cell_type": "code",
   "execution_count": 2,
   "id": "c458ebf1-2773-4e69-9b92-7f8edb2bd45b",
   "metadata": {},
   "outputs": [],
   "source": [
    "bases=('normal','laplace')\n",
    "d = 2\n",
    "transforms = get_stock_transforms(x_dim=0, y_dim=d)\n",
    "for arch_idx, maf in enumerate(transforms):\n",
    "    for base_type in bases:\n",
    "        base = UnconditionalDistribution(\n",
    "            Normal if base_type=='normal' else Laplace,\n",
    "            loc=torch.zeros(d),\n",
    "            scale=torch.ones(d),\n",
    "            buffer=True\n",
    "        )\n",
    "flow = CausalFlow(transform=[transforms[4]], base=base)"
   ]
  },
  {
   "cell_type": "code",
   "execution_count": 3,
   "id": "1ef234b4-8ffb-4e99-9905-53f3a66c2206",
   "metadata": {},
   "outputs": [
    {
     "name": "stderr",
     "output_type": "stream",
     "text": [
      "/nfs/ghome/live/danceh/Cocycles/simulations/Csuite/architectures.py:63: UserWarning: The use of `x.T` on tensors of dimension other than 2 to reverse their shape is deprecated and it will throw an error in a future release. Consider `x.mT` to transpose batches of matrices or `x.permute(*torch.arange(x.ndim - 1, -1, -1))` to reverse the dimensions of a tensor. (Triggered internally at /pytorch/aten/src/ATen/native/TensorShape.cpp:3725.)\n",
      "  sigs = torch.sigmoid(beta.T * x + gamma.T)\n"
     ]
    },
    {
     "data": {
      "text/plain": [
       "tensor([[-3.0150, -3.6306],\n",
       "        [-2.9228, -2.8504],\n",
       "        [-2.8698, -2.8247],\n",
       "        [-2.8702, -3.1392],\n",
       "        [-3.4411, -3.5872],\n",
       "        [-2.7842, -3.2688],\n",
       "        [-2.9862, -3.1786],\n",
       "        [-3.4843, -3.3067],\n",
       "        [-3.2537, -2.2762],\n",
       "        [-3.3376, -3.4062]], grad_fn=<AddBackward0>)"
      ]
     },
     "execution_count": 3,
     "metadata": {},
     "output_type": "execute_result"
    }
   ],
   "source": [
    "flow().log_prob(torch.ones((1,2)))"
   ]
  }
 ],
 "metadata": {
  "kernelspec": {
   "display_name": "Python 3 (ipykernel)",
   "language": "python",
   "name": "python3"
  },
  "language_info": {
   "codemirror_mode": {
    "name": "ipython",
    "version": 3
   },
   "file_extension": ".py",
   "mimetype": "text/x-python",
   "name": "python",
   "nbconvert_exporter": "python",
   "pygments_lexer": "ipython3",
   "version": "3.12.2"
  }
 },
 "nbformat": 4,
 "nbformat_minor": 5
}
