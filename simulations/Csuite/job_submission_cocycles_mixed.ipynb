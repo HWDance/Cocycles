{
 "cells": [
  {
   "cell_type": "code",
   "execution_count": 1,
   "id": "72a59cee-b7ab-4170-b0cd-59c7a13d5b37",
   "metadata": {},
   "outputs": [],
   "source": [
    "# Imports\n",
    "import torch\n",
    "from dask_jobqueue import SLURMCluster\n",
    "from distributed import Client\n",
    "from run_cocycles_mixed import run_experiment\n",
    "from csuite_mixed import SCMS"
   ]
  },
  {
   "cell_type": "code",
   "execution_count": 2,
   "id": "3747b1d9-a385-4a3c-9575-5a58a8a82f68",
   "metadata": {},
   "outputs": [],
   "source": [
    "seeds = 10\n",
    "nsamples = 2000\n",
    "corr = 0.0\n",
    "use_dag = False\n",
    "scms = list(SCMS.keys())"
   ]
  },
  {
   "cell_type": "code",
   "execution_count": 3,
   "id": "b99e436e-5e61-4c1c-9fb3-68e8851b0f59",
   "metadata": {},
   "outputs": [],
   "source": [
    "cluster = SLURMCluster(\n",
    "    n_workers=0,\n",
    "    memory=\"20GB\",\n",
    "    processes=1,\n",
    "    cores=1,\n",
    "    scheduler_options={\n",
    "        \"dashboard_address\": \":10092\",\n",
    "        \"allowed_failures\": 10\n",
    "    },\n",
    "    job_cpu=1,\n",
    "    walltime=\"24:0:0\",\n",
    ")\n",
    "cluster.adapt(minimum=0, maximum=200)\n",
    "client = Client(cluster)"
   ]
  },
  {
   "cell_type": "code",
   "execution_count": 4,
   "id": "7f7bcef4-307e-4cf6-8fa7-a0ee81c694ed",
   "metadata": {},
   "outputs": [],
   "source": [
    "futures = []\n",
    "for scm in scms:\n",
    "    for seed in range(seeds):\n",
    "        f = client.submit(run_experiment, \n",
    "                          sc_name = scm,\n",
    "                          seed = seed,\n",
    "                          use_dag = use_dag,\n",
    "                          corr = corr,\n",
    "                          N = nsamples)\n",
    "        futures += [f] "
   ]
  },
  {
   "cell_type": "code",
   "execution_count": 5,
   "id": "74217d4d-2dd2-4cef-9449-672f23e0ad7f",
   "metadata": {},
   "outputs": [
    {
     "data": {
      "text/plain": [
       "[<Future: pending, key: run_experiment-24ae186e7cc5e55aac317083a8e4a9f4>,\n",
       " <Future: pending, key: run_experiment-bb44055ee286120e3ff87821ae5697be>,\n",
       " <Future: pending, key: run_experiment-609c6b0f0aebddcb85e079a8c00d7889>,\n",
       " <Future: pending, key: run_experiment-2a8a3d253b8c409a30a9bc95dc7506f3>,\n",
       " <Future: pending, key: run_experiment-208389d68eb85626cc45446ec6fa574f>,\n",
       " <Future: pending, key: run_experiment-38b7366786fe0b221a72b603ea68d25d>,\n",
       " <Future: pending, key: run_experiment-6ca5d55d125417be8a8a7965cf6edaaf>,\n",
       " <Future: pending, key: run_experiment-a7205d2569e85ef1fbf84f393694a239>,\n",
       " <Future: pending, key: run_experiment-b931d1c6eaa5fc86987c23eb77b11941>,\n",
       " <Future: pending, key: run_experiment-129fa3146a618f9b7cbd824612a99a7e>,\n",
       " <Future: pending, key: run_experiment-db9dea5a13b79556bde90c60c7c247c1>,\n",
       " <Future: pending, key: run_experiment-2119d40eef6ccbbcd6bdbc097ed17b51>,\n",
       " <Future: pending, key: run_experiment-93f1ea43c128b08ddbc3ccc2cbc40fac>,\n",
       " <Future: pending, key: run_experiment-d41b0fad2fcf50a965e698c05450a6b5>,\n",
       " <Future: pending, key: run_experiment-22ce285c534c1fe927002c7bf44ff50c>,\n",
       " <Future: pending, key: run_experiment-d83946cf9ff9afde13005cc413c7a4a0>,\n",
       " <Future: pending, key: run_experiment-119e1a395d80239aa91fe135ad6db8f3>,\n",
       " <Future: pending, key: run_experiment-ece86c276e36243d8efb812cf9a6df23>,\n",
       " <Future: pending, key: run_experiment-ec9ec42ef4ea011c9863002c3461f2c5>,\n",
       " <Future: pending, key: run_experiment-524489a456d8a84761123c4fe79cd325>,\n",
       " <Future: pending, key: run_experiment-3dc39a4cdfcde307bd87bfbbc27576ac>,\n",
       " <Future: pending, key: run_experiment-3e0b95a541bad54cb796c2aa81d5bc7a>,\n",
       " <Future: pending, key: run_experiment-dc96c75f33f35a736aa6823e8cccec53>,\n",
       " <Future: pending, key: run_experiment-857c0ed2403237b28060d96385ca82e5>,\n",
       " <Future: pending, key: run_experiment-15bc58e53d7939fe3e9639cd85eb4b85>,\n",
       " <Future: pending, key: run_experiment-c4dd5d56918b7bd0ece9b18978fd913f>,\n",
       " <Future: pending, key: run_experiment-15f541aa8e6c8597a1e60e122bd8828a>,\n",
       " <Future: pending, key: run_experiment-341d544a240bc34acf96952197c2154c>,\n",
       " <Future: pending, key: run_experiment-61460cb04ddba61da73992178ff43103>,\n",
       " <Future: pending, key: run_experiment-f108a5c50bc275ef9c402697a87dfbdf>,\n",
       " <Future: pending, key: run_experiment-d0392e37d9fedeeb28eada7a10c13a15>,\n",
       " <Future: pending, key: run_experiment-0d39bb7f663e736fd3e047f0e2681051>,\n",
       " <Future: pending, key: run_experiment-67c1a776923282812fec62b33d7f7a4f>,\n",
       " <Future: pending, key: run_experiment-a535eaf58b4a24d3b66f52662e30f681>,\n",
       " <Future: pending, key: run_experiment-292f9f246e5f17c027e8c5cc7b5e07ae>,\n",
       " <Future: pending, key: run_experiment-11d55675b3679d03d2e08f3a488b982b>,\n",
       " <Future: pending, key: run_experiment-729a1ace6c6d7609b364d00ea394eff5>,\n",
       " <Future: pending, key: run_experiment-358b9118b4a8f486afa8a0eefe47414b>,\n",
       " <Future: pending, key: run_experiment-6ecec71ed2dcd23cf1a00978fdc74375>,\n",
       " <Future: pending, key: run_experiment-a67b6fb1e11e5a2dc84e710b3c99b380>,\n",
       " <Future: pending, key: run_experiment-72aedea12f7562f63fa0bccf8208c696>,\n",
       " <Future: pending, key: run_experiment-55bedcf7aa0d43b6ff1e5dfe86768b9e>,\n",
       " <Future: pending, key: run_experiment-4d2b9d87ef1042be8f9a49f9d6cdf83e>,\n",
       " <Future: pending, key: run_experiment-c6781cd266814f10d1005af993fba15f>,\n",
       " <Future: pending, key: run_experiment-9327c772fdbf93924ea384d063d6f928>,\n",
       " <Future: pending, key: run_experiment-5b1474ddf55b114f31d348a59b0f5c36>,\n",
       " <Future: pending, key: run_experiment-e5856329c2213ca19cda6f3bf84a9397>,\n",
       " <Future: pending, key: run_experiment-014c4e1bece607c9869aadd990854570>,\n",
       " <Future: pending, key: run_experiment-42e73a8b842ea934419235d474ffe59d>,\n",
       " <Future: pending, key: run_experiment-77f70af68f084cfe43c3df21db0a7633>,\n",
       " <Future: pending, key: run_experiment-3e5940bd04f5c2d11b9c07e36b122d74>,\n",
       " <Future: pending, key: run_experiment-27dc227ac08c79718d9d3aacb84c403c>,\n",
       " <Future: pending, key: run_experiment-ea6aef0d140290a2f9249d315e2db82b>,\n",
       " <Future: pending, key: run_experiment-648ca7e3e0443eb96680c86c0f2387fd>,\n",
       " <Future: pending, key: run_experiment-d543d99a898ce24243649944bf840085>,\n",
       " <Future: pending, key: run_experiment-50d99bc0e04b8fcc2c2707beff120b20>,\n",
       " <Future: pending, key: run_experiment-4a5bdc1e559925f8b96dea23049fd54f>,\n",
       " <Future: pending, key: run_experiment-12e0319eec5df9a9e4939256b24740e5>,\n",
       " <Future: pending, key: run_experiment-b0259c52baf35fcb6dd8e6d7f86c286d>,\n",
       " <Future: pending, key: run_experiment-9083b0ec804a64f04f25710775c92bbe>,\n",
       " <Future: pending, key: run_experiment-5c58e3dc9027cf03e8ce19eb5409afcc>,\n",
       " <Future: pending, key: run_experiment-48045e0b58cf4b8f5a47758a70b9d77b>,\n",
       " <Future: pending, key: run_experiment-67b73ec3cfbada51e2e5115eec879816>,\n",
       " <Future: pending, key: run_experiment-7f6d8162a6605ad8c42b8961988968b3>,\n",
       " <Future: pending, key: run_experiment-06de1f37bd9d4df637d5fb9eeac8a60c>,\n",
       " <Future: pending, key: run_experiment-053156355ec0efe52ffabd9f6ab60d6d>,\n",
       " <Future: pending, key: run_experiment-fd8454e22572fce2c33b3b386b2df73d>,\n",
       " <Future: pending, key: run_experiment-6c92727d8b67a4768055d48dc19b627e>,\n",
       " <Future: pending, key: run_experiment-ae1ead4f0d3a7684bf68ee2c3858df98>,\n",
       " <Future: pending, key: run_experiment-96c9b9156c68af53c395503f9f158192>,\n",
       " <Future: pending, key: run_experiment-9e2d3d81df0c3eeaea3d8af8c8d109e0>,\n",
       " <Future: pending, key: run_experiment-1610fe4a42e2bf7fad7e3589f69ece4e>,\n",
       " <Future: pending, key: run_experiment-34016a749820d691744e40cd1dd67df6>,\n",
       " <Future: pending, key: run_experiment-2615e0450a2bb04fb737c1fe325e86d8>,\n",
       " <Future: pending, key: run_experiment-0f980dcdf758646ebcbce6c3ea9bc36d>,\n",
       " <Future: pending, key: run_experiment-f310aa7780ab3beddcdc382780ef5054>,\n",
       " <Future: pending, key: run_experiment-d174f2973f102ea4b75aecf7c1df524d>,\n",
       " <Future: pending, key: run_experiment-88534752341f89b1ed90e4a9aaef3a44>,\n",
       " <Future: pending, key: run_experiment-7846be5e7991dfb0f2fa8d403251d1ef>,\n",
       " <Future: pending, key: run_experiment-e42141ae32501f5dfc3d3fe020de849e>]"
      ]
     },
     "execution_count": 5,
     "metadata": {},
     "output_type": "execute_result"
    }
   ],
   "source": [
    "futures"
   ]
  },
  {
   "cell_type": "code",
   "execution_count": null,
   "id": "1b654c81-a6f1-489b-abb0-6fe751e08709",
   "metadata": {},
   "outputs": [],
   "source": [
    "results = client.gather(futures)"
   ]
  },
  {
   "cell_type": "code",
   "execution_count": null,
   "id": "9d7457d8-bd4f-4ec0-a43c-0697b71bb124",
   "metadata": {},
   "outputs": [],
   "source": [
    "client.close()\n",
    "cluster.close()"
   ]
  },
  {
   "cell_type": "code",
   "execution_count": null,
   "id": "0dbe4e45-cf6d-4ab7-8f0f-c77b94bd94a6",
   "metadata": {},
   "outputs": [],
   "source": [
    "torch.save(f = \"cocycles_csuite_mixed_results_n={0}_corr={1}_dag={2}_trials={3}.pt\".format(nsamples, corr, use_dag, trials), obj = results)"
   ]
  },
  {
   "cell_type": "code",
   "execution_count": null,
   "id": "976603eb-9f62-46f9-8581-a79973097016",
   "metadata": {},
   "outputs": [],
   "source": [
    "results"
   ]
  }
 ],
 "metadata": {
  "kernelspec": {
   "display_name": "Python 3 (ipykernel)",
   "language": "python",
   "name": "python3"
  },
  "language_info": {
   "codemirror_mode": {
    "name": "ipython",
    "version": 3
   },
   "file_extension": ".py",
   "mimetype": "text/x-python",
   "name": "python",
   "nbconvert_exporter": "python",
   "pygments_lexer": "ipython3",
   "version": "3.12.2"
  }
 },
 "nbformat": 4,
 "nbformat_minor": 5
}
