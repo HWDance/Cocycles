{
 "cells": [
  {
   "cell_type": "code",
   "execution_count": 1,
   "id": "72a59cee-b7ab-4170-b0cd-59c7a13d5b37",
   "metadata": {},
   "outputs": [],
   "source": [
    "# Imports\n",
    "import torch\n",
    "from torch.distributions import Normal,Gamma,Bernoulli\n",
    "from dask_jobqueue import SLURMCluster\n",
    "from distributed import Client\n",
    "import CSuite_Cocycles"
   ]
  },
  {
   "cell_type": "code",
   "execution_count": 2,
   "id": "a695c839-1fe5-4eaf-ab88-8f7af6aa098b",
   "metadata": {},
   "outputs": [],
   "source": [
    "# Experiment args set up\n",
    "ntrial = 20\n",
    "datasets = [\"Fork\",\"Simpson\",\"NonlinG\"]\n",
    "dists = [Normal(0,1),Bernoulli(0.5),Gamma(1,1)]\n",
    "transforms = [lambda x : x, lambda x : 2*x - 1, lambda x : 1 / x - 1]\n",
    "num_change = [0,4,4]\n",
    "\n",
    "# Model args set up\n",
    "cocycle_losses = [\"CMMD_U\",\"CMMD_V\",\"LS\"]\n",
    "batch_size = 64\n",
    "scheduler = False\n",
    "decay = 0"
   ]
  },
  {
   "cell_type": "code",
   "execution_count": 3,
   "id": "b99e436e-5e61-4c1c-9fb3-68e8851b0f59",
   "metadata": {},
   "outputs": [],
   "source": [
    "cluster = SLURMCluster(\n",
    "    n_workers=0,\n",
    "    memory=\"20GB\",\n",
    "    processes=1,\n",
    "    cores=1,\n",
    "    scheduler_options={\n",
    "        \"dashboard_address\": \":10095\",\n",
    "        \"allowed_failures\": 10\n",
    "    },\n",
    "    job_cpu=1,\n",
    "    walltime=\"48:0:0\",\n",
    ")\n",
    "cluster.adapt(minimum=0, maximum=200)\n",
    "client = Client(cluster)"
   ]
  },
  {
   "cell_type": "code",
   "execution_count": 4,
   "id": "932f087f-6cb5-49b7-82f4-2b3cba0ba847",
   "metadata": {},
   "outputs": [],
   "source": [
    "futures = []\n",
    "for seed in range(ntrial):\n",
    "    for d in range(len(datasets)):\n",
    "        for j in range(len(dists)):\n",
    "            for m in range(len(cocycle_losses)):\n",
    "                f = client.submit(CSuite_Cocycles.run_experiment,seed,datasets[d],\n",
    "                                                              dists[j],\n",
    "                                                              transforms[j],\n",
    "                                                              num_change[j],\n",
    "                                                              cocycle_losses[m],\n",
    "                                                              batch_size,\n",
    "                                                              scheduler,\n",
    "                                                              decay)\n",
    "                futures.append(f)"
   ]
  },
  {
   "cell_type": "code",
   "execution_count": 5,
   "id": "cf5df3dd-03c3-4ccd-b64a-1d8ad6586a3a",
   "metadata": {},
   "outputs": [],
   "source": [
    "results = client.gather(futures)"
   ]
  },
  {
   "cell_type": "code",
   "execution_count": 6,
   "id": "9d7457d8-bd4f-4ec0-a43c-0697b71bb124",
   "metadata": {},
   "outputs": [
    {
     "name": "stderr",
     "output_type": "stream",
     "text": [
      "2025-03-20 14:59:44,411 - distributed.deploy.adaptive_core - INFO - Adaptive stop\n"
     ]
    }
   ],
   "source": [
    "client.close()\n",
    "cluster.close()"
   ]
  },
  {
   "cell_type": "code",
   "execution_count": 7,
   "id": "908df222-877e-474c-a901-3104453d03e5",
   "metadata": {},
   "outputs": [],
   "source": [
    "torch.save(f = \"Csuite_Cocycles_trials={0}_scheduler={1}_decay={2}_CV.pt\".format(ntrial,scheduler,decay), obj = results)"
   ]
  }
 ],
 "metadata": {
  "kernelspec": {
   "display_name": "Python 3 (ipykernel)",
   "language": "python",
   "name": "python3"
  },
  "language_info": {
   "codemirror_mode": {
    "name": "ipython",
    "version": 3
   },
   "file_extension": ".py",
   "mimetype": "text/x-python",
   "name": "python",
   "nbconvert_exporter": "python",
   "pygments_lexer": "ipython3",
   "version": "3.12.2"
  }
 },
 "nbformat": 4,
 "nbformat_minor": 5
}
