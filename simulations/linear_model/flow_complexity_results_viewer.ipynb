{
 "cells": [
  {
   "cell_type": "code",
   "execution_count": 1,
   "id": "55e29172-b686-4ec6-979b-63a15db22eb8",
   "metadata": {},
   "outputs": [],
   "source": [
    "import torch\n",
    "import matplotlib.pyplot as plt\n",
    "import os\n",
    "import numpy as np\n",
    "import copy"
   ]
  },
  {
   "cell_type": "code",
   "execution_count": 2,
   "id": "3f097a45-5fbc-4537-bfae-8550ba5e2538",
   "metadata": {},
   "outputs": [],
   "source": [
    "results = torch.load('flow_complexity_results_n={0}_trials={1}_empiricalpx.pt'.format(1000,50))\n",
    "results_flow = torch.load('causalflow_complexity_results_n={0}_trials={1}.pt'.format(1000,50))"
   ]
  },
  {
   "cell_type": "code",
   "execution_count": 3,
   "id": "db474f66-874b-4c53-80f5-2df71277737e",
   "metadata": {},
   "outputs": [
    {
     "data": {
      "text/plain": [
       "(['L2', 'L1', 'URR L2', 'URR L1', 'HSIC', 'CMMD_V', 'CMMD_U'],\n",
       " ['GaussianFlow', 'LaplaceFlow'])"
      ]
     },
     "execution_count": 3,
     "metadata": {},
     "output_type": "execute_result"
    }
   ],
   "source": [
    "list(results[0].keys())[:-1], list(results_flow[0].keys())[:2]"
   ]
  },
  {
   "cell_type": "code",
   "execution_count": 4,
   "id": "3eb04b20-74a3-4c0d-9458-8f587f77a447",
   "metadata": {},
   "outputs": [],
   "source": [
    "nmodel = 9\n",
    "model_select = [0,1,2,3,4,5,7,8]\n",
    "model_keys = list(results[0].keys())[:-1]\n",
    "flow_keys = list(results_flow[0].keys())[:2]\n",
    "seeds = 50\n",
    "noise_dists = 5\n",
    "KSDs = torch.zeros((nmodel, seeds, noise_dists))\n",
    "RMSEs = torch.zeros((nmodel, seeds, noise_dists))\n",
    "Indexes = torch.zeros((nmodel, seeds, noise_dists))"
   ]
  },
  {
   "cell_type": "code",
   "execution_count": 5,
   "id": "0bf14243-635e-4440-9f67-78335d45f67e",
   "metadata": {},
   "outputs": [],
   "source": [
    "r = 0\n",
    "for i in range(seeds):\n",
    "    for n in range(noise_dists):\n",
    "        for m in range(len(flow_keys)):\n",
    "            KSDs[m,i,n] = results_flow[r][flow_keys[m]]['KS_int']\n",
    "            RMSEs[m,i,n] = results_flow[r][flow_keys[m]]['CF_RMSE']\n",
    "            Indexes[m,i,n] = results_flow[r][flow_keys[m]]['index']\n",
    "        r += 1\n",
    "\n",
    "r = 0\n",
    "for i in range(seeds):\n",
    "    for n in range(noise_dists):\n",
    "        for m in range(len(model_keys)):\n",
    "            KSDs[m+len(flow_keys),i,n] = results[r][model_keys[m]]['KS_int']\n",
    "            RMSEs[m+len(flow_keys),i,n] = results[r][model_keys[m]]['CF_RMSE']\n",
    "            Indexes[m+len(flow_keys),i,n] = results[r][model_keys[m]]['index']\n",
    "        r += 1\n",
    "\n",
    "KSDs = KSDs[model_select]\n",
    "RMSEs = RMSEs[model_select]\n",
    "Indexes = Indexes[model_select]"
   ]
  },
  {
   "cell_type": "code",
   "execution_count": 6,
   "id": "decd6f0b-6dcc-45b5-ad68-f347880e27f7",
   "metadata": {},
   "outputs": [
    {
     "data": {
      "text/plain": [
       "(tensor([0.0449, 0.0294, 0.0448, 0.0927, 0.0160]),\n",
       " tensor([0.0503, 0.0455, 0.0613, 0.4547, 0.0112]))"
      ]
     },
     "execution_count": 6,
     "metadata": {},
     "output_type": "execute_result"
    }
   ],
   "source": [
    "good_inds = torch.where(RMSEs[-1].sum(1) < 10)\n",
    "RMSEs[-1][good_inds].mean(0),RMSEs[-1][good_inds].std(0)"
   ]
  },
  {
   "cell_type": "code",
   "execution_count": 7,
   "id": "ebda14a5-02a4-4fba-bacf-aae671db30c4",
   "metadata": {},
   "outputs": [
    {
     "data": {
      "text/plain": [
       "(tensor([[0.0193, 0.0371, 0.1840, 0.2444, 0.0453],\n",
       "         [0.0505, 0.0503, 0.0693, 0.0749, 0.0736],\n",
       "         [0.0342, 0.0429, 0.1170, 0.1429, 0.0832],\n",
       "         [0.0383, 0.0415, 0.0692, 0.0802, 0.0940],\n",
       "         [0.0371, 0.0538, 0.0686, 0.0835, 0.0508],\n",
       "         [0.0538, 0.0608, 0.0552, 0.0935, 0.0519],\n",
       "         [0.0312, 0.0307, 0.0288, 0.0257, 0.0288],\n",
       "         [0.0306, 0.0314, 0.0276, 0.0274, 0.0278]]),\n",
       " tensor([[    0.0387,     0.2619,    86.7313,   137.3304,     0.3850],\n",
       "         [    0.1900,     0.2095,   100.6141,   115.9098,     0.3218],\n",
       "         [    0.0398,     0.2235,    49.0776,    63.2286,     0.2363],\n",
       "         [    0.0451,     0.1771,    77.8780,    88.6083,     0.2927],\n",
       "         [    0.0436,     0.1322,    10.0235,    15.1100,     0.1174],\n",
       "         [    0.0909,     0.1585,    11.7627,    16.3792,     0.1410],\n",
       "         [    0.0383,     0.0252,     0.2476,     0.5220,     0.0193],\n",
       "         [    0.0456,     0.0291,     0.0439,     1.4050,     2.2022]]),\n",
       " tensor([[0.9400, 0.0200, 0.0000, 0.0000, 0.0000],\n",
       "         [0.3200, 0.0000, 0.0000, 0.0000, 0.0000],\n",
       "         [0.9600, 0.0200, 0.0000, 0.0000, 0.0000],\n",
       "         [0.9600, 0.0800, 0.0000, 0.0200, 0.0400],\n",
       "         [0.9400, 0.0000, 0.0000, 0.0000, 0.0000],\n",
       "         [0.6200, 0.0000, 0.0000, 0.0200, 0.0000],\n",
       "         [0.9600, 1.0000, 0.9400, 0.9400, 0.9400],\n",
       "         [0.9600, 0.9600, 0.9600, 0.9400, 0.9800]]))"
      ]
     },
     "execution_count": 7,
     "metadata": {},
     "output_type": "execute_result"
    }
   ],
   "source": [
    "torch.set_printoptions(sci_mode=False)\n",
    "KSDs.mean(1),RMSEs.mean(1),(Indexes == 0).float().mean(1)"
   ]
  },
  {
   "cell_type": "code",
   "execution_count": 11,
   "id": "f3db0667-d95a-48bc-b5b1-d2909990b4fc",
   "metadata": {},
   "outputs": [
    {
     "data": {
      "text/plain": [
       "(tensor([[0.0087, 0.0226, 0.1583, 0.1945, 0.0198],\n",
       "         [0.0195, 0.0217, 0.0338, 0.0537, 0.0792],\n",
       "         [0.0115, 0.0151, 0.1057, 0.1099, 0.1082],\n",
       "         [0.0119, 0.0161, 0.0266, 0.0577, 0.0710],\n",
       "         [0.0116, 0.0094, 0.0097, 0.0084, 0.0098],\n",
       "         [0.0097, 0.0110, 0.0104, 0.0107, 0.0102]]),\n",
       " tensor([[    0.0451,     0.0723,   284.1096,   254.4824,     0.3303],\n",
       "         [    0.1237,     0.0499,   348.2874,   210.5683,     0.3174],\n",
       "         [    0.0480,     0.0695,   190.8556,   116.1224,     0.3512],\n",
       "         [    0.0451,     0.0936,   286.9599,   177.2745,     0.3846],\n",
       "         [    0.0399,     0.0185,     1.1036,     3.4609,     0.0246],\n",
       "         [    0.0489,     0.0446,     0.0597,     7.3934,    15.4540]]),\n",
       " tensor([[0.2399, 0.1414, 0.0000, 0.0000, 0.0000],\n",
       "         [0.4712, 0.0000, 0.0000, 0.0000, 0.0000],\n",
       "         [0.1979, 0.1414, 0.0000, 0.0000, 0.0000],\n",
       "         [0.1979, 0.2740, 0.0000, 0.1414, 0.1979],\n",
       "         [0.1979, 0.0000, 0.2399, 0.2399, 0.2399],\n",
       "         [0.1979, 0.1979, 0.1979, 0.2399, 0.1414]]))"
      ]
     },
     "execution_count": 11,
     "metadata": {},
     "output_type": "execute_result"
    }
   ],
   "source": [
    "KSDs.std(1),RMSEs.std(1),(Indexes == 0).float().std(1)"
   ]
  },
  {
   "cell_type": "code",
   "execution_count": 34,
   "id": "132a874e-0868-4785-a940-6064c2bf7b75",
   "metadata": {},
   "outputs": [
    {
     "name": "stdout",
     "output_type": "stream",
     "text": [
      "\\begin{table}[ht]\n",
      "\\centering\\small\n",
      "\\begin{tabular}{lccccc}\n",
      "\\toprule\n",
      "Method & $\\mathcal N(0,1)$ & $Ga(1,1)$ & $t_1(0,1)$ & $IG(1,1)$ & $Rad(\\tfrac12)$ \\\\\n",
      "\\midrule\n",
      "\\multicolumn{6}{c}{\\textbf{Interventional KSD}} \\\\\n",
      "\\cmidrule(lr){1-6}\n",
      "Abductive Flow (G) & \\bfseries 0.0193 $\\pm$ 0.00863 & 0.0371 $\\pm$ 0.0224 & 0.184 $\\pm$ 0.157 & 0.244 $\\pm$ 0.193 & 0.0453 $\\pm$ 0.0196 \\\\\n",
      "Abductive Flow (L) & 0.0505 $\\pm$ 0.0193 & 0.0503 $\\pm$ 0.0215 & 0.0693 $\\pm$ 0.0334 & 0.0749 $\\pm$ 0.0531 & 0.0736 $\\pm$ 0.0784 \\\\\n",
      "Conditional Flow (G) & 0.0342 $\\pm$ 0.0113 & 0.0429 $\\pm$ 0.0149 & 0.117 $\\pm$ 0.105 & 0.143 $\\pm$ 0.109 & 0.0832 $\\pm$ 0.107 \\\\\n",
      "Conditional Flow (L) & 0.0383 $\\pm$ 0.0118 & 0.0415 $\\pm$ 0.0159 & 0.0692 $\\pm$ 0.0263 & 0.0802 $\\pm$ 0.0571 & 0.094 $\\pm$ 0.0703 \\\\\n",
      "Cocycles (CMMD‑V) & 0.0312 $\\pm$ 0.0115 & \\bfseries 0.0307 $\\pm$ 0.00927 & \\bfseries 0.0288 $\\pm$ 0.00964 & \\bfseries 0.0257 $\\pm$ 0.00828 & \\bfseries 0.0288 $\\pm$ 0.00973 \\\\\n",
      "Cocycles (CMMD‑U) & \\bfseries 0.0306 $\\pm$ 0.0096 & \\bfseries 0.0314 $\\pm$ 0.0108 & \\bfseries 0.0276 $\\pm$ 0.0103 & \\bfseries 0.0274 $\\pm$ 0.0106 & \\bfseries 0.0278 $\\pm$ 0.0101 \\\\\n",
      "\\midrule\n",
      "\\multicolumn{6}{c}{\\textbf{Counterfactual RMSE}} \\\\\n",
      "\\cmidrule(lr){1-6}\n",
      "Abductive Flow (G) & \\bfseries 0.0387 $\\pm$ 0.0446 & 0.262 $\\pm$ 0.0715 & 86.7 $\\pm$ 281 & 137 $\\pm$ 252 & 0.385 $\\pm$ 0.327 \\\\\n",
      "Abductive Flow (L) & 0.19 $\\pm$ 0.122 & 0.21 $\\pm$ 0.0494 & 101 $\\pm$ 345 & 116 $\\pm$ 208 & 0.322 $\\pm$ 0.314 \\\\\n",
      "Conditional Flow (G) & 0.0398 $\\pm$ 0.0475 & 0.223 $\\pm$ 0.0688 & 49.1 $\\pm$ 189 & 63.2 $\\pm$ 115 & \\bfseries 0.236 $\\pm$ 0.348 \\\\\n",
      "Conditional Flow (L) & 0.0451 $\\pm$ 0.0446 & 0.177 $\\pm$ 0.0926 & 77.9 $\\pm$ 284 & 88.6 $\\pm$ 175 & 0.293 $\\pm$ 0.381 \\\\\n",
      "Cocycles (CMMD‑V) & \\bfseries 0.0383 $\\pm$ 0.0395 & \\bfseries 0.0252 $\\pm$ 0.0183 & \\bfseries 0.248 $\\pm$ 1.09 & \\bfseries 0.522 $\\pm$ 3.43 & \\bfseries 0.0193 $\\pm$ 0.0244 \\\\\n",
      "Cocycles (CMMD‑U) & 0.0456 $\\pm$ 0.0484 & \\bfseries 0.0291 $\\pm$ 0.0442 & \\bfseries 0.0439 $\\pm$ 0.0591 & \\bfseries 1.4 $\\pm$ 7.32 & 2.2 $\\pm$ 15.3 \\\\\n",
      "\\midrule\n",
      "\\multicolumn{6}{c}{\\textbf{True Model Selection \\%}} \\\\\n",
      "\\cmidrule(lr){1-6}\n",
      "Abductive Flow (G) & 0.94 & 0.02 & 0 & 0 & 0 \\\\\n",
      "Abductive Flow (L) & 0.32 & 0 & 0 & 0 & 0 \\\\\n",
      "Conditional Flow (G) & \\bfseries 0.96 & 0.02 & 0 & 0 & 0 \\\\\n",
      "Conditional Flow (L) & \\bfseries 0.96 & 0.08 & 0 & 0.02 & 0.04 \\\\\n",
      "Cocycles (CMMD‑V) & 0.96 & \\bfseries 1 & \\bfseries 0.94 & \\bfseries 0.94 & \\bfseries 0.94 \\\\\n",
      "Cocycles (CMMD‑U) & 0.96 & \\bfseries 0.96 & \\bfseries 0.96 & \\bfseries 0.94 & \\bfseries 0.98 \\\\\n",
      "\\bottomrule\n",
      "\\end{tabular}\n",
      "\\caption{Means~$\\pm$~stds (3 s.f.) for Interventional KSD, Counterfactual RMSE, and True‐model‐selection \\% across five noise distributions. Best two per column bolded.}\n",
      "\\end{table}\n"
     ]
    }
   ],
   "source": [
    "import numpy as np\n",
    "\n",
    "# --- replace these with your actual data arrays ---\n",
    "# ksd[m, t, d] = KSD for method m, trial t, noise d\n",
    "# rmse[m, t, d] = RMSE for method m, trial t, noise d\n",
    "# idx[m, t, d]  = index of the model selected at trial t, noise d\n",
    "#               values in 0..(n_methods-1)\n",
    "ksd  = KSDs.numpy()\n",
    "rmse = RMSEs.numpy()\n",
    "idx  = Indexes.numpy()\n",
    "# ----------------------------------------------------------------\n",
    "\n",
    "methods = [\n",
    "    \"Abductive Flow (G)\",\n",
    "    \"Abductive Flow (L)\",\n",
    "    \"Conditional Flow (G)\",\n",
    "    \"Conditional Flow (L)\",\n",
    "    \"Cocycles (CMMD‑V)\",\n",
    "    \"Cocycles (CMMD‑U)\",\n",
    "]\n",
    "noise_names = [\n",
    "    r\"$\\mathcal N(0,1)$\",\n",
    "    r\"$Ga(1,1)$\",\n",
    "    r\"$t_1(0,1)$\",\n",
    "    r\"$IG(1,1)$\",\n",
    "    r\"$Rad(\\tfrac12)$\",\n",
    "]\n",
    "\n",
    "M, T, D = ksd.shape\n",
    "\n",
    "# 1) Compute mean ± std across trials\n",
    "ksd_mean  = ksd.mean(axis=1)   # (M, D)\n",
    "ksd_std   = ksd.std(axis=1)\n",
    "rmse_mean = rmse.mean(axis=1)\n",
    "rmse_std  = rmse.std(axis=1)\n",
    "\n",
    "# 2) Percent‐selection of true arch (idx==0)\n",
    "perc = np.zeros((M, D))\n",
    "for m in range(M):\n",
    "    perc[m] = (idx[m] == 0).mean(axis=0)  # mean over trials ⇒ shape (D,)\n",
    "\n",
    "# 3) Best‐2 indices per column\n",
    "best2_ksd  = np.argsort(ksd_mean, axis=0)[:2]   # two smallest\n",
    "best2_rmse = np.argsort(rmse_mean, axis=0)[:2]\n",
    "best2_perc = np.argsort(-perc,    axis=0)[:2]  # two largest\n",
    "\n",
    "# 4) Formatting helper (3 s.f.)\n",
    "def fmt_ms(m, s):\n",
    "    return f\"{m:.3g} $\\\\pm$ {s:.3g}\"\n",
    "\n",
    "# 5) Emit LaTeX\n",
    "print(r\"\\begin{table}[ht]\")\n",
    "print(r\"\\centering\\small\")\n",
    "print(r\"\\begin{tabular}{l\" + \"c\"*D + r\"}\")\n",
    "print(r\"\\toprule\")\n",
    "print(\"Method & \" + \" & \".join(noise_names) + r\" \\\\\")\n",
    "print(r\"\\midrule\")\n",
    "\n",
    "# Interventional KSD\n",
    "print(r\"\\multicolumn{\" + f\"{D+1}\" + r\"}{c}{\\textbf{Interventional KSD}} \\\\\")\n",
    "print(r\"\\cmidrule(lr){1-\" + f\"{D+1}\" + r\"}\")\n",
    "for m, name in enumerate(methods):\n",
    "    cells = []\n",
    "    for j in range(D):\n",
    "        cell = fmt_ms(ksd_mean[m,j], ksd_std[m,j])\n",
    "        if m in best2_ksd[:,j]:\n",
    "            cell = r\"\\bfseries \" + cell\n",
    "        cells.append(cell)\n",
    "    print(name + \" & \" + \" & \".join(cells) + r\" \\\\\")\n",
    "print(r\"\\midrule\")\n",
    "\n",
    "# Counterfactual RMSE\n",
    "print(r\"\\multicolumn{\" + f\"{D+1}\" + r\"}{c}{\\textbf{Counterfactual RMSE}} \\\\\")\n",
    "print(r\"\\cmidrule(lr){1-\" + f\"{D+1}\" + r\"}\")\n",
    "for m, name in enumerate(methods):\n",
    "    cells = []\n",
    "    for j in range(D):\n",
    "        cell = fmt_ms(rmse_mean[m,j], rmse_std[m,j])\n",
    "        if m in best2_rmse[:,j]:\n",
    "            cell = r\"\\bfseries \" + cell\n",
    "        cells.append(cell)\n",
    "    print(name + \" & \" + \" & \".join(cells) + r\" \\\\\")\n",
    "print(r\"\\midrule\")\n",
    "\n",
    "# True Model Selection %\n",
    "print(r\"\\multicolumn{\" + f\"{D+1}\" + r\"}{c}{\\textbf{True Model Selection \\%}} \\\\\")\n",
    "print(r\"\\cmidrule(lr){1-\" + f\"{D+1}\" + r\"}\")\n",
    "for m, name in enumerate(methods):\n",
    "    cells = []\n",
    "    for j in range(D):\n",
    "        val = perc[m,j]\n",
    "        cell = f\"{val:.3g}\"\n",
    "        if m in best2_perc[:,j]:\n",
    "            cell = r\"\\bfseries \" + cell\n",
    "        cells.append(cell)\n",
    "    print(name + \" & \" + \" & \".join(cells) + r\" \\\\\")\n",
    "print(r\"\\bottomrule\")\n",
    "print(r\"\\end{tabular}\")\n",
    "print(r\"\\caption{Means~$\\pm$~stds (3 s.f.) for Interventional KSD, Counterfactual RMSE, and True‐model‐selection \\% across five noise distributions. Best two per column bolded.}\")\n",
    "print(r\"\\end{table}\")\n"
   ]
  }
 ],
 "metadata": {
  "kernelspec": {
   "display_name": "Python 3 (ipykernel)",
   "language": "python",
   "name": "python3"
  },
  "language_info": {
   "codemirror_mode": {
    "name": "ipython",
    "version": 3
   },
   "file_extension": ".py",
   "mimetype": "text/x-python",
   "name": "python",
   "nbconvert_exporter": "python",
   "pygments_lexer": "ipython3",
   "version": "3.12.2"
  }
 },
 "nbformat": 4,
 "nbformat_minor": 5
}
