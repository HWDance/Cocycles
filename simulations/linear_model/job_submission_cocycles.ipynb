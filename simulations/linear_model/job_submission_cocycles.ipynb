{
 "cells": [
  {
   "cell_type": "code",
   "execution_count": null,
   "id": "f203fe96-16a4-49cb-8d6b-b65acf8ac6b1",
   "metadata": {},
   "outputs": [],
   "source": [
    "# Imports\n",
    "import torch\n",
    "from dask_jobqueue import SLURMCluster\n",
    "from distributed import Client\n",
    "from run_cocycles import run_experiment\n",
    "from csuite import SCMS\n",
    "\n",
    "seeds = 50\n",
    "nsamples = 1000\n",
    "corr = 0.0\n",
    "use_dag = False\n",
    "scms = list(SCMS.keys())[:1]\n",
    "noises = [\"normal\", \"rademacher\", \"cauchy\", \"gamma\", \"inversegamma\"]\n",
    "learn_flow = True\n",
    "\n",
    "cluster = SLURMCluster(\n",
    "    n_workers=0,\n",
    "    memory=\"8GB\",\n",
    "    processes=1,\n",
    "    cores=1,\n",
    "    scheduler_options={\n",
    "        \"dashboard_address\": \":10092\",\n",
    "        \"allowed_failures\": 10\n",
    "    },\n",
    "    job_cpu=1,\n",
    "    walltime=\"24:0:0\",\n",
    ")\n",
    "cluster.adapt(minimum=0, maximum=200)\n",
    "client = Client(cluster)\n",
    "\n",
    "futures = []\n",
    "for scm in scms:\n",
    "    for noise in noises:\n",
    "        for seed in range(seeds):\n",
    "            f = client.submit(run_experiment, \n",
    "                              sc_name = scm,\n",
    "                              noise_dist = noise,\n",
    "                              seed = seed,\n",
    "                              use_dag = use_dag,\n",
    "                              corr = corr,\n",
    "                              N = nsamples,\n",
    "                              learn_flow = learn_flow)\n",
    "            futures += [f] \n",
    "\n",
    "results = client.gather(futures)\n",
    "\n",
    "client.close()\n",
    "cluster.close()\n",
    "\n",
    "torch.save(f = \"cocycles_linear_results.pt\", obj = results)\n"
   ]
  }
 ],
 "metadata": {
  "kernelspec": {
   "display_name": "Python 3 (ipykernel)",
   "language": "python",
   "name": "python3"
  },
  "language_info": {
   "codemirror_mode": {
    "name": "ipython",
    "version": 3
   },
   "file_extension": ".py",
   "mimetype": "text/x-python",
   "name": "python",
   "nbconvert_exporter": "python",
   "pygments_lexer": "ipython3",
   "version": "3.12.2"
  }
 },
 "nbformat": 4,
 "nbformat_minor": 5
}
