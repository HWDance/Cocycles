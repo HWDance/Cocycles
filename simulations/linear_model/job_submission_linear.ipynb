{
 "cells": [
  {
   "cell_type": "code",
   "execution_count": null,
   "id": "dd3f1d82-38d9-4312-b28a-f85c4c38e9a4",
   "metadata": {},
   "outputs": [],
   "source": [
    "# Imports\n",
    "import torch\n",
    "from dask_jobqueue import SLURMCluster\n",
    "from distributed import Client\n",
    "from run_linear_model import run_experiment\n",
    "\n",
    "seeds = 50\n",
    "nsamples = [1000]\n",
    "\n",
    "cluster = SLURMCluster(\n",
    "    n_workers=0,\n",
    "    memory=\"8GB\",\n",
    "    processes=1,\n",
    "    cores=1,\n",
    "    scheduler_options={\n",
    "        \"dashboard_address\": \":10092\",\n",
    "        \"allowed_failures\": 10\n",
    "    },\n",
    "    job_cpu=1,\n",
    "    walltime=\"24:0:0\",\n",
    ")\n",
    "cluster.adapt(minimum=0, maximum=200)\n",
    "client = Client(cluster)\n",
    "\n",
    "futures = []\n",
    "noise_types = [\"normal\", \"gamma\", \"cauchy\", \"inversegamma\", \"rademacher\"]\n",
    "\n",
    "for seed in range(seeds):\n",
    "    for n in nsamples:\n",
    "        for noise in noise_types:\n",
    "            f = client.submit(run_experiment, seed, n, noise_type=noise)\n",
    "            futures.append(f)\n",
    "\n",
    "results = client.gather(futures)\n",
    "\n",
    "client.close()\n",
    "cluster.close()\n",
    "\n",
    "torch.save(f = \"linear_model_results.pt\", obj = results)"
   ]
  }
 ],
 "metadata": {
  "kernelspec": {
   "display_name": "Python 3 (ipykernel)",
   "language": "python",
   "name": "python3"
  },
  "language_info": {
   "codemirror_mode": {
    "name": "ipython",
    "version": 3
   },
   "file_extension": ".py",
   "mimetype": "text/x-python",
   "name": "python",
   "nbconvert_exporter": "python",
   "pygments_lexer": "ipython3",
   "version": "3.12.2"
  }
 },
 "nbformat": 4,
 "nbformat_minor": 5
}
