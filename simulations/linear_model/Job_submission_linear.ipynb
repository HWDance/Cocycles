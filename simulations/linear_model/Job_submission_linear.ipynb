{
 "cells": [
  {
   "cell_type": "code",
   "execution_count": 1,
   "id": "72a59cee-b7ab-4170-b0cd-59c7a13d5b37",
   "metadata": {},
   "outputs": [],
   "source": [
    "# Imports\n",
    "import torch\n",
    "from dask_jobqueue import SLURMCluster\n",
    "from distributed import Client\n",
    "from linear_model import run_experiment"
   ]
  },
  {
   "cell_type": "code",
   "execution_count": 2,
   "id": "3747b1d9-a385-4a3c-9575-5a58a8a82f68",
   "metadata": {},
   "outputs": [],
   "source": [
    "seeds = 50\n",
    "nsamples = [1000]"
   ]
  },
  {
   "cell_type": "code",
   "execution_count": 3,
   "id": "b99e436e-5e61-4c1c-9fb3-68e8851b0f59",
   "metadata": {},
   "outputs": [],
   "source": [
    "cluster = SLURMCluster(\n",
    "    n_workers=0,\n",
    "    memory=\"8GB\",\n",
    "    processes=1,\n",
    "    cores=1,\n",
    "    scheduler_options={\n",
    "        \"dashboard_address\": \":10092\",\n",
    "        \"allowed_failures\": 10\n",
    "    },\n",
    "    job_cpu=1,\n",
    "    walltime=\"24:0:0\",\n",
    ")\n",
    "cluster.adapt(minimum=0, maximum=200)\n",
    "client = Client(cluster)"
   ]
  },
  {
   "cell_type": "code",
   "execution_count": 4,
   "id": "7f7bcef4-307e-4cf6-8fa7-a0ee81c694ed",
   "metadata": {},
   "outputs": [],
   "source": [
    "futures = []\n",
    "noise_types = [\"normal\", \"gamma\", \"cauchy\", \"inversegamma\", \"rademacher\"]\n",
    "\n",
    "for seed in range(seeds):\n",
    "    for n in nsamples:\n",
    "        for noise in noise_types:\n",
    "            f = client.submit(run_experiment, seed, n, noise_type=noise)\n",
    "            futures.append(f)"
   ]
  },
  {
   "cell_type": "code",
   "execution_count": 5,
   "id": "1b654c81-a6f1-489b-abb0-6fe751e08709",
   "metadata": {},
   "outputs": [],
   "source": [
    "results = client.gather(futures)"
   ]
  },
  {
   "cell_type": "code",
   "execution_count": 6,
   "id": "9d7457d8-bd4f-4ec0-a43c-0697b71bb124",
   "metadata": {},
   "outputs": [
    {
     "name": "stderr",
     "output_type": "stream",
     "text": [
      "2025-06-21 12:25:38,370 - distributed.deploy.adaptive_core - INFO - Adaptive stop\n"
     ]
    }
   ],
   "source": [
    "client.close()\n",
    "cluster.close()"
   ]
  },
  {
   "cell_type": "code",
   "execution_count": 7,
   "id": "0dbe4e45-cf6d-4ab7-8f0f-c77b94bd94a6",
   "metadata": {},
   "outputs": [],
   "source": [
    "torch.save(f = \"linear_model_results.pt\", obj = results)"
   ]
  }
 ],
 "metadata": {
  "kernelspec": {
   "display_name": "Python 3 (ipykernel)",
   "language": "python",
   "name": "python3"
  },
  "language_info": {
   "codemirror_mode": {
    "name": "ipython",
    "version": 3
   },
   "file_extension": ".py",
   "mimetype": "text/x-python",
   "name": "python",
   "nbconvert_exporter": "python",
   "pygments_lexer": "ipython3",
   "version": "3.12.2"
  }
 },
 "nbformat": 4,
 "nbformat_minor": 5
}
