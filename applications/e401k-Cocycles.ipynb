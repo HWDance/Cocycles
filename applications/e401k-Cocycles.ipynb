{
 "cells": [
  {
   "cell_type": "code",
   "execution_count": 1,
   "id": "3b61d84d-e9db-4529-a909-d1d62c567aaa",
   "metadata": {},
   "outputs": [],
   "source": [
    "# Imports\n",
    "import pandas as pd\n",
    "import numpy as np\n",
    "import doubleml as dml\n",
    "from doubleml.datasets import fetch_401K\n",
    "\n",
    "import torch\n",
    "import os\n",
    "import time\n",
    "from functools import partial\n",
    "\n",
    "from causal_cocycle.model import cocycle_model,cocycle_outcome_model\n",
    "from causal_cocycle.optimise import *\n",
    "from causal_cocycle.loss_functions import Loss\n",
    "from causal_cocycle.conditioners import Lin_Conditioner,NN_RELU_Conditioner,NN_Tanh_Conditioner\n",
    "from causal_cocycle.transformers import Transformer,Shift_layer,Scale_layer,RQS_layer,Inverse_layer\n",
    "from causal_cocycle.helper_functions import likelihood_loss,mmd,propensity_score, empirical_KR\n",
    "from causal_cocycle.kernels import *\n",
    "from causal_cocycle.regression_functionals import *\n",
    "from causal_cocycle.distribution_estimation import *"
   ]
  },
  {
   "cell_type": "code",
   "execution_count": 2,
   "id": "91cc0a7b-462a-41eb-b2bd-aaa36960fd4f",
   "metadata": {},
   "outputs": [],
   "source": [
    "# Getting data and names\n",
    "Data = fetch_401K(return_type='DataFrame')\n",
    "data = Data.to_numpy()\n",
    "names = np.array(list(Data[:0]))"
   ]
  },
  {
   "cell_type": "code",
   "execution_count": 3,
   "id": "885e07cb-264f-410a-98b3-ec7111cec00c",
   "metadata": {},
   "outputs": [],
   "source": [
    "# Data set-up (outside wrapper function)\n",
    "\n",
    "# Names\n",
    "covariates = ['age', 'inc', 'educ', 'fsize', 'marr',\n",
    "                 'twoearn', 'db', 'pira', 'hown', 'e401']\n",
    "treatment = [\"e401\"]\n",
    "outcome = [\"net_tfa\"]\n",
    "\n",
    "# Creating tensors\n",
    "X = Data[Data.columns.intersection(covariates)]\n",
    "names_x = np.array(list(X[:0]))\n",
    "treatment_ind = np.where(names_x == \"e401\")[0][0]\n",
    "X = X.to_numpy()\n",
    "cols_order = ([treatment_ind]+\n",
    "              list(np.linspace(0,treatment_ind-1,treatment_ind).astype(int))+\n",
    "              list(np.linspace(treatment_ind+1,len(X.T)-1,len(X.T)-1-treatment_ind).astype(int)))\n",
    "X = X[:,cols_order]\n",
    "N = len(X)\n",
    "Y = Data[Data.columns.intersection(outcome)].to_numpy().reshape(N,)\n",
    "X,Y = torch.tensor(X),torch.tensor(Y).view(N,1)"
   ]
  },
  {
   "cell_type": "code",
   "execution_count": 15,
   "id": "e9e634f4-72ea-4c9c-9e3a-623fe32bc756",
   "metadata": {},
   "outputs": [
    {
     "data": {
      "text/plain": [
       "tensor(3682.)"
      ]
     },
     "execution_count": 15,
     "metadata": {},
     "output_type": "execute_result"
    }
   ],
   "source": [
    "X[:,0].sum()"
   ]
  },
  {
   "cell_type": "code",
   "execution_count": 5,
   "id": "6f4aca97-eab6-42d5-962e-e1d41ce74dd8",
   "metadata": {},
   "outputs": [],
   "source": [
    "# Method + opt set up (outside wrapper function)\n",
    "\n",
    "# Treatment effect estimation\n",
    "splits = 5\n",
    "estimator = \"S-estimator\" \n",
    "bootstrap = False\n",
    "\n",
    "# Cocycle training and CV\n",
    "cocycle_loss = \"CMMD_U\"\n",
    "med_heuristic_samples = 10**3\n",
    "cocycle = \"affine\"\n",
    "validation_method = \"CV\"\n",
    "choose_best_model = \"overall\"\n",
    "retrain = True\n",
    "layers = 2\n",
    "width = 32\n",
    "train_val_split = 0.9\n",
    "folds = 2\n",
    "batch_size = 64\n",
    "learn_rate = [1e-3]\n",
    "scheduler = True\n",
    "maxiter = 1000\n",
    "miniter = 1000\n",
    "weight_decay = 1e-3\n",
    "RQS_bins = 8\n",
    "val_batch_size =128 # REMEMBER TO CHANGE THIS!!!!!!!!!!!!!!!!!!!!!\n",
    "\n",
    "# Propensity model training\n",
    "subsample = True\n",
    "subsamples = 2048\n",
    "miniter_prop = 500\n",
    "maxiter_prop = 500\n",
    "\n",
    "# Setting training optimiser args\n",
    "opt_args = [\"learn_rate\",\n",
    "            \"scheduler\",\n",
    "            \"batch_size\",\n",
    "            \"maxiter\",\n",
    "            \"miniter\",\n",
    "            \"weight_decay\",\n",
    "            \"print_\",\n",
    "            \"val_batch_size\"]\n",
    "opt_argvals = [learn_rate,\n",
    "              scheduler,\n",
    "              batch_size,\n",
    "              maxiter,\n",
    "              miniter,\n",
    "              weight_decay,\n",
    "              True,\n",
    "              val_batch_size]\n",
    "\n",
    "hyper = []\n",
    "hyper_val = []\n",
    "\n",
    "#Shorthand function calls\n",
    "def NN(i,o=1,width=128,layers=2):\n",
    "    return NN_Tanh_Conditioner(width = width,\n",
    "                                     layers = layers, \n",
    "                                     input_dims =  i, \n",
    "                                     output_dims = o,\n",
    "                                     bias = True)\n"
   ]
  },
  {
   "cell_type": "code",
   "execution_count": 6,
   "id": "70641014-3c7b-4a32-b97a-3bbabe947ad0",
   "metadata": {},
   "outputs": [],
   "source": [
    "# Storage objects\n",
    "ATE_PI_term = torch.zeros(splits)\n",
    "ATE_IPW = torch.zeros(splits)\n",
    "ATE_DR = torch.zeros(splits)\n",
    "ATT_PI_term = torch.zeros(splits)\n",
    "ATT_IPW = torch.zeros(splits)\n",
    "ATT_DR = torch.zeros(splits)\n",
    "ATE_sq_DR = torch.zeros(splits)\n",
    "ATT_sq_DR = torch.zeros(splits)"
   ]
  },
  {
   "cell_type": "code",
   "execution_count": 7,
   "id": "aed1964e-16fc-4986-b277-5158bd51a138",
   "metadata": {},
   "outputs": [],
   "source": [
    "# Specifying dimensions\n",
    "N = len(X)\n",
    "D = len(X.T) - 1*(estimator==\"T-estimator\")\n",
    "P = D - 1*(estimator==\"S-estimator\")\n",
    "\n",
    "# Shuffling data\n",
    "torch.manual_seed(0)\n",
    "shuffled_inds = torch.randperm(Y.size()[0])\n",
    "X = X[shuffled_inds]\n",
    "Y = Y[shuffled_inds]\n",
    "\n",
    "# Bootstrapping data\n",
    "if bootstrap:\n",
    "    bootstrap_inds = torch.randint(0,N-1,(N,))\n",
    "else:\n",
    "    bootstrap_inds = torch.randperm(N)\n",
    "X = X[bootstrap_inds]\n",
    "Y = Y[bootstrap_inds]\n",
    "\n",
    "# Scaling data\n",
    "scale_X = torch.ones(len(X.T))\n",
    "for i in range(len(X.T)):\n",
    "    if len(torch.unique(X[:,i])) > 2:\n",
    "        scale_X[i] = X[:,i].var(0)**0.5\n",
    "scale_Y = Y.var(0)**0.5\n",
    "Xscale,Yscale = X/scale_X, Y/scale_Y\n",
    "\n",
    "# Getting sample splits for DR estimation\n",
    "Xsplits = get_CV_splits(Xscale,splits)\n",
    "Ysplits = get_CV_splits(Yscale,splits)"
   ]
  },
  {
   "cell_type": "code",
   "execution_count": 8,
   "id": "ca6d64fd-afcf-455c-9208-e4ad2d0f117b",
   "metadata": {},
   "outputs": [
    {
     "data": {
      "text/plain": [
       "(tensor([0.3714, 3.9693, 1.5016, 1.8622, 4.6991, 0.2710, 0.6048, 0.3808, 0.2422,\n",
       "         0.6352]),\n",
       " tensor(0.2842))"
      ]
     },
     "execution_count": 8,
     "metadata": {},
     "output_type": "execute_result"
    }
   ],
   "source": [
    "Xscale.mean(0), Yscale.mean()"
   ]
  },
  {
   "cell_type": "code",
   "execution_count": 9,
   "id": "0890a2f0-4375-47cc-895c-ec18d93cb839",
   "metadata": {},
   "outputs": [],
   "source": [
    "# Specifying models for cross-validation\n",
    "if cocycle == \"linear\":\n",
    "    conditioners_list = [[Lin_Conditioner(D,1)]]\n",
    "    transformers_list = [Transformer([Shift_layer()])]\n",
    "if cocycle == \"additive\":\n",
    "    conditioners_list = [[NN(D,1,width,layers)]]\n",
    "    transformers_list = [Transformer([Shift_layer()])]\n",
    "if cocycle == \"affine\":\n",
    "    conditioners_list = [[NN(D,1,width,layers),NN(D,1,width,layers)]]\n",
    "    transformers_list = [Transformer([Shift_layer(),Scale_layer()])]\n",
    "if cocycle == \"TMI\":\n",
    "    conditioners_list = [[NN(D,1,width,layers),NN(D,1,width,layers),NN(D,3*D+2,width,layers)]]\n",
    "    transformers_list = [Transformer([Shift_layer(),Scale_layer(),RQS_layer(RQS_bins)])]\n",
    "    \n",
    "models_validation = []\n",
    "for m in range(len(conditioners_list)):\n",
    "    models_validation.append(cocycle_model(conditioners_list[m],transformers_list[m]))\n",
    "hyper_args = [hyper]*len(conditioners_list)\n",
    "hyper_argvals = [hyper_val]*len(conditioners_list)"
   ]
  },
  {
   "cell_type": "code",
   "execution_count": 10,
   "id": "3d05def3-a23a-4280-9dec-c5027f3be29a",
   "metadata": {},
   "outputs": [
    {
     "name": "stderr",
     "output_type": "stream",
     "text": [
      "/nfs/ghome/live/danceh/Cocycles/causal_cocycle/loss_functions.py:18: UserWarning: Creating a tensor from a list of numpy.ndarrays is extremely slow. Please consider converting the list to a single numpy.ndarray with numpy.array() before converting to a tensor. (Triggered internally at /home/conda/feedstock_root/build_artifacts/libtorch_1706712279749/work/torch/csrc/utils/tensor_new.cpp:261.)\n",
      "  batch_inds = torch.tensor([np.random.choice(ind_list,subsamples)]).long().view(subsamples,)\n"
     ]
    }
   ],
   "source": [
    "# Getting loss functon (using CMMD_V as scalable for validation)\n",
    "loss_fn =  Loss(loss_fn = cocycle_loss,kernel = [gaussian_kernel(torch.ones(1),1)]*2)\n",
    "loss_fn_val =  Loss(loss_fn = \"CMMD_V\",kernel = [gaussian_kernel(torch.ones(1),1)]*2)\n",
    "loss_fn.median_heuristic(Xscale,Yscale,subsamples = med_heuristic_samples)\n",
    "loss_fn_val.median_heuristic(Xscale,Yscale,subsamples = med_heuristic_samples)"
   ]
  },
  {
   "cell_type": "markdown",
   "id": "63b745d8-6353-408d-ae71-54cb651f1665",
   "metadata": {},
   "source": [
    "## S-estimation (PI)"
   ]
  },
  {
   "cell_type": "code",
   "execution_count": 11,
   "id": "8d4032ed-4b2b-49ec-83c6-411ecba7ab2e",
   "metadata": {},
   "outputs": [
    {
     "name": "stdout",
     "output_type": "stream",
     "text": [
      "Training loss last 10 avg is : tensor(-0.5084)\n",
      "99.0  % completion\n",
      "Finished optimising final model\n"
     ]
    }
   ],
   "source": [
    "if estimator == \"S-estimator\":\n",
    "\n",
    "    # Getting plug-in estimator\n",
    "    final_model_PI,val_losses_PI = validate(models_validation,\n",
    "                                         loss_fn,\n",
    "                                         Xscale,\n",
    "                                         Yscale,\n",
    "                                         loss_fn_val,\n",
    "                                         validation_method,\n",
    "                                         train_val_split,\n",
    "                                         opt_args,\n",
    "                                         opt_argvals,\n",
    "                                         hyper_args,\n",
    "                                         hyper_argvals,\n",
    "                                         choose_best_model,\n",
    "                                         retrain)\n",
    "    \n",
    "    # Getting interventional inputs\n",
    "    X1,X0 = Xscale*1,Xscale*1\n",
    "    X1[:,0],X0[:,0] = 1,0\n",
    "    treated = Xscale[:,0]==1\n",
    "    \n",
    "    # Getting potential outcomes and plug-in estimator\n",
    "    Y1scale = final_model_PI.cocycle(X1,Xscale,Yscale).detach()\n",
    "    Y0scale = final_model_PI.cocycle(X0,Xscale,Yscale).detach()\n",
    "    ATE_PI = (Y1scale-Y0scale).mean()*scale_Y\n",
    "    ATT_PI = (Y1scale-Y0scale)[treated].mean()*scale_Y\n",
    "    Var_ATE_PI = (Y1scale-Y0scale).var()*scale_Y**2/len(Y1scale)\n",
    "    Var_ATT_PI = (Y1scale-Y0scale)[treated].var()*scale_Y**2/treated.sum()"
   ]
  },
  {
   "cell_type": "code",
   "execution_count": 12,
   "id": "13041d69-ab96-4ecd-9adb-076cbd9d6836",
   "metadata": {},
   "outputs": [
    {
     "data": {
      "image/png": "[encoded data removed]",
      "text/plain": [
       "<Figure size 640x480 with 1 Axes>"
      ]
     },
     "metadata": {},
     "output_type": "display_data"
    }
   ],
   "source": [
    "plt.scatter(Y0scale,Y1scale - Y0scale);"
   ]
  },
  {
   "cell_type": "code",
   "execution_count": 14,
   "id": "4ac4ede7-cfcd-468e-907e-9e0f9d645fe8",
   "metadata": {},
   "outputs": [
    {
     "data": {
      "text/plain": [
       "tensor([6491.2915])"
      ]
     },
     "execution_count": 14,
     "metadata": {},
     "output_type": "execute_result"
    }
   ],
   "source": [
    "(Y1scale-Y0scale).mean()*scale_Y"
   ]
  },
  {
   "cell_type": "code",
   "execution_count": 15,
   "id": "e1a47017-19eb-4e3d-ad94-d0512622e401",
   "metadata": {},
   "outputs": [
    {
     "data": {
      "text/plain": [
       "tensor([[22113.2695],\n",
       "        [ 1124.8751],\n",
       "        [ 1206.2394],\n",
       "        ...,\n",
       "        [18052.5000],\n",
       "        [   93.4471],\n",
       "        [  895.5991]])"
      ]
     },
     "execution_count": 15,
     "metadata": {},
     "output_type": "execute_result"
    }
   ],
   "source": [
    "(Y1scale-Y0scale)*scale_Y"
   ]
  },
  {
   "cell_type": "code",
   "execution_count": 13,
   "id": "b621bcf1-a90f-446f-96aa-6565fb0f9e02",
   "metadata": {},
   "outputs": [
    {
     "data": {
      "text/plain": [
       "tensor(78.7303)"
      ]
     },
     "execution_count": 13,
     "metadata": {},
     "output_type": "execute_result"
    }
   ],
   "source": [
    "(((Y1scale-Y0scale)*scale_Y).var()/len(Y1scale))**0.5"
   ]
  },
  {
   "cell_type": "markdown",
   "id": "8b2bc29a-2e40-465c-bad6-c8f678278787",
   "metadata": {},
   "source": [
    "## S-estimation (DR)"
   ]
  },
  {
   "cell_type": "code",
   "execution_count": null,
   "id": "4bdfa626-2b55-4df6-b09b-bf774917f7e1",
   "metadata": {},
   "outputs": [],
   "source": [
    "# Doing ATE estimation\n",
    "if estimator == \"S-estimator\":\n",
    "    val_losses_DR = []\n",
    "    weights1,weights0 = [],[]\n",
    "    for k in range(splits):\n",
    "\n",
    "        # Getting dataset\n",
    "        Xtrain,Ytrain = Xsplits[k][0],Ysplits[k][0]\n",
    "        Xtest,Ytest = Xsplits[k][1],Ysplits[k][1]\n",
    "        treated_train,control_train = Xtrain[:,0]==1,Xtrain[:,0]==0\n",
    "        treated_test,control_test = Xtest[:,0]==1,Xtest[:,0]==0\n",
    "\n",
    "        # Getting model for kth split\n",
    "        final_model_DR,val_losses = validate(models_validation,\n",
    "                                         loss_fn,\n",
    "                                         Xtrain,\n",
    "                                         Ytrain,\n",
    "                                         loss_fn_val,\n",
    "                                         validation_method,\n",
    "                                         train_val_split,\n",
    "                                         opt_args,\n",
    "                                         opt_argvals,\n",
    "                                         hyper_args,\n",
    "                                         hyper_argvals,\n",
    "                                         choose_best_model,\n",
    "                                         retrain)\n",
    "        val_losses_DR.append(val_losses)\n",
    "        \n",
    "        # Getting interventional inputs\n",
    "        Xtest1,Xtest0 = Xtest*1,Xtest*1\n",
    "        Xtest1[:,0],Xtest0[:,0] = 1,0\n",
    "    \n",
    "        # Getting potential outcomes and plug-in estimator\n",
    "        EY1test = final_model_DR.cocycle_outer(Xtest1,Xtrain,Ytrain).detach().mean(1)\n",
    "        EY0test = final_model_DR.cocycle_outer(Xtest0,Xtrain,Ytrain).detach().mean(1)\n",
    "        ATE_PI_term[k] = (EY1test-EY0test).mean()\n",
    "        ATT_PI_term[k] = (Ytest[:,0]-EY0test)[treated_test].mean()\n",
    "        v_ATE_DR = (EY1test-EY0test)\n",
    "        v_ATT_DR = (Ytest[:,0]-EY0test)*Xtest[:,1]/treated_test.float().mean()\n",
    "           \n",
    "        \n",
    "        # Estimating propensity model\n",
    "        kernel = exponential_kernel(lengthscale = torch.ones(P, requires_grad = True),scale = 1)\n",
    "        regressor = NW_functional(kernel,reg = 1e-4)\n",
    "        propensity_model = Conditional_Expectation_Regressor(regressor)\n",
    "        losses = propensity_model.optimise(Xtrain[:,1:],Xtrain[:,:1].float(),\n",
    "                                    subsample = subsample,\n",
    "                                    miniter = miniter_prop,\n",
    "                                    maxiter = maxiter_prop,\n",
    "                                    subsamples = subsamples,\n",
    "                                    nfold = folds,\n",
    "                                    print_ = True)\n",
    "\n",
    "        # Getting IPW weights and estimator\n",
    "        Probs = propensity_model.forward(Xtrain[:,:1],Xtrain[:,1:].float(),Xtest[:,1:].float()).detach()\n",
    "        weights1.append(Xtest[:,:1]/Probs)\n",
    "        weights0.append((1-Xtest[:,:1])/(1-Probs))\n",
    "        ATE_IPW[k] = ((weights1[k]-weights0[k])*Ytest).mean()\n",
    "        v_ATE_DR += (weights1[k]-weights0[k])[:,0]*Ytest[:,0]\n",
    "\n",
    "        # Getting conditional expectations and DR estimator\n",
    "        ATE_DR[k] = ATE_PI_term[k]+ ATE_IPW[k] + ((weights0[k][:,0]*EY0test - weights1[k][:,0]*EY1test)).mean()\n",
    "        ATT_DR[k] = ATT_PI_term[k] - ((weights0[k]*Probs)[:,0]*(Ytest-EY0test)).mean()/treated.float().mean()\n",
    "        v_ATE_DR += (weights0[k][:,0]*EY0test - weights1[k][:,0]*EY1test)\n",
    "        v_ATT_DR -= ((weights0[k]*Probs)[:,0]*(Ytest[:,0]-EY0test))/treated_test.float().mean()\n",
    "        ATE_sq_DR[k] = (v_ATE_DR**2).mean()\n",
    "        ATT_sq_DR[k] = (v_ATT_DR**2).mean()\n",
    "    \n",
    "ATE_PI_term *= scale_Y\n",
    "ATE_IPW *= scale_Y\n",
    "ATE_DR *= scale_Y\n",
    "ATT_PI_term *= scale_Y\n",
    "ATT_IPW *= scale_Y\n",
    "ATT_DR *= scale_Y"
   ]
  },
  {
   "cell_type": "markdown",
   "id": "906219c6-8048-490b-bcaa-4a4d7382d8f3",
   "metadata": {},
   "source": [
    "## T-estimation (PI)"
   ]
  },
  {
   "cell_type": "code",
   "execution_count": null,
   "id": "0698a3a6-bf2b-4736-bb97-420e6b982216",
   "metadata": {},
   "outputs": [],
   "source": [
    "if estimator == \"T-estimator\":\n",
    "\n",
    "    # Getting dataset\n",
    "    treated,control = Xscale[:,0]==1,Xscale[:,0]==0\n",
    "\n",
    "    #  Splitting dataset into treated and control\n",
    "    Y_1,X_1 = Yscale[treated], Xscale[treated,1:]\n",
    "    Y_0,X_0 = Yscale[control], Xscale[control,1:]\n",
    "    \n",
    "    # T-estimation\n",
    "    final_model1,val_losses1 = validate(models_validation,\n",
    "                                         loss_fn,\n",
    "                                         X_1,\n",
    "                                         Y_1,\n",
    "                                         loss_fn_val,\n",
    "                                         validation_method,\n",
    "                                         train_val_split,\n",
    "                                         opt_args,\n",
    "                                         opt_argvals,\n",
    "                                         hyper_args,\n",
    "                                         hyper_argvals,\n",
    "                                         choose_best_model,\n",
    "                                         retrain)\n",
    "    \n",
    "    final_model0,val_losses0 = validate(models_validation,\n",
    "                                         loss_fn,\n",
    "                                         X_0,\n",
    "                                         Y_0,\n",
    "                                         loss_fn_val,\n",
    "                                         validation_method,\n",
    "                                         train_val_split,\n",
    "                                         opt_args,\n",
    "                                         opt_argvals,\n",
    "                                         hyper_args,\n",
    "                                         hyper_argvals,\n",
    "                                         choose_best_model,\n",
    "                                         retrain)\n",
    "    val_losses_PI = [val_losses1,val_losses0]\n",
    "    \n",
    "    # Estimating KR transport\n",
    "    U_1 = final_model1.inverse_transformation(X_1,Y_1).detach()\n",
    "    U_0 = final_model0.inverse_transformation(X_0,Y_0).detach()\n",
    "    KR_map = empirical_KR(U_0,U_1)\n",
    "\n",
    "    # Getting base distribution test samples for entire fold\n",
    "    U1,U0 = torch.zeros((len(treated),1)), torch.zeros((len(treated),1))\n",
    "    U1[treated],U0[control] = U_1,U_0\n",
    "    U1[control],U0[treated] = KR_map.forward(U_0),KR_map.forward(U_1)\n",
    "\n",
    "    # Getting potential outcomes and plug-in estimator\n",
    "    Y1scale =  final_model1.transformation(Xscale[:,1:],U1).detach()\n",
    "    Y0scale =  final_model0.transformation(Xscale[:,1:],U0).detach()\n",
    "    ATE_PI = (Y1scale-Y0scale).mean()*scale_Y\n",
    "    ATT_PI = (Y1scale-Y0scale)[treated].mean()*scale_Y\n"
   ]
  },
  {
   "cell_type": "code",
   "execution_count": null,
   "id": "6d578c60-8852-4855-8255-e3b885e1105a",
   "metadata": {},
   "outputs": [],
   "source": [
    "    # Estimating KR transport\n",
    "    U_1 = final_model1[0].inverse_transformation(X_1,Y_1).detach()\n",
    "    U_0 = final_model0[0].inverse_transformation(X_0,Y_0).detach()\n",
    "    KR_map = empirical_KR(U_0,U_1)\n",
    "\n",
    "    # Getting base distribution test samples for entire fold\n",
    "    U1,U0 = torch.zeros((len(treated),1)), torch.zeros((len(treated),1))\n",
    "    U1[treated],U0[control] = U_1,U_0\n",
    "    U1[control],U0[treated] = KR_map.forward(U_0),KR_map.forward(U_1)\n",
    "\n",
    "    # Getting potential outcomes and plug-in estimator\n",
    "    Y1scale =  final_model1[0].transformation(Xscale[:,1:],U1).detach()\n",
    "    Y0scale =  final_model0[0].transformation(Xscale[:,1:],U0).detach()\n",
    "    ATE_PI = (Y1scale-Y0scale).mean()*scale_Y\n",
    "    ATT_PI = (Y1scale-Y0scale)[treated].mean()*scale_Y"
   ]
  },
  {
   "cell_type": "code",
   "execution_count": null,
   "id": "47c77198-8a4f-4a98-a8c0-885eca7b4d91",
   "metadata": {},
   "outputs": [],
   "source": [
    "# Estimating KR transport\n",
    "U_1 = final_model1.inverse_transformation(X_1,Y_1).detach()\n",
    "U_0 = final_model0.inverse_transformation(X_0,Y_0).detach()\n",
    "KR_map = empirical_KR(U_0,U_1)\n",
    "\n",
    "# Getting base distribution test samples for entire fold\n",
    "U1,U0 = torch.zeros((len(treated),1)), torch.zeros((len(treated),1))\n",
    "U1[treated],U0[control] = U_1,U_0\n",
    "U1[control],U0[treated] = KR_map.forward(U_0),KR_map.forward(U_1)\n",
    "\n",
    "# Getting potential outcomes and plug-in estimator\n",
    "Y1scale =  final_model1.transformation(Xscale[:,1:],U1).detach()\n",
    "Y0scale =  final_model0.transformation(Xscale[:,1:],U0).detach()\n",
    "ATE_PI = (Y1scale-Y0scale).mean()*scale_Y\n",
    "ATT_PI = (Y1scale-Y0scale)[treated].mean()*scale_Y"
   ]
  },
  {
   "cell_type": "code",
   "execution_count": null,
   "id": "f546c4cb-b468-4535-8063-2ddb45359988",
   "metadata": {},
   "outputs": [],
   "source": [
    "#bins_scale=50\n",
    "#plt.hist(U0[control].numpy(), bins = int(control.sum()/bins_scale),alpha = 1);\n",
    "#plt.hist(U0[treated].numpy(), bins = int(treated.sum()/bins_scale),alpha = 0.5);"
   ]
  },
  {
   "cell_type": "code",
   "execution_count": null,
   "id": "8642c1b0-f281-4ff4-accb-98609034f754",
   "metadata": {},
   "outputs": [],
   "source": [
    "if estimator == \"T-estimator\":\n",
    "    Utrain1_splits,Utrain0_splits = [],[]\n",
    "    val_losses_DR = []\n",
    "    for k in range(splits):\n",
    "\n",
    "        # Getting dataset\n",
    "        Xtrain,Ytrain = Xsplits[k][0],Ysplits[k][0]\n",
    "        Xtest,Ytest = Xsplits[k][1],Ysplits[k][1]\n",
    "        treated_train,control_train = Xtrain[:,0]==1,Xtrain[:,0]==0\n",
    "        treated_test,control_test = Xtest[:,0]==1,Xtest[:,0]==0\n",
    "    \n",
    "        #  Splitting dataset into treated and control\n",
    "        Y_1train,X_1train = Ytrain[treated_train], Xtrain[treated_train,1:]\n",
    "        Y_0train,X_0train = Ytrain[control_train], Xtrain[control_train,1:]\n",
    "        Y_1test,X_1test = Ytest[treated_test], Xtest[treated_test,1:]\n",
    "        Y_0test,X_0test = Ytest[control_test], Xtest[control_test,1:]\n",
    "        \n",
    "        # T-estimation\n",
    "        final_model1,val_losses1 = validate(models_validation,\n",
    "                                             loss_fn,\n",
    "                                             X_1train,\n",
    "                                             Y_1train,\n",
    "                                             loss_fn_val,\n",
    "                                             validation_method,\n",
    "                                             train_val_split,\n",
    "                                             opt_args,\n",
    "                                             opt_argvals,\n",
    "                                             hyper_args,\n",
    "                                             hyper_argvals,\n",
    "                                             choose_best_model,\n",
    "                                             retrain)\n",
    "        \n",
    "        final_model0,val_losses0 = validate(models_validation,\n",
    "                                             loss_fn,\n",
    "                                             X_0train,\n",
    "                                             Y_0train,\n",
    "                                             loss_fn_val,\n",
    "                                             validation_method,\n",
    "                                             train_val_split,\n",
    "                                             opt_args,\n",
    "                                             opt_argvals,\n",
    "                                             hyper_args,\n",
    "                                             hyper_argvals,\n",
    "                                             choose_best_model,\n",
    "                                             retrain)\n",
    "        val_losses_DR.append([val_losses1,val_losses0])\n",
    "        \n",
    "        # Estimating KR transport\n",
    "        U_1train = final_model1.inverse_transformation(X_1train,Y_1train).detach()\n",
    "        U_0train = final_model0.inverse_transformation(X_0train,Y_0train).detach()\n",
    "        KR_map = empirical_KR(U_0train,U_1train)\n",
    "\n",
    "        # Getting base distribution test samples for entire fold\n",
    "        Utrain1,Utrain0 = torch.zeros((len(treated_train),1)), torch.zeros((len(treated_train),1))\n",
    "        Utrain1[treated_train],Utrain0[control_train] = U_1train,U_0train\n",
    "        Utrain1[control_train],Utrain0[treated_train] = KR_map.forward(U_0train),KR_map.forward(U_1train)\n",
    "\n",
    "        # Saving samples for re-use\n",
    "        Utrain1_splits.append(Utrain1)\n",
    "        Utrain0_splits.append(Utrain0)\n",
    "        \n",
    "        # Getting potential outcomes and plug-in estimator\n",
    "        EY1test =  final_model1.transformation_outer(Xtest[:,1:],Utrain1).detach().mean(1)\n",
    "        EY0test =  final_model0.transformation_outer(Xtest[:,1:],Utrain0).detach().mean(1)\n",
    "        ATE_PI_term[k] = (EY1test-EY0test).mean()\n",
    "        ATT_PI_term[k] = (Ytest[:,0]-EY0test).mean()\n",
    "\n",
    "        # Estimating propensity model\n",
    "        kernel = exponential_kernel(lengthscale = torch.ones(P, requires_grad = True),scale = 1)\n",
    "        regressor = NW_functional(kernel)\n",
    "        propensity_model = Conditional_Expectation_Regressor(regressor)\n",
    "        losses = propensity_model.optimise(Xtrain[:,1:],Xtrain[:,:1].float(),\n",
    "                                    subsample = subsample,\n",
    "                                    miniter = miniter_prop,\n",
    "                                    maxiter = maxiter_prop,\n",
    "                                    subsamples = subsamples,\n",
    "                                    nfold = folds)\n",
    "\n",
    "        # Getting IPW weights and estimator\n",
    "        Probs = propensity_model.forward(Xtrain[:,:1],Xtrain[:,1:].float(),Xtest[:,1:].float()).detach()\n",
    "        weights1.append(Xtest[:,:1]/Probs)\n",
    "        weights0.append((1-Xtest[:,:1])/(1-Probs))\n",
    "        ATE_IPW[k] = ((weights1[k]-weights0[k])*Ytest).mean()\n",
    "\n",
    "\n",
    "        # Getting conditional expectations and DR estimator\n",
    "        ATE_DR[k] = ATE_PI_term[k]+ ATE_IPW[k] + ((weights0[k][:,0]*EY0test - weights1[k][:,0]*EY1test)).mean()\n",
    "        ATT_DR[k] = ATT_PI_term[k] - ((weights0[k]*Probs)[:,0]*(Ytest-EY0test)).mean()/treated_test.float().mean()\n",
    "\n",
    "    ATE_PI_term *= scale_Y\n",
    "    ATE_IPW *= scale_Y\n",
    "    ATE_DR *= scale_Y\n",
    "    ATT_PI_term *= scale_Y\n",
    "    ATT_IPW *= scale_Y\n",
    "    ATT_DR *= scale_Y"
   ]
  },
  {
   "cell_type": "markdown",
   "id": "935a01d8-08b7-4037-9a20-02570c8796a9",
   "metadata": {},
   "source": [
    "## ETQ estimation (effect of treatment on quantile, not quantile treatment effect!)"
   ]
  },
  {
   "cell_type": "code",
   "execution_count": null,
   "id": "faadf0a3-6cbb-4309-bce4-8e1efb433c9e",
   "metadata": {},
   "outputs": [],
   "source": [
    "# Counterfactual regression\n",
    "treated,control = Xscale[:,0]==1,Xscale[:,0]==0\n",
    "PPEQ_threshold = 1000 \n",
    "\n",
    "# Set up\n",
    "functional_ETQ = LL_functional\n",
    "functional_PPEQ = NW_functional\n",
    "kernel = gaussian_kernel\n",
    "subsample = False\n",
    "kx = kernel(lengthscale = 1)\n",
    "regressor_ETQ = functional_ETQ(kx)\n",
    "regressor_PPEQ = functional_PPEQ(kx)\n",
    "CE_ETQ = Conditional_Expectation_Regressor(regressor_ETQ)\n",
    "CE_PPEQ = Conditional_Expectation_Regressor(regressor_PPEQ)\n",
    "\n",
    "# Hypergrid\n",
    "if functional_ETQ != KRR_functional:\n",
    "    hyper_ls = 2**torch.linspace(-5,5,10)\n",
    "    hyper_grid = [[hyper_ls[h]] for h in range(len(hyper_ls))]\n",
    "else:\n",
    "    hyper_lambda = 2**torch.linspace(-10,0,5)\n",
    "    hyper_ls = 2**torch.linspace(-5,5,5)\n",
    "    hyper_grid_lambda = hyper_lambda.repeat(len(hyper_ls))\n",
    "    hyper_grid_ls = torch.repeat_interleave(hyper_ls,len(hyper_lambda)) \n",
    "    hyper_grid = [[hyper_grid_ls[h],hyper_grid_lambda[h]] for h in range(len(hyper_grid_lambda))]\n",
    "\n",
    "# Doing CV over hypers\n",
    "CE_ETQ.CVgridsearch(Y0scale,(Y1scale-Y0scale),\n",
    "                        nfold = folds, \n",
    "                        subsample = subsample,\n",
    "                        subsamples = subsamples,\n",
    "                        hyper_grid = hyper_grid)\n",
    "\n",
    "# Hypergrid\n",
    "if functional_ETQ != KRR_functional:\n",
    "    hyper_ls = 2**torch.linspace(-5,5,10)\n",
    "    hyper_grid = [[hyper_ls[h]] for h in range(len(hyper_ls))]\n",
    "else:\n",
    "    hyper_lambda = 2**torch.linspace(-10,0,5)\n",
    "    hyper_ls = 2**torch.linspace(-5,5,5)\n",
    "    hyper_grid_lambda = hyper_lambda.repeat(len(hyper_ls))\n",
    "    hyper_grid_ls = torch.repeat_interleave(hyper_ls,len(hyper_lambda)) \n",
    "    hyper_grid = [[hyper_grid_ls[h],hyper_grid_lambda[h]] for h in range(len(hyper_grid_lambda))]\n",
    "\n",
    "# Doing CV over hypers\n",
    "CE_PPEQ.CVgridsearch(Y0scale,((Y1scale-Y0scale)>=PPEQ_threshold/scale_Y).float(),\n",
    "                        nfold = folds, \n",
    "                        subsample = subsample,\n",
    "                        subsamples = subsamples,\n",
    "                        hyper_grid = hyper_grid)"
   ]
  },
  {
   "cell_type": "code",
   "execution_count": null,
   "id": "be0880ab-d5fa-4931-aa09-b4f18623775f",
   "metadata": {},
   "outputs": [],
   "source": [
    "# Getting quantiles:\n",
    "quantiles = torch.linspace(0.1,0.9,90)\n",
    "Y0quants = torch.quantile(Y0scale,quantiles)[:,None]\n",
    "ETQ = CE_ETQ.forward((Y1scale-Y0scale),Y0scale,Y0quants).detach()*scale_Y\n",
    "PPEQ = CE_PPEQ.forward(((Y1scale-Y0scale)>=PPEQ_threshold/scale_Y).float(),Y0scale,Y0quants).detach()"
   ]
  },
  {
   "cell_type": "code",
   "execution_count": null,
   "id": "5e31cb77-bd0c-4732-9185-0f8fe540da77",
   "metadata": {},
   "outputs": [],
   "source": [
    "plt.plot(quantiles,PPEQ);\n",
    "plt.show()\n",
    "plt.plot(quantiles,ETQ);"
   ]
  },
  {
   "cell_type": "code",
   "execution_count": null,
   "id": "dcfd3bc2-b1bf-4af4-9430-ba159e2ad6ee",
   "metadata": {},
   "outputs": [],
   "source": [
    "# Getting quantiles (treated and control):\n",
    "quantiles = torch.linspace(0.01,0.99,99)\n",
    "Yquants_control = torch.quantile(Yscale[control],quantiles)[:,None]\n",
    "Yquants_treated = torch.quantile(Yscale[treated],quantiles)[:,None]\n",
    "\n",
    "ETQ1 = CE.forward((Y1scale[treated]-Y0scale[treated]),Yscale[treated],Yquants_treated).detach()*scale_Y\n",
    "ETQ0 = CE.forward((Y1scale[control]-Y0scale[control]),Yscale[control],Yquants_control).detach()*scale_Y"
   ]
  },
  {
   "cell_type": "code",
   "execution_count": null,
   "id": "26a843d7-6355-4eae-af22-ba075c268d72",
   "metadata": {},
   "outputs": [],
   "source": [
    "results = {\"ATE_PI\" : ATE_PI,\n",
    "           \"ATE_PI_term\" : ATE_PI_term,\n",
    "           \"ATE_IPW\" : ATE_IPW,\n",
    "           \"ATE_DR\" : ATE_DR,\n",
    "           \"ATT_PI\" : ATT_PI,\n",
    "           \"ATT_PI_term\" : ATT_PI_term,\n",
    "           \"ATT_DR\" : ATT_DR,\n",
    "           \"ETQ\" : ETQ,\n",
    "           \"PPEQ\" : PPEQ,\n",
    "           \"val_loss_PI\",val_losses_PI,\n",
    "           \"val_loss_DR\",val_losses_DR}"
   ]
  }
 ],
 "metadata": {
  "kernelspec": {
   "display_name": "Python 3 (ipykernel)",
   "language": "python",
   "name": "python3"
  },
  "language_info": {
   "codemirror_mode": {
    "name": "ipython",
    "version": 3
   },
   "file_extension": ".py",
   "mimetype": "text/x-python",
   "name": "python",
   "nbconvert_exporter": "python",
   "pygments_lexer": "ipython3",
   "version": "3.12.2"
  }
 },
 "nbformat": 4,
 "nbformat_minor": 5
}
