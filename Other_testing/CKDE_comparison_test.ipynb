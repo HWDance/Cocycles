{
 "cells": [
  {
   "cell_type": "code",
   "execution_count": 1,
   "id": "66849a18-6463-428c-8002-0e836c2ce0a8",
   "metadata": {},
   "outputs": [],
   "source": [
    "# User\n",
    "user = \"nk1922\"\n",
    "\n",
    "# Imports\n",
    "import torch\n",
    "from torch import nn\n",
    "from torch.distributions import Normal,Laplace,Uniform\n",
    "import matplotlib.pyplot as plt\n",
    "import os\n",
    "os.environ[\"KMP_DUPLICATE_LIB_OK\"]=\"TRUE\"\n",
    "\n",
    "os.chdir('C:/Users/{0}/OneDrive/Documents/Cocycles project/Cocycle_code'.format(user))\n",
    "from Cocycle_CDAGM import *\n",
    "from Cocycle_model import *\n",
    "from Cocycle_optimise import *\n",
    "from Cocycle_preprocess import *\n",
    "from Cocycle_loss_functions import *\n",
    "from Conditioners import *\n",
    "from Transformers import *\n",
    "from Helper_functions import *\n",
    "from KDE_estimation import *\n",
    "from Kernels import *\n",
    "os.chdir('C:/Users/{0}/OneDrive/Documents/Cocycles project/Flows_code'.format(user))\n",
    "from RQS import *\n",
    "os.chdir('C:/Users/{0}/OneDrive/Documents/Cocycles project/Experiments_code'.format(user))\n",
    "from Csuite import Nonlin_Gauss_chain as DGP\n",
    "from Csuite import NonlinGausschain_conditioner as True_Conditioner\n",
    "os.chdir('C:/Users/{0}/OneDrive/Documents/Cocycles project/Experimental_results'.format(user))"
   ]
  },
  {
   "cell_type": "code",
   "execution_count": 2,
   "id": "2faa1c92-69ee-4e81-a1cc-3095316d6957",
   "metadata": {},
   "outputs": [
    {
     "ename": "TypeError",
     "evalue": "Nonlin_Gauss_chain() got an unexpected keyword argument 'CATE'",
     "output_type": "error",
     "traceback": [
      "\u001b[1;31m---------------------------------------------------------------------------\u001b[0m",
      "\u001b[1;31mTypeError\u001b[0m                                 Traceback (most recent call last)",
      "Input \u001b[1;32mIn [2]\u001b[0m, in \u001b[0;36m<cell line: 7>\u001b[1;34m()\u001b[0m\n\u001b[0;32m      5\u001b[0m a \u001b[38;5;241m=\u001b[39m \u001b[38;5;241m0\u001b[39m\n\u001b[0;32m      6\u001b[0m cate_levels \u001b[38;5;241m=\u001b[39m torch\u001b[38;5;241m.\u001b[39mlinspace(\u001b[38;5;241m-\u001b[39m\u001b[38;5;241m4\u001b[39m,\u001b[38;5;241m2\u001b[39m,\u001b[38;5;241m100\u001b[39m)\n\u001b[1;32m----> 7\u001b[0m Xobs_z,Xint_z \u001b[38;5;241m=\u001b[39m \u001b[43mDGP\u001b[49m\u001b[43m(\u001b[49m\u001b[38;5;241;43m0\u001b[39;49m\u001b[43m,\u001b[49m\u001b[43m \u001b[49m\u001b[43mNtrue\u001b[49m\u001b[43m \u001b[49m\u001b[43m,\u001b[49m\u001b[38;5;28;43;01mTrue\u001b[39;49;00m\u001b[43m,\u001b[49m\u001b[43mintervention\u001b[49m\u001b[43m,\u001b[49m\u001b[43m[\u001b[49m\u001b[43ma\u001b[49m\u001b[43m]\u001b[49m\u001b[43m,\u001b[49m\u001b[43madversarial\u001b[49m\u001b[43m \u001b[49m\u001b[38;5;241;43m=\u001b[39;49m\u001b[43m \u001b[49m\u001b[38;5;28;43;01mFalse\u001b[39;49;00m\u001b[43m,\u001b[49m\u001b[43m \u001b[49m\u001b[43mCATE\u001b[49m\u001b[43m \u001b[49m\u001b[38;5;241;43m=\u001b[39;49m\u001b[43m \u001b[49m\u001b[38;5;28;43;01mTrue\u001b[39;49;00m\u001b[43m,\u001b[49m\u001b[43m \u001b[49m\u001b[43mCATE_levels\u001b[49m\u001b[43m \u001b[49m\u001b[38;5;241;43m=\u001b[39;49m\u001b[43m \u001b[49m\u001b[43mcate_levels\u001b[49m\u001b[43m)\u001b[49m\n\u001b[0;32m      8\u001b[0m Xobs \u001b[38;5;241m=\u001b[39m DGP(N, \u001b[38;5;241m0\u001b[39m,\u001b[38;5;28;01mFalse\u001b[39;00m,adversarial \u001b[38;5;241m=\u001b[39m \u001b[38;5;28;01mFalse\u001b[39;00m)\n",
      "\u001b[1;31mTypeError\u001b[0m: Nonlin_Gauss_chain() got an unexpected keyword argument 'CATE'"
     ]
    }
   ],
   "source": [
    "# Generating data\n",
    "#torch.manual_seed(1)\n",
    "N,Ntrue = 1000,10**6\n",
    "intervention  = lambda a,x : a+x*0\n",
    "a = 0\n",
    "cate_levels = torch.linspace(-4,2,100)\n",
    "Xobs_z,Xint_z = DGP(0, Ntrue ,True,intervention,[a],adversarial = False, CATE = True, CATE_levels = cate_levels)\n",
    "Xobs = DGP(N, 0,False,adversarial = False)"
   ]
  },
  {
   "cell_type": "code",
   "execution_count": null,
   "id": "49a85334-bb4e-4e09-a6de-00eccc37284c",
   "metadata": {},
   "outputs": [],
   "source": [
    "# Marginal KDE_z\n",
    "Y,Z = Xobs[:,2].view(N,1),Xobs[:,0].view(N,1)\n",
    "kernel_z = inverse_gaussian_kernel(torch.ones(1,requires_grad = True),1)\n",
    "KDE_z = KDE(kernel_z)\n",
    "losses = KDE_z.optimise(Z,0.1,100,1000,0.01,5, reg = 1e-10);\n",
    "\n",
    "# Marginal KDE_x\n",
    "X = Xobs[:,1].view(N,1)\n",
    "kernel_x = inverse_gaussian_kernel(torch.ones(1,requires_grad = True),1)\n",
    "KDE_x = KDE(kernel_x)\n",
    "losses = KDE_x.optimise(X,0.1,100,1000,0.01,5, reg = 1e-10);\n",
    "\n",
    "# Joint KDE \n",
    "kernel_joint = inverse_gaussian_kernel(torch.ones(2,requires_grad = True),1)\n",
    "KDE_joint = KDE(kernel_joint)\n",
    "losses = KDE_joint.optimise(Xobs,0.1,100,1000,0.01,5, reg = 1e-10);"
   ]
  },
  {
   "cell_type": "code",
   "execution_count": null,
   "id": "32f38951-6db0-4745-ab92-910ab3697337",
   "metadata": {},
   "outputs": [],
   "source": [
    "# NW CV \n",
    "Y,Z = Xobs[:,2].view(N,1),Xobs[:,0].view(N,1)\n",
    "kernel_z = inverse_gaussian_kernel(torch.ones(1,requires_grad = True),1)\n",
    "KDE_NW = KDE(kernel_z)\n",
    "losses = KDE_NW.optimise(torch.column_stack((Y,Z)),0.1,100,1000,0.01,5, reg = 1e-10, Loss = \"CV\");"
   ]
  },
  {
   "cell_type": "code",
   "execution_count": null,
   "id": "3d1ee4ff-a7c2-4727-8baf-e31bf08b2665",
   "metadata": {},
   "outputs": [],
   "source": [
    "KDE_joint.kernel.lengthscale,KDE_z.kernel.lengthscale,KDE_x.kernel.lengthscale,KDE_NW.kernel.lengthscale"
   ]
  },
  {
   "cell_type": "code",
   "execution_count": null,
   "id": "6f610f5c-1791-471f-95cf-2cc2ec60821f",
   "metadata": {},
   "outputs": [],
   "source": [
    "# CLS estimation for every ind set\n",
    "parents = [[],[0],[1]]\n",
    "models = []\n",
    "cocycle_loss = \"CMMD_M_RFF\"\n",
    "RFF_features,nfeat = True,100\n",
    "batch_size = 1024\n",
    "maxiter = 5000\n",
    "miniter = 1000 # 1*int(N*(N-1)/2/batch_size)\n",
    "train_val_split = 0.8\n",
    "med_heuristic = True\n",
    "ntrain = int(train_val_split*N)\n",
    "for i in range(len(parents)):\n",
    "    if len(parents[i])>0:\n",
    "        \n",
    "        # Getting relevant variables from graph\n",
    "        index_x,index_y = parents[i],[i]\n",
    "        X,Y = Xobs[:,index_x].view(N,len(index_x)),Xobs[:,index_y].view(N,len(index_y))\n",
    "        Xtrain,Ytrain,Xval,Yval = X[:ntrain],Y[:ntrain],X[ntrain:],Y[ntrain:]\n",
    "        \n",
    "        # Data Preprocessing\n",
    "        if cocycle_loss in [\"JMMD\",\"CMR\"]:\n",
    "            inputs_train,outputs_train, = preprocess(independent_pairs = False,asymmetric_pairs = True)(Xtrain,Ytrain)\n",
    "            if train_val_split != 1:\n",
    "                inputs_val,outputs_val, = preprocess(independent_pairs = False,asymmetric_pairs = True)(Xval,Yval)\n",
    "            else:\n",
    "                inputs_val,outputs_val, = [],[]      \n",
    "        else:\n",
    "            if train_val_split == 1:\n",
    "                inputs_train,outputs_train, inputs_val,outputs_val = X,Y,[],[]\n",
    "            else:\n",
    "                inputs_train,outputs_train, inputs_val,outputs_val = Xtrain,Ytrain,Xval,Yval\n",
    "        \n",
    "        # Getting loss function\n",
    "        loss_fn = loss(loss_fn = cocycle_loss,kernel = [gaussian_kernel(torch.ones(1),1),gaussian_kernel(torch.ones(1),1)])\n",
    "        if med_heuristic:\n",
    "            loss_fn.median_heuristic(inputs_train,outputs_train, subsamples = 10**4)\n",
    "        \n",
    "        # Getting RFF features\n",
    "        if RFF_features:\n",
    "            loss_fn.get_RFF_features(nfeat)\n",
    "        \n",
    "        # Defining and training model\n",
    "        conditioner = NN_Conditioner(width = 128, layers = 2, input_dims =  len(index_x), output_dims = len(index_y) ,bias = False)\n",
    "        transformer = Shift_Transformer()\n",
    "        model = cocycle_model([conditioner],transformer)\n",
    "        model = train(model).optimise(loss_fn,inputs_train,outputs_train,inputs_val,outputs_val, batch_size = batch_size, conditioner_learn_rate = 1e-4,\n",
    "                                      transformer_learn_rate = 1e-3,print_ = True,plot = False, miniter = miniter,maxiter = maxiter, val_tol = 1e-3, scheduler = True)\n",
    "        models.append(model)\n",
    "    else:\n",
    "        models.append([])"
   ]
  },
  {
   "cell_type": "code",
   "execution_count": null,
   "id": "f01a9444-c060-40f7-a4f2-92de75339b4d",
   "metadata": {},
   "outputs": [],
   "source": [
    "# True model construction\n",
    "true_models = []\n",
    "parents = [[],[0],[1]]\n",
    "for i in range(len(parents)):\n",
    "    true_models.append(cocycle_model([True_Conditioner(i)],Shift_Transformer()))\n",
    "    \n",
    "ccdagm_true = CCDAGM(models,parents)\n",
    "\n",
    "EY_z_hat = torch.zeros(len(cate_levels)) \n",
    "for i in range(len(cate_levels)):\n",
    "    Xt,Xint = ccdagm_true.interventional_dist_sample(Xobs,intervention,[cate_levels[i],\"id\",\"id\"],10**5, uniform_subsample = False)\n",
    "    EY_z_hat[i] = Xint[:,2].mean()"
   ]
  },
  {
   "cell_type": "code",
   "execution_count": 27,
   "id": "e0867617-4653-4a94-9aac-ac5f4619ca1c",
   "metadata": {},
   "outputs": [
    {
     "data": {
      "image/png": "[encoded data removed]",
      "text/plain": [
       "<Figure size 432x288 with 1 Axes>"
      ]
     },
     "metadata": {
      "needs_background": "light"
     },
     "output_type": "display_data"
    }
   ],
   "source": [
    "# Computing true conditional expectation\n",
    "EY_z = torch.ones(len(Xobs_z))\n",
    "for i in range(len(Xobs_z)):\n",
    "    EY_z[i] = Xobs_z[i][:,2].mean()   \n",
    "Ztest = cate_levels[:,None]\n",
    "K = KDE_z.kernel.get_gram(Ztest,Z) \n",
    "Xpred = (K @ X)/K.sum(1)[:,None]\n",
    "Kpred = KDE_x.kernel.get_gram(Xpred,X)\n",
    "Ypred_conditional = (Kpred @ Y)/Kpred.sum(1)[:,None]\n",
    "Ypred_z = (K @ Y)/K.sum(1)[:,None]\n",
    "plt.scatter(Z.T,Y.T, s = 10)\n",
    "plt.plot(Ztest[:,0],EY_z, color = \"black\");\n",
    "plt.plot(Ztest[:,0],EY_z_hat, color = \"orange\");\n",
    "plt.plot(Ztest,Ypred_z.detach(), color = \"green\");\n",
    "#plt.plot(Ztest,Ypred_conditional.detach());"
   ]
  }
 ],
 "metadata": {
  "kernelspec": {
   "display_name": "Python 3 (ipykernel)",
   "language": "python",
   "name": "python3"
  },
  "language_info": {
   "codemirror_mode": {
    "name": "ipython",
    "version": 3
   },
   "file_extension": ".py",
   "mimetype": "text/x-python",
   "name": "python",
   "nbconvert_exporter": "python",
   "pygments_lexer": "ipython3",
   "version": "3.9.12"
  }
 },
 "nbformat": 4,
 "nbformat_minor": 5
}
